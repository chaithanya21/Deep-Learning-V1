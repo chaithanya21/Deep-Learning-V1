{
 "cells": [
  {
   "cell_type": "markdown",
   "metadata": {},
   "source": [
    "# Generative Adversarial Network\n",
    "\n",
    "In this notebook, we'll be building a generative adversarial network (GAN) trained on the MNIST dataset. From this, we'll be able to generate new handwritten digits!\n",
    "\n",
    "GANs were [first reported on](https://arxiv.org/abs/1406.2661) in 2014 from Ian Goodfellow and others in Yoshua Bengio's lab. Since then, GANs have exploded in popularity. Here are a few examples to check out:\n",
    "\n",
    "* [Pix2Pix](https://affinelayer.com/pixsrv/) \n",
    "* [CycleGAN & Pix2Pix in PyTorch, Jun-Yan Zhu](https://github.com/junyanz/pytorch-CycleGAN-and-pix2pix)\n",
    "* [A list of generative models](https://github.com/wiseodd/generative-models)\n",
    "\n",
    "The idea behind GANs is that you have two networks, a generator $G$ and a discriminator $D$, competing against each other. The generator makes \"fake\" data to pass to the discriminator. The discriminator also sees real training data and predicts if the data it's received is real or fake. \n",
    "> * The generator is trained to fool the discriminator, it wants to output data that looks _as close as possible_ to real, training data. \n",
    "* The discriminator is a classifier that is trained to figure out which data is real and which is fake. \n",
    "\n",
    "What ends up happening is that the generator learns to make data that is indistinguishable from real data to the discriminator.\n",
    "\n",
    "<img src='assets/gan_pipeline.png' width=70% />\n",
    "\n",
    "The general structure of a GAN is shown in the diagram above, using MNIST images as data. The latent sample is a random vector that the generator uses to construct its fake images. This is often called a **latent vector** and that vector space is called **latent space**. As the generator trains, it figures out how to map latent vectors to recognizable images that can fool the discriminator.\n",
    "\n",
    "If you're interested in generating only new images, you can throw out the discriminator after training. In this notebook, I'll show you how to define and train these adversarial networks in PyTorch and generate new images!"
   ]
  },
  {
   "cell_type": "code",
   "execution_count": 1,
   "metadata": {},
   "outputs": [],
   "source": [
    "%matplotlib inline\n",
    "\n",
    "import numpy as np\n",
    "import torch\n",
    "import matplotlib.pyplot as plt"
   ]
  },
  {
   "cell_type": "code",
   "execution_count": 2,
   "metadata": {},
   "outputs": [],
   "source": [
    "from torchvision import datasets,transforms"
   ]
  },
  {
   "cell_type": "code",
   "execution_count": 3,
   "metadata": {},
   "outputs": [
    {
     "name": "stdout",
     "output_type": "stream",
     "text": [
      "Downloading http://yann.lecun.com/exdb/mnist/train-images-idx3-ubyte.gz\n",
      "Downloading http://yann.lecun.com/exdb/mnist/train-labels-idx1-ubyte.gz\n",
      "Downloading http://yann.lecun.com/exdb/mnist/t10k-images-idx3-ubyte.gz\n",
      "Downloading http://yann.lecun.com/exdb/mnist/t10k-labels-idx1-ubyte.gz\n",
      "Processing...\n",
      "Done!\n"
     ]
    }
   ],
   "source": [
    "num_workers=0\n",
    "batch_size=64\n",
    "\n",
    "transform=transforms.Compose([transforms.ToTensor()])\n",
    "trainset=datasets.MNIST('data',download=True,train=True,transform=transform)"
   ]
  },
  {
   "cell_type": "code",
   "execution_count": 4,
   "metadata": {},
   "outputs": [],
   "source": [
    "#Batching Into Trainloader\n",
    "trainloader=torch.utils.data.DataLoader(trainset,batch_size=batch_size,shuffle=True)"
   ]
  },
  {
   "cell_type": "code",
   "execution_count": 16,
   "metadata": {},
   "outputs": [],
   "source": [
    "# obtain one batch of training images\n",
    "Images,Labels=next(iter(trainloader))"
   ]
  },
  {
   "cell_type": "code",
   "execution_count": 17,
   "metadata": {},
   "outputs": [
    {
     "data": {
      "text/plain": [
       "torch.Size([64, 1, 28, 28])"
      ]
     },
     "execution_count": 17,
     "metadata": {},
     "output_type": "execute_result"
    }
   ],
   "source": [
    "Images.shape"
   ]
  },
  {
   "cell_type": "code",
   "execution_count": 18,
   "metadata": {},
   "outputs": [
    {
     "data": {
      "text/plain": [
       "torch.Tensor"
      ]
     },
     "execution_count": 18,
     "metadata": {},
     "output_type": "execute_result"
    }
   ],
   "source": [
    "type(Images)"
   ]
  },
  {
   "cell_type": "code",
   "execution_count": 19,
   "metadata": {},
   "outputs": [],
   "source": [
    "Images=Images.numpy()"
   ]
  },
  {
   "cell_type": "code",
   "execution_count": 11,
   "metadata": {},
   "outputs": [
    {
     "data": {
      "text/plain": [
       "(64, 1, 28, 28)"
      ]
     },
     "execution_count": 11,
     "metadata": {},
     "output_type": "execute_result"
    }
   ],
   "source": [
    "Images.shape"
   ]
  },
  {
   "cell_type": "code",
   "execution_count": 20,
   "metadata": {},
   "outputs": [],
   "source": [
    "# get one image from the batch\n",
    "img=np.squeeze(Images[0])"
   ]
  },
  {
   "cell_type": "code",
   "execution_count": 21,
   "metadata": {},
   "outputs": [
    {
     "data": {
      "text/plain": [
       "<matplotlib.image.AxesImage at 0x7ffa1762e470>"
      ]
     },
     "execution_count": 21,
     "metadata": {},
     "output_type": "execute_result"
    },
    {
     "data": {
      "image/png": "[encoded data removed]",
      "text/plain": [
       "<matplotlib.figure.Figure at 0x7ffa176e7390>"
      ]
     },
     "metadata": {
      "needs_background": "light"
     },
     "output_type": "display_data"
    }
   ],
   "source": [
    "fig = plt.figure(figsize = (3,3)) \n",
    "ax = fig.add_subplot(111)\n",
    "ax.imshow(img, cmap='gray')"
   ]
  },
  {
   "cell_type": "markdown",
   "metadata": {},
   "source": [
    "---\n",
    "# Define the Model\n",
    "\n",
    "A GAN is comprised of two adversarial networks, a discriminator and a generator."
   ]
  },
  {
   "cell_type": "markdown",
   "metadata": {},
   "source": [
    "## Discriminator\n",
    "\n",
    "The discriminator network is going to be a pretty typical linear classifier. To make this network a universal function approximator, we'll need at least one hidden layer, and these hidden layers should have one key attribute:\n",
    "> All hidden layers will have a [Leaky ReLu](https://pytorch.org/docs/stable/nn.html#torch.nn.LeakyReLU) activation function applied to their outputs.\n",
    "\n",
    "<img src='assets/gan_network.png' width=70% />\n",
    "\n",
    "#### Leaky ReLu\n",
    "\n",
    "We should use a leaky ReLU to allow gradients to flow backwards through the layer unimpeded. A leaky ReLU is like a normal ReLU, except that there is a small non-zero output for negative input values.\n",
    "\n",
    "<img src='assets/leaky_relu.png' width=40% />\n",
    "\n",
    "#### Sigmoid Output\n",
    "\n",
    "We'll also take the approach of using a more numerically stable loss function on the outputs. Recall that we want the discriminator to output a value 0-1 indicating whether an image is _real or fake_. \n",
    "> We will ultimately use [BCEWithLogitsLoss](https://pytorch.org/docs/stable/nn.html#bcewithlogitsloss), which combines a `sigmoid` activation function **and** and binary cross entropy loss in one function. \n",
    "\n",
    "So, our final output layer should not have any activation function applied to it."
   ]
  },
  {
   "cell_type": "code",
   "execution_count": 22,
   "metadata": {},
   "outputs": [],
   "source": [
    "import torch.nn as nn\n",
    "import torch.nn.functional as F"
   ]
  },
  {
   "cell_type": "code",
   "execution_count": 30,
   "metadata": {},
   "outputs": [],
   "source": [
    "class Discriminator(nn.Module):\n",
    "\n",
    "    def __init__(self, input_size, hidden_dim, output_size):\n",
    "        super(Discriminator, self).__init__()\n",
    "        \n",
    "        # define all layers\n",
    "        self.fc1=nn.Linear(input_size,hidden_dim*4)\n",
    "        self.fc2=nn.Linear(hidden_dim*4,hidden_dim*2)\n",
    "        self.fc3=nn.Linear(hidden_dim*2,hidden_dim)\n",
    "        \n",
    "        #Final Fully Connected Layer\n",
    "        self.fc4=nn.Linear(hidden_dim,output_size)\n",
    "        \n",
    "        #Dropout\n",
    "        self.droput=nn.Dropout(0.3)\n",
    "        \n",
    "        \n",
    "    def forward(self, x):\n",
    "        # flatten image\n",
    "        x=x.view(x.shape[0],-1)\n",
    "        \n",
    "        # pass x through all layers\n",
    "        x=F.leaky_relu(self.fc1(x),0.2)\n",
    "        x=self.droput(x)\n",
    "        x=F.leaky_relu(self.fc2(x),0.2)\n",
    "        x=self.droput(x)\n",
    "        x=F.leaky_relu(self.fc3(x),0.2)\n",
    "        \n",
    "        x=self.droput(x)\n",
    "        x=self.fc4(x)\n",
    "        # apply leaky relu activation to all hidden layers\n",
    "\n",
    "        return x"
   ]
  },
  {
   "cell_type": "markdown",
   "metadata": {},
   "source": [
    "## Generator\n",
    "\n",
    "The generator network will be almost exactly the same as the discriminator network, except that we're applying a [tanh activation function](https://pytorch.org/docs/stable/nn.html#tanh) to our output layer.\n",
    "\n",
    "#### tanh Output\n",
    "The generator has been found to perform the best with $tanh$ for the generator output, which scales the output to be between -1 and 1, instead of 0 and 1. \n",
    "\n",
    "<img src='assets/tanh_fn.png' width=40% />\n",
    "\n",
    "Recall that we also want these outputs to be comparable to the *real* input pixel values, which are read in as normalized values between 0 and 1. \n",
    "> So, we'll also have to **scale our real input images to have pixel values between -1 and 1** when we train the discriminator. \n",
    "\n",
    "I'll do this in the training loop, later on."
   ]
  },
  {
   "cell_type": "code",
   "execution_count": 31,
   "metadata": {},
   "outputs": [],
   "source": [
    "class Generator(nn.Module):\n",
    "\n",
    "    def __init__(self, input_size, hidden_dim, output_size):\n",
    "        super(Generator, self).__init__()\n",
    "        \n",
    "        # define all layers\n",
    "        self.fc1=nn.Linear(input_size,hidden_dim)\n",
    "        self.fc2=nn.Linear(hidden_dim,hidden_dim*2)\n",
    "        self.fc3=nn.Linear(hidden_dim*2,hidden_dim*4)\n",
    "        self.fc4=nn.Linear(hidden_dim*4,output_size)\n",
    "        self.droput=nn.Dropout(0.3)\n",
    "\n",
    "    def forward(self, x):\n",
    "        # pass x through all layers\n",
    "        x=F.leaky_relu(self.fc1(x),0.2)\n",
    "        x=self.droput(x)\n",
    "        x=F.leaky_relu(self.fc2(x),0.2)\n",
    "        x=self.droput(x)\n",
    "        x=F.leaky_relu(self.fc3(x),0.2)\n",
    "        \n",
    "        x=self.droput(x)\n",
    "        x=F.tanh(self.fc4(x))\n",
    "        \n",
    "        # final layer should have tanh applied\n",
    "        \n",
    "        return x"
   ]
  },
  {
   "cell_type": "markdown",
   "metadata": {},
   "source": [
    "## Model hyperparameters"
   ]
  },
  {
   "cell_type": "code",
   "execution_count": 34,
   "metadata": {},
   "outputs": [],
   "source": [
    "# Discriminator hyperparams\n",
    "\n",
    "# Size of input image to discriminator (28*28)\n",
    "input_size = 784\n",
    "# Size of discriminator output (real or fake)#Output size is one\n",
    "d_output_size = 1\n",
    "# Size of *last* hidden layer in the discriminator\n",
    "d_hidden_size = 32\n",
    "\n",
    "# Generator hyperparams\n",
    "\n",
    "# Size of latent vector to give to generator\n",
    "z_size =100\n",
    "# Size of discriminator output (generated image)\n",
    "g_output_size = 28*28\n",
    "# Size of *first* hidden layer in the generator\n",
    "g_hidden_size = 32"
   ]
  },
  {
   "cell_type": "markdown",
   "metadata": {},
   "source": [
    "## Build complete network\n",
    "\n",
    "Now we're instantiating the discriminator and generator from the classes defined above. Make sure you've passed in the correct input arguments."
   ]
  },
  {
   "cell_type": "code",
   "execution_count": 35,
   "metadata": {},
   "outputs": [
    {
     "name": "stdout",
     "output_type": "stream",
     "text": [
      "Discriminator(\n",
      "  (fc1): Linear(in_features=784, out_features=128, bias=True)\n",
      "  (fc2): Linear(in_features=128, out_features=64, bias=True)\n",
      "  (fc3): Linear(in_features=64, out_features=32, bias=True)\n",
      "  (fc4): Linear(in_features=32, out_features=1, bias=True)\n",
      "  (droput): Dropout(p=0.3)\n",
      ")\n",
      "\n",
      "Generator(\n",
      "  (fc1): Linear(in_features=100, out_features=32, bias=True)\n",
      "  (fc2): Linear(in_features=32, out_features=64, bias=True)\n",
      "  (fc3): Linear(in_features=64, out_features=128, bias=True)\n",
      "  (fc4): Linear(in_features=128, out_features=784, bias=True)\n",
      "  (droput): Dropout(p=0.3)\n",
      ")\n"
     ]
    }
   ],
   "source": [
    "# instantiate discriminator and generator\n",
    "D = Discriminator(input_size, d_hidden_size, d_output_size)\n",
    "G = Generator(z_size, g_hidden_size, g_output_size)\n",
    "\n",
    "# check that they are as you expect\n",
    "print(D)\n",
    "print()\n",
    "print(G)"
   ]
  },
  {
   "cell_type": "markdown",
   "metadata": {},
   "source": [
    "---\n",
    "## Discriminator and Generator Losses\n",
    "\n",
    "Now we need to calculate the losses. \n",
    "\n",
    "### Discriminator Losses\n",
    "\n",
    "> * For the discriminator, the total loss is the sum of the losses for real and fake images, `d_loss = d_real_loss + d_fake_loss`. \n",
    "* Remember that we want the discriminator to output 1 for real images and 0 for fake images, so we need to set up the losses to reflect that.\n",
    "\n",
    "<img src='assets/gan_pipeline.png' width=70% />\n",
    "\n",
    "The losses will by binary cross entropy loss with logits, which we can get with [BCEWithLogitsLoss](https://pytorch.org/docs/stable/nn.html#bcewithlogitsloss). This combines a `sigmoid` activation function **and** and binary cross entropy loss in one function.\n",
    "\n",
    "For the real images, we want `D(real_images) = 1`. That is, we want the discriminator to classify the the real images with a label = 1, indicating that these are real. To help the discriminator generalize better, the labels are **reduced a bit from 1.0 to 0.9**. For this, we'll use the parameter `smooth`; if True, then we should smooth our labels. In PyTorch, this looks like `labels = torch.ones(size) * 0.9`\n",
    "\n",
    "The discriminator loss for the fake data is similar. We want `D(fake_images) = 0`, where the fake images are the _generator output_, `fake_images = G(z)`. \n",
    "\n",
    "### Generator Loss\n",
    "\n",
    "The generator loss will look similar only with flipped labels. The generator's goal is to get `D(fake_images) = 1`. In this case, the labels are **flipped** to represent that the generator is trying to fool the discriminator into thinking that the images it generates (fakes) are real!"
   ]
  },
  {
   "cell_type": "code",
   "execution_count": 36,
   "metadata": {},
   "outputs": [],
   "source": [
    "# Calculate losses\n",
    "def real_loss(D_out, smooth=False):\n",
    "    # compare logits to real labels\n",
    "    # smooth labels if smooth=True\n",
    "    batch_size=D_out.size(0)\n",
    "    if smooth:\n",
    "        labels=torch.ones(batch_size)*0.9\n",
    "    else:\n",
    "        labels=torch.ones(batch_size)\n",
    "    \n",
    "    criterion=nn.BCEWithLogitsLoss()\n",
    "    loss=criterion(D_out.squeeze(),labels)\n",
    "    return loss\n",
    "\n",
    "def fake_loss(D_out):\n",
    "    # compare logits to fake labels\n",
    "    batch_size=D_out.size(0)\n",
    "    labels=torch.zeros(batch_size)\n",
    "    criterion=nn.BCEWithLogitsLoss()\n",
    "    loss = criterion(D_out.squeeze(),labels)\n",
    "    return loss"
   ]
  },
  {
   "cell_type": "markdown",
   "metadata": {},
   "source": [
    "## Optimizers\n",
    "\n",
    "We want to update the generator and discriminator variables separately. So, we'll define two separate Adam optimizers."
   ]
  },
  {
   "cell_type": "code",
   "execution_count": 37,
   "metadata": {},
   "outputs": [],
   "source": [
    "import torch.optim as optim"
   ]
  },
  {
   "cell_type": "code",
   "execution_count": 39,
   "metadata": {
    "scrolled": true
   },
   "outputs": [],
   "source": [
    "\n",
    "\n",
    "# learning rate for optimizers\n",
    "lr = 0.002\n",
    "\n",
    "# Create optimizers for the discriminator and generator\n",
    "d_optimizer =optim.Adam(D.parameters(),lr=lr) \n",
    "g_optimizer = optim.Adam(G.parameters(),lr=lr)"
   ]
  },
  {
   "cell_type": "markdown",
   "metadata": {},
   "source": [
    "---\n",
    "## Training\n",
    "\n",
    "Training will involve alternating between training the discriminator and the generator. We'll use our functions `real_loss` and `fake_loss` to help us calculate the discriminator losses in all of the following cases.\n",
    "\n",
    "### Discriminator training\n",
    "1. Compute the discriminator loss on real, training images        \n",
    "2. Generate fake images\n",
    "3. Compute the discriminator loss on fake, generated images     \n",
    "4. Add up real and fake loss\n",
    "5. Perform backpropagation + an optimization step to update the discriminator's weights\n",
    "\n",
    "### Generator training\n",
    "1. Generate fake images\n",
    "2. Compute the discriminator loss on fake images, using **flipped** labels!\n",
    "3. Perform backpropagation + an optimization step to update the generator's weights\n",
    "\n",
    "#### Saving Samples\n",
    "\n",
    "As we train, we'll also print out some loss statistics and save some generated \"fake\" samples."
   ]
  },
  {
   "cell_type": "code",
   "execution_count": 41,
   "metadata": {
    "scrolled": true
   },
   "outputs": [
    {
     "name": "stdout",
     "output_type": "stream",
     "text": [
      "Epoch [    1/  100] | d_loss: 1.3999 | g_loss: 0.6501\n",
      "Epoch [    1/  100] | d_loss: 1.3461 | g_loss: 1.2347\n",
      "Epoch [    1/  100] | d_loss: 0.6064 | g_loss: 3.3438\n",
      "Epoch [    2/  100] | d_loss: 1.5052 | g_loss: 0.7581\n",
      "Epoch [    2/  100] | d_loss: 1.3985 | g_loss: 1.8989\n",
      "Epoch [    2/  100] | d_loss: 0.8624 | g_loss: 3.3387\n",
      "Epoch [    3/  100] | d_loss: 0.9052 | g_loss: 1.9100\n",
      "Epoch [    3/  100] | d_loss: 1.0161 | g_loss: 1.4229\n",
      "Epoch [    3/  100] | d_loss: 0.8840 | g_loss: 1.8216\n",
      "Epoch [    4/  100] | d_loss: 1.0062 | g_loss: 2.0043\n",
      "Epoch [    4/  100] | d_loss: 0.7253 | g_loss: 2.2196\n",
      "Epoch [    4/  100] | d_loss: 0.7428 | g_loss: 2.0970\n",
      "Epoch [    5/  100] | d_loss: 1.2380 | g_loss: 0.9024\n",
      "Epoch [    5/  100] | d_loss: 1.0017 | g_loss: 1.5381\n",
      "Epoch [    5/  100] | d_loss: 1.1596 | g_loss: 1.5318\n",
      "Epoch [    6/  100] | d_loss: 1.1601 | g_loss: 1.1273\n",
      "Epoch [    6/  100] | d_loss: 1.1727 | g_loss: 1.1421\n",
      "Epoch [    6/  100] | d_loss: 1.1342 | g_loss: 1.3783\n",
      "Epoch [    7/  100] | d_loss: 1.2222 | g_loss: 1.2837\n",
      "Epoch [    7/  100] | d_loss: 0.9995 | g_loss: 1.4431\n",
      "Epoch [    7/  100] | d_loss: 1.2368 | g_loss: 1.1559\n",
      "Epoch [    8/  100] | d_loss: 1.2878 | g_loss: 0.8953\n",
      "Epoch [    8/  100] | d_loss: 1.1376 | g_loss: 1.2321\n",
      "Epoch [    8/  100] | d_loss: 1.1804 | g_loss: 1.1354\n",
      "Epoch [    9/  100] | d_loss: 1.0834 | g_loss: 1.1404\n",
      "Epoch [    9/  100] | d_loss: 1.2864 | g_loss: 0.8694\n",
      "Epoch [    9/  100] | d_loss: 1.2565 | g_loss: 1.2752\n",
      "Epoch [   10/  100] | d_loss: 1.1301 | g_loss: 1.1414\n",
      "Epoch [   10/  100] | d_loss: 1.2603 | g_loss: 0.9214\n",
      "Epoch [   10/  100] | d_loss: 1.2482 | g_loss: 1.0746\n",
      "Epoch [   11/  100] | d_loss: 1.2847 | g_loss: 1.0032\n",
      "Epoch [   11/  100] | d_loss: 1.2455 | g_loss: 1.1242\n",
      "Epoch [   11/  100] | d_loss: 1.3425 | g_loss: 0.8634\n",
      "Epoch [   12/  100] | d_loss: 1.2805 | g_loss: 0.9967\n",
      "Epoch [   12/  100] | d_loss: 1.2535 | g_loss: 0.9294\n",
      "Epoch [   12/  100] | d_loss: 1.3429 | g_loss: 1.0094\n",
      "Epoch [   13/  100] | d_loss: 1.2929 | g_loss: 0.9313\n",
      "Epoch [   13/  100] | d_loss: 1.2357 | g_loss: 1.0330\n",
      "Epoch [   13/  100] | d_loss: 1.2770 | g_loss: 1.0093\n",
      "Epoch [   14/  100] | d_loss: 1.2589 | g_loss: 1.3105\n",
      "Epoch [   14/  100] | d_loss: 1.2305 | g_loss: 1.7343\n",
      "Epoch [   14/  100] | d_loss: 1.2638 | g_loss: 1.4072\n",
      "Epoch [   15/  100] | d_loss: 1.2147 | g_loss: 0.9991\n",
      "Epoch [   15/  100] | d_loss: 1.2559 | g_loss: 1.1013\n",
      "Epoch [   15/  100] | d_loss: 1.3255 | g_loss: 1.0215\n",
      "Epoch [   16/  100] | d_loss: 1.4386 | g_loss: 0.9923\n",
      "Epoch [   16/  100] | d_loss: 1.2846 | g_loss: 0.9435\n",
      "Epoch [   16/  100] | d_loss: 1.2792 | g_loss: 0.9034\n",
      "Epoch [   17/  100] | d_loss: 1.3061 | g_loss: 0.8259\n",
      "Epoch [   17/  100] | d_loss: 1.3375 | g_loss: 1.2575\n",
      "Epoch [   17/  100] | d_loss: 1.2514 | g_loss: 0.9624\n",
      "Epoch [   18/  100] | d_loss: 1.2898 | g_loss: 1.0143\n",
      "Epoch [   18/  100] | d_loss: 1.1649 | g_loss: 0.9618\n",
      "Epoch [   18/  100] | d_loss: 1.2641 | g_loss: 0.9747\n",
      "Epoch [   19/  100] | d_loss: 1.3302 | g_loss: 0.9817\n",
      "Epoch [   19/  100] | d_loss: 1.3345 | g_loss: 1.5127\n",
      "Epoch [   19/  100] | d_loss: 1.2785 | g_loss: 1.1788\n",
      "Epoch [   20/  100] | d_loss: 1.2564 | g_loss: 1.0833\n",
      "Epoch [   20/  100] | d_loss: 1.1875 | g_loss: 1.3713\n",
      "Epoch [   20/  100] | d_loss: 1.1934 | g_loss: 1.3627\n",
      "Epoch [   21/  100] | d_loss: 1.2555 | g_loss: 1.3106\n",
      "Epoch [   21/  100] | d_loss: 1.2992 | g_loss: 1.2740\n",
      "Epoch [   21/  100] | d_loss: 1.3145 | g_loss: 1.3262\n",
      "Epoch [   22/  100] | d_loss: 1.3683 | g_loss: 1.0075\n",
      "Epoch [   22/  100] | d_loss: 1.2641 | g_loss: 1.1031\n",
      "Epoch [   22/  100] | d_loss: 1.2346 | g_loss: 1.0383\n",
      "Epoch [   23/  100] | d_loss: 1.1999 | g_loss: 1.0510\n",
      "Epoch [   23/  100] | d_loss: 1.1954 | g_loss: 1.6031\n",
      "Epoch [   23/  100] | d_loss: 1.2497 | g_loss: 1.4051\n",
      "Epoch [   24/  100] | d_loss: 1.2174 | g_loss: 1.1198\n",
      "Epoch [   24/  100] | d_loss: 1.2727 | g_loss: 1.1532\n",
      "Epoch [   24/  100] | d_loss: 1.2661 | g_loss: 0.9988\n",
      "Epoch [   25/  100] | d_loss: 1.2860 | g_loss: 1.1557\n",
      "Epoch [   25/  100] | d_loss: 1.2620 | g_loss: 0.9804\n",
      "Epoch [   25/  100] | d_loss: 1.2891 | g_loss: 1.0727\n",
      "Epoch [   26/  100] | d_loss: 1.3399 | g_loss: 0.8752\n",
      "Epoch [   26/  100] | d_loss: 1.1658 | g_loss: 1.3738\n",
      "Epoch [   26/  100] | d_loss: 1.2387 | g_loss: 1.0189\n",
      "Epoch [   27/  100] | d_loss: 1.2652 | g_loss: 1.1389\n",
      "Epoch [   27/  100] | d_loss: 1.2712 | g_loss: 1.3115\n",
      "Epoch [   27/  100] | d_loss: 1.2100 | g_loss: 0.9466\n",
      "Epoch [   28/  100] | d_loss: 1.2083 | g_loss: 1.2840\n",
      "Epoch [   28/  100] | d_loss: 1.2469 | g_loss: 1.0333\n",
      "Epoch [   28/  100] | d_loss: 1.1831 | g_loss: 1.2856\n",
      "Epoch [   29/  100] | d_loss: 1.3521 | g_loss: 0.8925\n",
      "Epoch [   29/  100] | d_loss: 1.2376 | g_loss: 1.0848\n",
      "Epoch [   29/  100] | d_loss: 1.3422 | g_loss: 0.9681\n",
      "Epoch [   30/  100] | d_loss: 1.1098 | g_loss: 1.2180\n",
      "Epoch [   30/  100] | d_loss: 1.2695 | g_loss: 0.9363\n",
      "Epoch [   30/  100] | d_loss: 1.3119 | g_loss: 0.9074\n",
      "Epoch [   31/  100] | d_loss: 1.2694 | g_loss: 0.8887\n",
      "Epoch [   31/  100] | d_loss: 1.1944 | g_loss: 1.2174\n",
      "Epoch [   31/  100] | d_loss: 1.2210 | g_loss: 1.0969\n",
      "Epoch [   32/  100] | d_loss: 1.2227 | g_loss: 1.0396\n",
      "Epoch [   32/  100] | d_loss: 1.2441 | g_loss: 0.9329\n",
      "Epoch [   32/  100] | d_loss: 1.3128 | g_loss: 1.2261\n",
      "Epoch [   33/  100] | d_loss: 1.3091 | g_loss: 1.0561\n",
      "Epoch [   33/  100] | d_loss: 1.2813 | g_loss: 0.7974\n",
      "Epoch [   33/  100] | d_loss: 1.2348 | g_loss: 1.0693\n",
      "Epoch [   34/  100] | d_loss: 1.2786 | g_loss: 1.0547\n",
      "Epoch [   34/  100] | d_loss: 1.2006 | g_loss: 1.3076\n",
      "Epoch [   34/  100] | d_loss: 1.2984 | g_loss: 0.9476\n",
      "Epoch [   35/  100] | d_loss: 1.1867 | g_loss: 0.9423\n",
      "Epoch [   35/  100] | d_loss: 1.3184 | g_loss: 0.9564\n",
      "Epoch [   35/  100] | d_loss: 1.3141 | g_loss: 0.9602\n",
      "Epoch [   36/  100] | d_loss: 1.3542 | g_loss: 0.8853\n",
      "Epoch [   36/  100] | d_loss: 1.2433 | g_loss: 0.8265\n",
      "Epoch [   36/  100] | d_loss: 1.1757 | g_loss: 1.0738\n",
      "Epoch [   37/  100] | d_loss: 1.2998 | g_loss: 0.9743\n",
      "Epoch [   37/  100] | d_loss: 1.1989 | g_loss: 1.1153\n",
      "Epoch [   37/  100] | d_loss: 1.2324 | g_loss: 1.0009\n",
      "Epoch [   38/  100] | d_loss: 1.1551 | g_loss: 1.4294\n",
      "Epoch [   38/  100] | d_loss: 1.2826 | g_loss: 1.0111\n",
      "Epoch [   38/  100] | d_loss: 1.2595 | g_loss: 0.8116\n",
      "Epoch [   39/  100] | d_loss: 1.2872 | g_loss: 0.9276\n",
      "Epoch [   39/  100] | d_loss: 1.3144 | g_loss: 1.1083\n",
      "Epoch [   39/  100] | d_loss: 1.2119 | g_loss: 1.1851\n",
      "Epoch [   40/  100] | d_loss: 1.2492 | g_loss: 0.9511\n",
      "Epoch [   40/  100] | d_loss: 1.2456 | g_loss: 1.1719\n",
      "Epoch [   40/  100] | d_loss: 1.2129 | g_loss: 1.0220\n",
      "Epoch [   41/  100] | d_loss: 1.2492 | g_loss: 1.1490\n",
      "Epoch [   41/  100] | d_loss: 1.2976 | g_loss: 1.3168\n",
      "Epoch [   41/  100] | d_loss: 1.3172 | g_loss: 1.0071\n",
      "Epoch [   42/  100] | d_loss: 1.2685 | g_loss: 1.0219\n",
      "Epoch [   42/  100] | d_loss: 1.2738 | g_loss: 1.1086\n",
      "Epoch [   42/  100] | d_loss: 1.1361 | g_loss: 1.5601\n",
      "Epoch [   43/  100] | d_loss: 1.2631 | g_loss: 1.1060\n",
      "Epoch [   43/  100] | d_loss: 1.2818 | g_loss: 1.0933\n",
      "Epoch [   43/  100] | d_loss: 1.2718 | g_loss: 0.9434\n",
      "Epoch [   44/  100] | d_loss: 1.2262 | g_loss: 0.9734\n",
      "Epoch [   44/  100] | d_loss: 1.2939 | g_loss: 1.0961\n",
      "Epoch [   44/  100] | d_loss: 1.3537 | g_loss: 0.9134\n",
      "Epoch [   45/  100] | d_loss: 1.1515 | g_loss: 1.1434\n",
      "Epoch [   45/  100] | d_loss: 1.2993 | g_loss: 1.1562\n",
      "Epoch [   45/  100] | d_loss: 1.2501 | g_loss: 1.0572\n",
      "Epoch [   46/  100] | d_loss: 1.2545 | g_loss: 1.1152\n",
      "Epoch [   46/  100] | d_loss: 1.2731 | g_loss: 1.0037\n",
      "Epoch [   46/  100] | d_loss: 1.3156 | g_loss: 1.1495\n",
      "Epoch [   47/  100] | d_loss: 1.2201 | g_loss: 1.0592\n",
      "Epoch [   47/  100] | d_loss: 1.1982 | g_loss: 1.2297\n",
      "Epoch [   47/  100] | d_loss: 1.2307 | g_loss: 1.6289\n",
      "Epoch [   48/  100] | d_loss: 1.2666 | g_loss: 0.9474\n",
      "Epoch [   48/  100] | d_loss: 1.2656 | g_loss: 0.9675\n",
      "Epoch [   48/  100] | d_loss: 1.2278 | g_loss: 1.1930\n",
      "Epoch [   49/  100] | d_loss: 1.2824 | g_loss: 0.9859\n",
      "Epoch [   49/  100] | d_loss: 1.1814 | g_loss: 1.3211\n",
      "Epoch [   49/  100] | d_loss: 1.2333 | g_loss: 1.2207\n",
      "Epoch [   50/  100] | d_loss: 1.2499 | g_loss: 1.0888\n",
      "Epoch [   50/  100] | d_loss: 1.1621 | g_loss: 1.1546\n",
      "Epoch [   50/  100] | d_loss: 1.3153 | g_loss: 0.9794\n",
      "Epoch [   51/  100] | d_loss: 1.3168 | g_loss: 1.0415\n",
      "Epoch [   51/  100] | d_loss: 1.2700 | g_loss: 1.0888\n"
     ]
    },
    {
     "name": "stdout",
     "output_type": "stream",
     "text": [
      "Epoch [   51/  100] | d_loss: 1.2723 | g_loss: 0.9235\n",
      "Epoch [   52/  100] | d_loss: 1.2391 | g_loss: 0.8965\n",
      "Epoch [   52/  100] | d_loss: 1.3094 | g_loss: 0.8580\n",
      "Epoch [   52/  100] | d_loss: 1.3149 | g_loss: 1.1203\n",
      "Epoch [   53/  100] | d_loss: 1.1401 | g_loss: 1.1619\n",
      "Epoch [   53/  100] | d_loss: 1.2849 | g_loss: 0.9518\n",
      "Epoch [   53/  100] | d_loss: 1.2290 | g_loss: 1.0924\n",
      "Epoch [   54/  100] | d_loss: 1.2740 | g_loss: 0.9525\n",
      "Epoch [   54/  100] | d_loss: 1.3823 | g_loss: 0.9958\n",
      "Epoch [   54/  100] | d_loss: 1.2904 | g_loss: 1.1027\n",
      "Epoch [   55/  100] | d_loss: 1.2642 | g_loss: 0.9045\n",
      "Epoch [   55/  100] | d_loss: 1.3031 | g_loss: 0.8944\n",
      "Epoch [   55/  100] | d_loss: 1.2500 | g_loss: 1.0051\n",
      "Epoch [   56/  100] | d_loss: 1.2394 | g_loss: 0.9491\n",
      "Epoch [   56/  100] | d_loss: 1.1378 | g_loss: 1.3222\n",
      "Epoch [   56/  100] | d_loss: 1.1602 | g_loss: 1.0867\n",
      "Epoch [   57/  100] | d_loss: 1.2591 | g_loss: 1.0162\n",
      "Epoch [   57/  100] | d_loss: 1.2444 | g_loss: 1.0867\n",
      "Epoch [   57/  100] | d_loss: 1.2582 | g_loss: 1.0493\n",
      "Epoch [   58/  100] | d_loss: 1.1716 | g_loss: 1.9136\n",
      "Epoch [   58/  100] | d_loss: 1.1911 | g_loss: 1.2545\n",
      "Epoch [   58/  100] | d_loss: 1.3634 | g_loss: 0.9478\n",
      "Epoch [   59/  100] | d_loss: 1.2477 | g_loss: 1.2283\n",
      "Epoch [   59/  100] | d_loss: 1.2839 | g_loss: 1.0984\n",
      "Epoch [   59/  100] | d_loss: 1.2154 | g_loss: 1.0742\n",
      "Epoch [   60/  100] | d_loss: 1.3186 | g_loss: 1.0557\n",
      "Epoch [   60/  100] | d_loss: 1.3078 | g_loss: 1.1387\n",
      "Epoch [   60/  100] | d_loss: 1.3048 | g_loss: 1.0253\n",
      "Epoch [   61/  100] | d_loss: 1.2436 | g_loss: 1.5179\n",
      "Epoch [   61/  100] | d_loss: 1.3058 | g_loss: 1.6842\n",
      "Epoch [   61/  100] | d_loss: 1.2707 | g_loss: 0.9880\n",
      "Epoch [   62/  100] | d_loss: 1.2462 | g_loss: 1.1217\n",
      "Epoch [   62/  100] | d_loss: 1.2208 | g_loss: 1.2266\n",
      "Epoch [   62/  100] | d_loss: 1.4013 | g_loss: 1.4584\n",
      "Epoch [   63/  100] | d_loss: 1.2844 | g_loss: 0.9170\n",
      "Epoch [   63/  100] | d_loss: 1.3418 | g_loss: 0.9764\n",
      "Epoch [   63/  100] | d_loss: 1.2013 | g_loss: 1.2783\n",
      "Epoch [   64/  100] | d_loss: 1.1742 | g_loss: 1.2635\n",
      "Epoch [   64/  100] | d_loss: 1.1882 | g_loss: 1.5007\n",
      "Epoch [   64/  100] | d_loss: 1.2638 | g_loss: 0.9993\n",
      "Epoch [   65/  100] | d_loss: 1.3883 | g_loss: 1.0762\n",
      "Epoch [   65/  100] | d_loss: 1.3215 | g_loss: 1.1052\n",
      "Epoch [   65/  100] | d_loss: 1.1971 | g_loss: 1.3510\n",
      "Epoch [   66/  100] | d_loss: 1.2216 | g_loss: 0.9103\n",
      "Epoch [   66/  100] | d_loss: 1.2597 | g_loss: 1.0480\n",
      "Epoch [   66/  100] | d_loss: 1.2436 | g_loss: 1.3229\n",
      "Epoch [   67/  100] | d_loss: 1.2477 | g_loss: 1.0244\n",
      "Epoch [   67/  100] | d_loss: 1.3282 | g_loss: 0.8971\n",
      "Epoch [   67/  100] | d_loss: 1.2541 | g_loss: 0.9342\n",
      "Epoch [   68/  100] | d_loss: 1.3392 | g_loss: 0.9844\n",
      "Epoch [   68/  100] | d_loss: 1.2401 | g_loss: 0.9937\n",
      "Epoch [   68/  100] | d_loss: 1.3604 | g_loss: 1.0015\n",
      "Epoch [   69/  100] | d_loss: 1.2382 | g_loss: 1.0933\n",
      "Epoch [   69/  100] | d_loss: 1.2226 | g_loss: 1.0656\n",
      "Epoch [   69/  100] | d_loss: 1.2032 | g_loss: 1.2994\n",
      "Epoch [   70/  100] | d_loss: 1.3322 | g_loss: 1.0728\n",
      "Epoch [   70/  100] | d_loss: 1.3182 | g_loss: 1.1758\n",
      "Epoch [   70/  100] | d_loss: 1.3201 | g_loss: 0.9824\n",
      "Epoch [   71/  100] | d_loss: 1.3179 | g_loss: 1.2623\n",
      "Epoch [   71/  100] | d_loss: 1.2967 | g_loss: 1.1615\n",
      "Epoch [   71/  100] | d_loss: 1.2417 | g_loss: 1.0832\n",
      "Epoch [   72/  100] | d_loss: 1.2913 | g_loss: 1.0599\n",
      "Epoch [   72/  100] | d_loss: 1.1567 | g_loss: 1.2413\n",
      "Epoch [   72/  100] | d_loss: 1.1705 | g_loss: 1.0544\n",
      "Epoch [   73/  100] | d_loss: 1.2644 | g_loss: 1.1241\n",
      "Epoch [   73/  100] | d_loss: 1.2488 | g_loss: 0.9133\n",
      "Epoch [   73/  100] | d_loss: 1.3147 | g_loss: 0.9608\n",
      "Epoch [   74/  100] | d_loss: 1.1967 | g_loss: 1.0211\n",
      "Epoch [   74/  100] | d_loss: 1.3619 | g_loss: 1.0112\n",
      "Epoch [   74/  100] | d_loss: 1.1905 | g_loss: 1.3162\n",
      "Epoch [   75/  100] | d_loss: 1.2423 | g_loss: 1.1876\n",
      "Epoch [   75/  100] | d_loss: 1.3580 | g_loss: 0.9696\n",
      "Epoch [   75/  100] | d_loss: 1.2255 | g_loss: 1.4025\n",
      "Epoch [   76/  100] | d_loss: 1.2553 | g_loss: 1.5637\n",
      "Epoch [   76/  100] | d_loss: 1.2424 | g_loss: 1.2438\n",
      "Epoch [   76/  100] | d_loss: 1.1937 | g_loss: 1.1566\n",
      "Epoch [   77/  100] | d_loss: 1.2674 | g_loss: 1.2641\n",
      "Epoch [   77/  100] | d_loss: 1.3122 | g_loss: 1.1929\n",
      "Epoch [   77/  100] | d_loss: 1.2873 | g_loss: 1.0239\n",
      "Epoch [   78/  100] | d_loss: 1.2841 | g_loss: 1.0041\n",
      "Epoch [   78/  100] | d_loss: 1.2609 | g_loss: 1.4672\n",
      "Epoch [   78/  100] | d_loss: 1.2837 | g_loss: 1.0929\n",
      "Epoch [   79/  100] | d_loss: 1.1958 | g_loss: 1.1190\n",
      "Epoch [   79/  100] | d_loss: 1.2429 | g_loss: 1.1250\n",
      "Epoch [   79/  100] | d_loss: 1.3048 | g_loss: 1.0988\n",
      "Epoch [   80/  100] | d_loss: 1.2520 | g_loss: 1.1731\n",
      "Epoch [   80/  100] | d_loss: 1.1930 | g_loss: 1.0357\n",
      "Epoch [   80/  100] | d_loss: 1.2143 | g_loss: 1.1481\n",
      "Epoch [   81/  100] | d_loss: 1.3215 | g_loss: 0.9758\n",
      "Epoch [   81/  100] | d_loss: 1.2166 | g_loss: 1.0140\n",
      "Epoch [   81/  100] | d_loss: 1.2714 | g_loss: 0.8949\n",
      "Epoch [   82/  100] | d_loss: 1.2472 | g_loss: 1.1068\n",
      "Epoch [   82/  100] | d_loss: 1.2461 | g_loss: 1.2022\n",
      "Epoch [   82/  100] | d_loss: 1.1635 | g_loss: 1.0529\n",
      "Epoch [   83/  100] | d_loss: 1.2719 | g_loss: 1.4457\n",
      "Epoch [   83/  100] | d_loss: 1.1715 | g_loss: 1.4649\n",
      "Epoch [   83/  100] | d_loss: 1.1843 | g_loss: 1.4929\n",
      "Epoch [   84/  100] | d_loss: 1.2135 | g_loss: 1.0921\n",
      "Epoch [   84/  100] | d_loss: 1.1978 | g_loss: 1.0897\n",
      "Epoch [   84/  100] | d_loss: 1.2188 | g_loss: 1.2159\n",
      "Epoch [   85/  100] | d_loss: 1.2881 | g_loss: 0.9449\n",
      "Epoch [   85/  100] | d_loss: 1.3047 | g_loss: 1.0156\n",
      "Epoch [   85/  100] | d_loss: 1.1466 | g_loss: 1.0682\n",
      "Epoch [   86/  100] | d_loss: 1.2162 | g_loss: 1.0519\n",
      "Epoch [   86/  100] | d_loss: 1.3388 | g_loss: 0.9665\n",
      "Epoch [   86/  100] | d_loss: 1.2797 | g_loss: 1.2438\n",
      "Epoch [   87/  100] | d_loss: 1.2356 | g_loss: 1.0162\n",
      "Epoch [   87/  100] | d_loss: 1.2569 | g_loss: 1.1083\n",
      "Epoch [   87/  100] | d_loss: 1.3433 | g_loss: 1.2770\n",
      "Epoch [   88/  100] | d_loss: 1.2324 | g_loss: 1.0569\n",
      "Epoch [   88/  100] | d_loss: 1.2427 | g_loss: 1.2568\n",
      "Epoch [   88/  100] | d_loss: 1.2956 | g_loss: 1.4540\n",
      "Epoch [   89/  100] | d_loss: 1.2246 | g_loss: 1.0501\n",
      "Epoch [   89/  100] | d_loss: 1.2392 | g_loss: 1.2134\n",
      "Epoch [   89/  100] | d_loss: 1.1977 | g_loss: 0.9678\n",
      "Epoch [   90/  100] | d_loss: 1.2668 | g_loss: 0.9814\n",
      "Epoch [   90/  100] | d_loss: 1.2406 | g_loss: 1.5172\n",
      "Epoch [   90/  100] | d_loss: 1.3133 | g_loss: 1.1759\n",
      "Epoch [   91/  100] | d_loss: 1.2898 | g_loss: 1.4681\n",
      "Epoch [   91/  100] | d_loss: 1.2960 | g_loss: 1.4741\n",
      "Epoch [   91/  100] | d_loss: 1.3244 | g_loss: 1.0787\n",
      "Epoch [   92/  100] | d_loss: 1.2158 | g_loss: 1.0408\n",
      "Epoch [   92/  100] | d_loss: 1.1480 | g_loss: 1.4758\n",
      "Epoch [   92/  100] | d_loss: 1.2922 | g_loss: 0.9514\n",
      "Epoch [   93/  100] | d_loss: 1.2555 | g_loss: 0.9579\n",
      "Epoch [   93/  100] | d_loss: 1.2100 | g_loss: 0.9192\n",
      "Epoch [   93/  100] | d_loss: 1.2683 | g_loss: 0.8342\n",
      "Epoch [   94/  100] | d_loss: 1.2893 | g_loss: 1.1847\n",
      "Epoch [   94/  100] | d_loss: 1.2045 | g_loss: 1.1400\n",
      "Epoch [   94/  100] | d_loss: 1.1945 | g_loss: 1.0617\n",
      "Epoch [   95/  100] | d_loss: 1.1866 | g_loss: 0.9662\n",
      "Epoch [   95/  100] | d_loss: 1.2379 | g_loss: 1.0646\n",
      "Epoch [   95/  100] | d_loss: 1.3248 | g_loss: 1.1020\n",
      "Epoch [   96/  100] | d_loss: 1.2795 | g_loss: 1.0700\n",
      "Epoch [   96/  100] | d_loss: 1.2239 | g_loss: 1.4448\n",
      "Epoch [   96/  100] | d_loss: 1.2376 | g_loss: 0.9597\n",
      "Epoch [   97/  100] | d_loss: 1.3112 | g_loss: 1.0236\n",
      "Epoch [   97/  100] | d_loss: 1.2089 | g_loss: 1.0586\n",
      "Epoch [   97/  100] | d_loss: 1.2876 | g_loss: 0.9750\n",
      "Epoch [   98/  100] | d_loss: 1.2158 | g_loss: 1.2132\n",
      "Epoch [   98/  100] | d_loss: 1.2642 | g_loss: 1.3148\n",
      "Epoch [   98/  100] | d_loss: 1.1481 | g_loss: 1.3188\n",
      "Epoch [   99/  100] | d_loss: 1.2853 | g_loss: 1.4804\n",
      "Epoch [   99/  100] | d_loss: 1.2306 | g_loss: 1.1219\n",
      "Epoch [   99/  100] | d_loss: 1.2290 | g_loss: 1.2131\n",
      "Epoch [  100/  100] | d_loss: 1.1264 | g_loss: 1.3230\n",
      "Epoch [  100/  100] | d_loss: 1.2908 | g_loss: 1.3005\n",
      "Epoch [  100/  100] | d_loss: 1.1838 | g_loss: 1.0494\n"
     ]
    }
   ],
   "source": [
    "import pickle as pkl\n",
    "\n",
    "# training hyperparams\n",
    "num_epochs = 100\n",
    "\n",
    "# keep track of loss and generated, \"fake\" samples\n",
    "samples = []\n",
    "losses = []\n",
    "\n",
    "print_every = 400\n",
    "\n",
    "# Get some fixed data for sampling. These are images that are held\n",
    "# constant throughout training, and allow us to inspect the model's performance\n",
    "sample_size=16\n",
    "fixed_z = np.random.uniform(-1, 1, size=(sample_size, z_size))\n",
    "fixed_z = torch.from_numpy(fixed_z).float()\n",
    "\n",
    "# train the network\n",
    "D.train()\n",
    "G.train()\n",
    "for epoch in range(num_epochs):\n",
    "    \n",
    "    for batch_i, (real_images, _) in enumerate(trainloader):\n",
    "                \n",
    "        batch_size = real_images.size(0)\n",
    "        \n",
    "        ## Important rescaling step ## \n",
    "        real_images = real_images*2 - 1  # rescale input images from [0,1) to [-1, 1)\n",
    "        \n",
    "        # ============================================\n",
    "        #            TRAIN THE DISCRIMINATOR\n",
    "        # ============================================\n",
    "        \n",
    "        d_optimizer.zero_grad()\n",
    "        \n",
    "        # 1. Train with real images\n",
    "\n",
    "        # Compute the discriminator losses on real images \n",
    "        # smooth the real labels\n",
    "        D_real = D(real_images)\n",
    "        d_real_loss = real_loss(D_real, smooth=True)\n",
    "        \n",
    "        # 2. Train with fake images\n",
    "        \n",
    "        # Generate fake images\n",
    "        z = np.random.uniform(-1, 1, size=(batch_size, z_size))\n",
    "        z = torch.from_numpy(z).float()\n",
    "        fake_images = G(z)\n",
    "        \n",
    "        # Compute the discriminator losses on fake images        \n",
    "        D_fake = D(fake_images)\n",
    "        d_fake_loss = fake_loss(D_fake)\n",
    "        \n",
    "        # add up loss and perform backprop\n",
    "        d_loss = d_real_loss + d_fake_loss\n",
    "        d_loss.backward()\n",
    "        d_optimizer.step()\n",
    "        \n",
    "        \n",
    "        # =========================================\n",
    "        #            TRAIN THE GENERATOR\n",
    "        # =========================================\n",
    "        g_optimizer.zero_grad()\n",
    "        \n",
    "        # 1. Train with fake images and flipped labels\n",
    "        \n",
    "        # Generate fake images\n",
    "        z = np.random.uniform(-1, 1, size=(batch_size, z_size))\n",
    "        z = torch.from_numpy(z).float()\n",
    "        fake_images = G(z)\n",
    "        \n",
    "        # Compute the discriminator losses on fake images \n",
    "        # using flipped labels!\n",
    "        D_fake = D(fake_images)\n",
    "        g_loss = real_loss(D_fake) # use real loss to flip labels\n",
    "        \n",
    "        # perform backprop\n",
    "        g_loss.backward()\n",
    "        g_optimizer.step()\n",
    "\n",
    "        # Print some loss stats\n",
    "        if batch_i % print_every == 0:\n",
    "            # print discriminator and generator loss\n",
    "            print('Epoch [{:5d}/{:5d}] | d_loss: {:6.4f} | g_loss: {:6.4f}'.format(\n",
    "                    epoch+1, num_epochs, d_loss.item(), g_loss.item()))\n",
    "\n",
    "    \n",
    "    ## AFTER EACH EPOCH##\n",
    "    # append discriminator loss and generator loss\n",
    "    losses.append((d_loss.item(), g_loss.item()))\n",
    "    \n",
    "    # generate and save sample, fake images\n",
    "    G.eval() # eval mode for generating samples\n",
    "    samples_z = G(fixed_z)\n",
    "    samples.append(samples_z)\n",
    "    G.train() # back to train mode\n",
    "\n",
    "\n",
    "# Save training generator samples\n",
    "with open('train_samples.pkl', 'wb') as f:\n",
    "    pkl.dump(samples, f)"
   ]
  },
  {
   "cell_type": "markdown",
   "metadata": {},
   "source": [
    "## Training loss\n",
    "\n",
    "Here we'll plot the training losses for the generator and discriminator, recorded after each epoch."
   ]
  },
  {
   "cell_type": "code",
   "execution_count": 42,
   "metadata": {},
   "outputs": [
    {
     "data": {
      "text/plain": [
       "<matplotlib.legend.Legend at 0x7ffa1449cb00>"
      ]
     },
     "execution_count": 42,
     "metadata": {},
     "output_type": "execute_result"
    },
    {
     "data": {
      "image/png": "[encoded data removed]",
      "text/plain": [
       "<matplotlib.figure.Figure at 0x7ffa14520f98>"
      ]
     },
     "metadata": {
      "needs_background": "light"
     },
     "output_type": "display_data"
    }
   ],
   "source": [
    "fig, ax = plt.subplots()\n",
    "losses = np.array(losses)\n",
    "plt.plot(losses.T[0], label='Discriminator')\n",
    "plt.plot(losses.T[1], label='Generator')\n",
    "plt.title(\"Training Losses\")\n",
    "plt.legend()"
   ]
  },
  {
   "cell_type": "markdown",
   "metadata": {},
   "source": [
    "## Generator samples from training\n",
    "\n",
    "Here we can view samples of images from the generator. First we'll look at the images we saved during training."
   ]
  },
  {
   "cell_type": "code",
   "execution_count": 43,
   "metadata": {},
   "outputs": [],
   "source": [
    "# helper function for viewing a list of passed in sample images\n",
    "def view_samples(epoch, samples):\n",
    "    fig, axes = plt.subplots(figsize=(7,7), nrows=4, ncols=4, sharey=True, sharex=True)\n",
    "    for ax, img in zip(axes.flatten(), samples[epoch]):\n",
    "        img = img.detach()\n",
    "        ax.xaxis.set_visible(False)\n",
    "        ax.yaxis.set_visible(False)\n",
    "        im = ax.imshow(img.reshape((28,28)), cmap='Greys_r')"
   ]
  },
  {
   "cell_type": "code",
   "execution_count": 44,
   "metadata": {},
   "outputs": [],
   "source": [
    "# Load samples from generator, taken while training\n",
    "with open('train_samples.pkl', 'rb') as f:\n",
    "    samples = pkl.load(f)"
   ]
  },
  {
   "cell_type": "markdown",
   "metadata": {},
   "source": [
    "These are samples from the final training epoch. You can see the generator is able to reproduce numbers like 1, 7, 3, 2. Since this is just a sample, it isn't representative of the full range of images this generator can make."
   ]
  },
  {
   "cell_type": "code",
   "execution_count": 45,
   "metadata": {},
   "outputs": [
    {
     "data": {
      "image/png": "[encoded data removed]",
      "text/plain": [
       "<matplotlib.figure.Figure at 0x7ffa0e2d97f0>"
      ]
     },
     "metadata": {
      "needs_background": "light"
     },
     "output_type": "display_data"
    }
   ],
   "source": [
    "# -1 indicates final epoch's samples (the last in the list)\n",
    "view_samples(-1, samples)"
   ]
  },
  {
   "cell_type": "markdown",
   "metadata": {},
   "source": [
    "Below I'm showing the generated images as the network was training, every 10 epochs."
   ]
  },
  {
   "cell_type": "code",
   "execution_count": 46,
   "metadata": {},
   "outputs": [
    {
     "data": {
      "image/png": "[encoded data removed]",
      "text/plain": [
       "<matplotlib.figure.Figure at 0x7ffa0e028048>"
      ]
     },
     "metadata": {
      "needs_background": "light"
     },
     "output_type": "display_data"
    }
   ],
   "source": [
    "rows = 10 # split epochs into 10, so 100/10 = every 10 epochs\n",
    "cols = 6\n",
    "fig, axes = plt.subplots(figsize=(7,12), nrows=rows, ncols=cols, sharex=True, sharey=True)\n",
    "\n",
    "for sample, ax_row in zip(samples[::int(len(samples)/rows)], axes):\n",
    "    for img, ax in zip(sample[::int(len(sample)/cols)], ax_row):\n",
    "        img = img.detach()\n",
    "        ax.imshow(img.reshape((28,28)), cmap='Greys_r')\n",
    "        ax.xaxis.set_visible(False)\n",
    "        ax.yaxis.set_visible(False)"
   ]
  },
  {
   "cell_type": "markdown",
   "metadata": {},
   "source": [
    "It starts out as all noise. Then it learns to make only the center white and the rest black. You can start to see some number like structures appear out of the noise like 1s and 9s."
   ]
  },
  {
   "cell_type": "markdown",
   "metadata": {},
   "source": [
    "## Sampling from the generator\n",
    "\n",
    "We can also get completely new images from the generator by using the checkpoint we saved after training. **We just need to pass in a new latent vector $z$ and we'll get new samples**!"
   ]
  },
  {
   "cell_type": "code",
   "execution_count": 47,
   "metadata": {},
   "outputs": [
    {
     "data": {
      "image/png": "[encoded data removed]",
      "text/plain": [
       "<matplotlib.figure.Figure at 0x7ffa0d4ede48>"
      ]
     },
     "metadata": {
      "needs_background": "light"
     },
     "output_type": "display_data"
    }
   ],
   "source": [
    "# randomly generated, new latent vectors\n",
    "sample_size=16\n",
    "rand_z = np.random.uniform(-1, 1, size=(sample_size, z_size))\n",
    "rand_z = torch.from_numpy(rand_z).float()\n",
    "\n",
    "G.eval() # eval mode\n",
    "# generated samples\n",
    "rand_images = G(rand_z)\n",
    "\n",
    "# 0 indicates the first set of samples in the passed in list\n",
    "# and we only have one batch of samples, here\n",
    "view_samples(0, [rand_images])"
   ]
  },
  {
   "cell_type": "code",
   "execution_count": null,
   "metadata": {},
   "outputs": [],
   "source": []
  }
 ],
 "metadata": {
  "kernelspec": {
   "display_name": "Python 3",
   "language": "python",
   "name": "python3"
  },
  "language_info": {
   "codemirror_mode": {
    "name": "ipython",
    "version": 3
   },
   "file_extension": ".py",
   "mimetype": "text/x-python",
   "name": "python",
   "nbconvert_exporter": "python",
   "pygments_lexer": "ipython3",
   "version": "3.6.3"
  }
 },
 "nbformat": 4,
 "nbformat_minor": 2
}
