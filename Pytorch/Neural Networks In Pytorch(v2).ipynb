{
 "cells": [
  {
   "cell_type": "markdown",
   "metadata": {},
   "source": [
    "# Neural networks with PyTorch\n",
    "\n",
    "Deep learning networks tend to be massive with dozens or hundreds of layers, that's where the term \"deep\" comes from. You can build one of these deep networks using only weight matrices as we did in the previous notebook, but in general it's very cumbersome and difficult to implement. PyTorch has a nice module `nn` that provides a nice way to efficiently build large neural networks."
   ]
  },
  {
   "cell_type": "code",
   "execution_count": 10,
   "metadata": {},
   "outputs": [],
   "source": [
    "%matplotlib inline\n",
    "%config InlineBackend.figure_format = 'retina'"
   ]
  },
  {
   "cell_type": "code",
   "execution_count": 11,
   "metadata": {},
   "outputs": [],
   "source": [
    "import numpy as np\n",
    "import torch\n",
    "import matplotlib.pyplot as plt"
   ]
  },
  {
   "cell_type": "code",
   "execution_count": 12,
   "metadata": {},
   "outputs": [],
   "source": [
    "from torchvision import datasets,transforms"
   ]
  },
  {
   "cell_type": "markdown",
   "metadata": {},
   "source": [
    "Now we're going to build a larger network that can solve a (formerly) difficult problem, identifying text in an image. Here we'll use the MNIST dataset which consists of greyscale handwritten digits. Each image is 28x28 pixels, you can see a sample below\n",
    "\n",
    "<img src='assets/mnist.png'>\n",
    "\n",
    "Our goal is to build a neural network that can take one of these images and predict the digit in the image.\n",
    "\n",
    "First up, we need to get our dataset. This is provided through the `torchvision` package. The code below will download the MNIST dataset, then create training and test datasets for us. Don't worry too much about the details here, you'll learn more about this later."
   ]
  },
  {
   "cell_type": "code",
   "execution_count": 14,
   "metadata": {},
   "outputs": [],
   "source": [
    "#Nomalization of the Tensors Using transforms method\n",
    "\n",
    "transform = transforms.Compose([transforms.ToTensor(),\n",
    "                              transforms.Normalize((0.5,), (0.5,)),\n",
    "                              ])"
   ]
  },
  {
   "cell_type": "code",
   "execution_count": 15,
   "metadata": {},
   "outputs": [
    {
     "name": "stdout",
     "output_type": "stream",
     "text": [
      "Downloading http://yann.lecun.com/exdb/mnist/train-images-idx3-ubyte.gz to /home/chaithanya/.pytorch/MNIST_data/MNIST/raw/train-images-idx3-ubyte.gz\n"
     ]
    },
    {
     "data": {
      "application/vnd.jupyter.widget-view+json": {
       "model_id": "0ad49564e74d44ca875e25bc4acf4b46",
       "version_major": 2,
       "version_minor": 0
      },
      "text/plain": [
       "HBox(children=(FloatProgress(value=1.0, bar_style='info', max=1.0), HTML(value='')))"
      ]
     },
     "metadata": {},
     "output_type": "display_data"
    },
    {
     "name": "stdout",
     "output_type": "stream",
     "text": [
      "Extracting /home/chaithanya/.pytorch/MNIST_data/MNIST/raw/train-images-idx3-ubyte.gz to /home/chaithanya/.pytorch/MNIST_data/MNIST/raw\n",
      "Downloading http://yann.lecun.com/exdb/mnist/train-labels-idx1-ubyte.gz to /home/chaithanya/.pytorch/MNIST_data/MNIST/raw/train-labels-idx1-ubyte.gz\n"
     ]
    },
    {
     "data": {
      "application/vnd.jupyter.widget-view+json": {
       "model_id": "dc090c0c3e2d4e5da73edcfdb9f1effa",
       "version_major": 2,
       "version_minor": 0
      },
      "text/plain": [
       "HBox(children=(FloatProgress(value=1.0, bar_style='info', max=1.0), HTML(value='')))"
      ]
     },
     "metadata": {},
     "output_type": "display_data"
    },
    {
     "name": "stdout",
     "output_type": "stream",
     "text": [
      "Extracting /home/chaithanya/.pytorch/MNIST_data/MNIST/raw/train-labels-idx1-ubyte.gz to /home/chaithanya/.pytorch/MNIST_data/MNIST/raw\n",
      "Downloading http://yann.lecun.com/exdb/mnist/t10k-images-idx3-ubyte.gz to /home/chaithanya/.pytorch/MNIST_data/MNIST/raw/t10k-images-idx3-ubyte.gz\n"
     ]
    },
    {
     "data": {
      "application/vnd.jupyter.widget-view+json": {
       "model_id": "caedbad4e163437b831e54061922f952",
       "version_major": 2,
       "version_minor": 0
      },
      "text/plain": [
       "HBox(children=(FloatProgress(value=1.0, bar_style='info', max=1.0), HTML(value='')))"
      ]
     },
     "metadata": {},
     "output_type": "display_data"
    },
    {
     "name": "stdout",
     "output_type": "stream",
     "text": [
      "Extracting /home/chaithanya/.pytorch/MNIST_data/MNIST/raw/t10k-images-idx3-ubyte.gz to /home/chaithanya/.pytorch/MNIST_data/MNIST/raw\n",
      "Downloading http://yann.lecun.com/exdb/mnist/t10k-labels-idx1-ubyte.gz to /home/chaithanya/.pytorch/MNIST_data/MNIST/raw/t10k-labels-idx1-ubyte.gz\n"
     ]
    },
    {
     "data": {
      "application/vnd.jupyter.widget-view+json": {
       "model_id": "6182e4fecc674236a628ea875325fdb5",
       "version_major": 2,
       "version_minor": 0
      },
      "text/plain": [
       "HBox(children=(FloatProgress(value=1.0, bar_style='info', max=1.0), HTML(value='')))"
      ]
     },
     "metadata": {},
     "output_type": "display_data"
    },
    {
     "name": "stdout",
     "output_type": "stream",
     "text": [
      "Extracting /home/chaithanya/.pytorch/MNIST_data/MNIST/raw/t10k-labels-idx1-ubyte.gz to /home/chaithanya/.pytorch/MNIST_data/MNIST/raw\n",
      "Processing...\n",
      "Done!\n"
     ]
    }
   ],
   "source": [
    "trainset=datasets.MNIST('~/.pytorch/MNIST_data/', download=True, train=True, transform=transform)"
   ]
  },
  {
   "cell_type": "code",
   "execution_count": 17,
   "metadata": {},
   "outputs": [],
   "source": [
    "trainloader = torch.utils.data.DataLoader(trainset, batch_size=64, shuffle=True)"
   ]
  },
  {
   "cell_type": "code",
   "execution_count": 20,
   "metadata": {},
   "outputs": [],
   "source": [
    "testset=datasets.MNIST('~/.pytorch/MNIST_data/',download=True,train=False, transform=transform)"
   ]
  },
  {
   "cell_type": "code",
   "execution_count": 21,
   "metadata": {},
   "outputs": [
    {
     "data": {
      "text/plain": [
       "Dataset MNIST\n",
       "    Number of datapoints: 60000\n",
       "    Root location: /home/chaithanya/.pytorch/MNIST_data/\n",
       "    Split: Train\n",
       "    StandardTransform\n",
       "Transform: Compose(\n",
       "               ToTensor()\n",
       "               Normalize(mean=(0.5,), std=(0.5,))\n",
       "           )"
      ]
     },
     "execution_count": 21,
     "metadata": {},
     "output_type": "execute_result"
    }
   ],
   "source": [
    "trainset"
   ]
  },
  {
   "cell_type": "code",
   "execution_count": 22,
   "metadata": {},
   "outputs": [
    {
     "data": {
      "text/plain": [
       "Dataset MNIST\n",
       "    Number of datapoints: 10000\n",
       "    Root location: /home/chaithanya/.pytorch/MNIST_data/\n",
       "    Split: Test\n",
       "    StandardTransform\n",
       "Transform: Compose(\n",
       "               ToTensor()\n",
       "               Normalize(mean=(0.5,), std=(0.5,))\n",
       "           )"
      ]
     },
     "execution_count": 22,
     "metadata": {},
     "output_type": "execute_result"
    }
   ],
   "source": [
    "testset"
   ]
  },
  {
   "cell_type": "code",
   "execution_count": null,
   "metadata": {},
   "outputs": [],
   "source": [
    "#testloader=torch.utils.data.DataLoader(testset,batch_size=)"
   ]
  },
  {
   "cell_type": "code",
   "execution_count": 23,
   "metadata": {},
   "outputs": [],
   "source": [
    "dataiter=iter(trainloader)"
   ]
  },
  {
   "cell_type": "code",
   "execution_count": 25,
   "metadata": {},
   "outputs": [],
   "source": [
    "images,labels=dataiter.next()"
   ]
  },
  {
   "cell_type": "code",
   "execution_count": 33,
   "metadata": {},
   "outputs": [
    {
     "name": "stdout",
     "output_type": "stream",
     "text": [
      "<class 'torch.Tensor'>\n",
      "torch.Size([64, 1, 28, 28])\n",
      "torch.Size([64])\n"
     ]
    }
   ],
   "source": [
    "print(type(images))\n",
    "print(images.shape)\n",
    "print(labels.shape)"
   ]
  },
  {
   "cell_type": "code",
   "execution_count": 39,
   "metadata": {},
   "outputs": [
    {
     "data": {
      "text/plain": [
       "<matplotlib.image.AxesImage at 0x7f37ee06bcd0>"
      ]
     },
     "execution_count": 39,
     "metadata": {},
     "output_type": "execute_result"
    },
    {
     "data": {
      "image/png": "[encoded data removed]",
      "text/plain": [
       "<Figure size 432x288 with 1 Axes>"
      ]
     },
     "metadata": {
      "image/png": {
       "height": 248,
       "width": 251
      },
      "needs_background": "light"
     },
     "output_type": "display_data"
    }
   ],
   "source": [
    "plt.imshow(images[1].numpy().squeeze(),cmap='Greys_r')"
   ]
  },
  {
   "cell_type": "code",
   "execution_count": 43,
   "metadata": {},
   "outputs": [
    {
     "data": {
      "text/plain": [
       "array(9)"
      ]
     },
     "execution_count": 43,
     "metadata": {},
     "output_type": "execute_result"
    }
   ],
   "source": [
    "labels[1].numpy()"
   ]
  },
  {
   "cell_type": "markdown",
   "metadata": {},
   "source": [
    "First, let's try to build a simple network for this dataset using weight matrices and matrix multiplications. Then, we'll see how to do it using PyTorch's `nn` module which provides a much more convenient and powerful method for defining network architectures.\n",
    "\n",
    "The networks you've seen so far are called *fully-connected* or *dense* networks. Each unit in one layer is connected to each unit in the next layer. In fully-connected networks, the input to each layer must be a one-dimensional vector (which can be stacked into a 2D tensor as a batch of multiple examples). However, our images are 28x28 2D tensors, so we need to convert them into 1D vectors. Thinking about sizes, we need to convert the batch of images with shape `(64, 1, 28, 28)` to a have a shape of `(64, 784)`, 784 is 28 times 28. This is typically called *flattening*, we flattened the 2D images into 1D vectors.\n",
    "\n",
    "Previously you built a network with one output unit. Here we need 10 output units, one for each digit. We want our network to predict the digit shown in an image, so what we'll do is calculate probabilities that the image is of any one digit or class. This ends up being a discrete probability distribution over the classes (digits) that tells us the most likely class for the image. That means we need 10 output units for the 10 classes (digits). We'll see how to convert the network output into a probability distribution next.\n",
    "\n",
    "> **Exercise:** Flatten the batch of images `images`. Then build a multi-layer network with 784 input units, 256 hidden units, and 10 output units using random tensors for the weights and biases. For now, use a sigmoid activation for the hidden layer. Leave the output layer without an activation, we'll add one that gives us a probability distribution next."
   ]
  },
  {
   "cell_type": "code",
   "execution_count": 77,
   "metadata": {},
   "outputs": [],
   "source": [
    "Features=images.reshape(64,1*28*28)\n",
    "# or Images=images.view(images.shape[0],-1)"
   ]
  },
  {
   "cell_type": "code",
   "execution_count": 78,
   "metadata": {},
   "outputs": [
    {
     "name": "stdout",
     "output_type": "stream",
     "text": [
      "tensor([[-1., -1., -1.,  ..., -1., -1., -1.],\n",
      "        [-1., -1., -1.,  ..., -1., -1., -1.],\n",
      "        [-1., -1., -1.,  ..., -1., -1., -1.],\n",
      "        ...,\n",
      "        [-1., -1., -1.,  ..., -1., -1., -1.],\n",
      "        [-1., -1., -1.,  ..., -1., -1., -1.],\n",
      "        [-1., -1., -1.,  ..., -1., -1., -1.]])\n"
     ]
    }
   ],
   "source": [
    "print(Features)\n"
   ]
  },
  {
   "cell_type": "code",
   "execution_count": 79,
   "metadata": {},
   "outputs": [
    {
     "name": "stdout",
     "output_type": "stream",
     "text": [
      "shape of the Features: torch.Size([64, 784])\n"
     ]
    }
   ],
   "source": [
    "print('shape of the Features:',Features.shape)"
   ]
  },
  {
   "cell_type": "code",
   "execution_count": 80,
   "metadata": {},
   "outputs": [],
   "source": [
    "n_input_units=Features.shape[1]\n",
    "n_hidden=256\n",
    "n_output=10"
   ]
  },
  {
   "cell_type": "code",
   "execution_count": 81,
   "metadata": {},
   "outputs": [
    {
     "name": "stdout",
     "output_type": "stream",
     "text": [
      "shape of w1: torch.Size([784, 256])\n"
     ]
    }
   ],
   "source": [
    "#weights from input to hidden\n",
    "w1=torch.randn(n_input_units,n_hidden)\n",
    "print('shape of w1:',w1.shape)"
   ]
  },
  {
   "cell_type": "code",
   "execution_count": 82,
   "metadata": {},
   "outputs": [
    {
     "name": "stdout",
     "output_type": "stream",
     "text": [
      "tensor([[-0.4650,  0.9234, -0.3244,  ..., -1.1531, -0.8091,  0.2477],\n",
      "        [-0.6958, -1.1015, -0.2318,  ..., -1.1720, -1.0990,  0.4077],\n",
      "        [-0.1196,  1.4234,  1.0233,  ..., -1.3679, -0.3111,  0.0867],\n",
      "        ...,\n",
      "        [-1.3451, -1.6537, -1.5712,  ..., -0.4320, -0.9271,  0.0451],\n",
      "        [-0.3563,  0.3595, -0.6094,  ..., -0.7485,  0.4664, -0.1086],\n",
      "        [ 0.4593, -0.0176,  0.1988,  ..., -0.1373,  1.0792, -0.4389]])\n"
     ]
    }
   ],
   "source": [
    "print(w1)"
   ]
  },
  {
   "cell_type": "code",
   "execution_count": 83,
   "metadata": {},
   "outputs": [
    {
     "name": "stdout",
     "output_type": "stream",
     "text": [
      "shape of w2: torch.Size([256, 10])\n"
     ]
    }
   ],
   "source": [
    "#weigths from hidden to output\n",
    "w2=torch.randn(n_hidden,n_output)\n",
    "print('shape of w2:',w2.shape)"
   ]
  },
  {
   "cell_type": "code",
   "execution_count": 84,
   "metadata": {},
   "outputs": [],
   "source": [
    "#bias terms\n",
    "b1=torch.randn(1,n_hidden)\n",
    "b2=torch.randn(1,n_output)"
   ]
  },
  {
   "cell_type": "code",
   "execution_count": 85,
   "metadata": {},
   "outputs": [
    {
     "data": {
      "text/plain": [
       "torch.Size([1, 256])"
      ]
     },
     "execution_count": 85,
     "metadata": {},
     "output_type": "execute_result"
    }
   ],
   "source": [
    "b1.shape"
   ]
  },
  {
   "cell_type": "code",
   "execution_count": 86,
   "metadata": {},
   "outputs": [
    {
     "data": {
      "text/plain": [
       "torch.Size([1, 10])"
      ]
     },
     "execution_count": 86,
     "metadata": {},
     "output_type": "execute_result"
    }
   ],
   "source": [
    "b2.shape"
   ]
  },
  {
   "cell_type": "code",
   "execution_count": 87,
   "metadata": {},
   "outputs": [],
   "source": [
    "input_hidden_w1_b1=torch.matmul(Features,w1)+b1"
   ]
  },
  {
   "cell_type": "code",
   "execution_count": 88,
   "metadata": {},
   "outputs": [
    {
     "data": {
      "text/plain": [
       "tensor([[-15.9699, -32.6433, -29.1715,  ...,  34.3492, -72.5384,   6.9633],\n",
       "        [ -0.1418,  -5.6163, -21.3338,  ...,  19.7449, -18.9479,  -1.5321],\n",
       "        [-10.0864, -47.0479, -13.0698,  ...,  11.7507, -30.9151, -25.8583],\n",
       "        ...,\n",
       "        [-17.2223, -33.1028,  -4.9061,  ...,  13.3564, -52.8842, -33.7956],\n",
       "        [ 14.1053, -23.2188, -38.1592,  ...,  34.5203, -42.4266,  27.2005],\n",
       "        [-22.8647, -45.4939,  -3.9718,  ...,  10.2623,  -8.6842, -20.6746]])"
      ]
     },
     "execution_count": 88,
     "metadata": {},
     "output_type": "execute_result"
    }
   ],
   "source": [
    "input_hidden_w1_b1"
   ]
  },
  {
   "cell_type": "code",
   "execution_count": 89,
   "metadata": {},
   "outputs": [
    {
     "data": {
      "text/plain": [
       "torch.Size([64, 256])"
      ]
     },
     "execution_count": 89,
     "metadata": {},
     "output_type": "execute_result"
    }
   ],
   "source": [
    "input_hidden_w1_b1.shape"
   ]
  },
  {
   "cell_type": "code",
   "execution_count": 90,
   "metadata": {},
   "outputs": [],
   "source": [
    "def activation(x):\n",
    "    a=1+torch.exp(-x)\n",
    "    b=1/a\n",
    "    return b"
   ]
  },
  {
   "cell_type": "code",
   "execution_count": 91,
   "metadata": {},
   "outputs": [],
   "source": [
    "hidden_layer_output=activation(input_hidden_w1_b1)"
   ]
  },
  {
   "cell_type": "code",
   "execution_count": 92,
   "metadata": {},
   "outputs": [
    {
     "data": {
      "text/plain": [
       "tensor([[1.1598e-07, 6.6557e-15, 2.1429e-13,  ..., 1.0000e+00, 3.1402e-32,\n",
       "         9.9905e-01],\n",
       "        [4.6461e-01, 3.6247e-03, 5.4305e-10,  ..., 1.0000e+00, 5.9026e-09,\n",
       "         1.7769e-01],\n",
       "        [4.1641e-05, 3.6929e-21, 2.1079e-06,  ..., 9.9999e-01, 3.7475e-14,\n",
       "         5.8870e-12],\n",
       "        ...,\n",
       "        [3.3148e-08, 4.2039e-15, 7.3469e-03,  ..., 1.0000e+00, 1.0782e-23,\n",
       "         2.1025e-15],\n",
       "        [1.0000e+00, 8.2453e-11, 2.6772e-17,  ..., 1.0000e+00, 3.7528e-19,\n",
       "         1.0000e+00],\n",
       "        [1.1749e-10, 1.7469e-20, 1.8491e-02,  ..., 9.9997e-01, 1.6921e-04,\n",
       "         1.0499e-09]])"
      ]
     },
     "execution_count": 92,
     "metadata": {},
     "output_type": "execute_result"
    }
   ],
   "source": [
    "hidden_layer_output\n"
   ]
  },
  {
   "cell_type": "code",
   "execution_count": 93,
   "metadata": {},
   "outputs": [
    {
     "data": {
      "text/plain": [
       "torch.Size([64, 256])"
      ]
     },
     "execution_count": 93,
     "metadata": {},
     "output_type": "execute_result"
    }
   ],
   "source": [
    "hidden_layer_output.shape"
   ]
  },
  {
   "cell_type": "code",
   "execution_count": 94,
   "metadata": {},
   "outputs": [],
   "source": [
    "hidden_output_w2_b2=torch.matmul(hidden_layer_output,w2)+b2"
   ]
  },
  {
   "cell_type": "code",
   "execution_count": 95,
   "metadata": {},
   "outputs": [
    {
     "data": {
      "text/plain": [
       "tensor([[-1.4662e+01,  6.9482e+00,  3.4548e+00, -7.7594e+00, -1.4557e+00,\n",
       "         -1.1158e+01, -1.0686e+00,  5.4641e+00,  5.6339e+00, -1.2520e+01],\n",
       "        [-2.0941e+01, -3.4842e+00,  1.0913e+01, -7.4389e+00,  2.0912e+00,\n",
       "         -1.1283e+01,  1.3156e+01,  4.3926e-02,  3.7814e+00, -1.6920e+00],\n",
       "        [-2.0580e+01,  7.8133e+00,  1.6749e+00, -2.1115e+00, -1.3851e+00,\n",
       "          2.1982e-01,  5.6727e+00,  1.0805e+01,  5.1761e+00, -1.6429e+00],\n",
       "        [-2.1255e+01,  1.1922e+01,  4.2212e+00,  9.3212e-01, -5.9351e+00,\n",
       "         -1.0471e+00,  5.2721e+00,  5.3000e+00, -1.0793e+00, -7.0157e+00],\n",
       "        [-1.7139e+01,  1.0574e+01,  5.4289e+00,  9.1591e+00,  1.2597e+00,\n",
       "         -1.7127e+01,  5.8666e+00,  4.8249e-01,  1.2114e+01, -8.4522e+00],\n",
       "        [-1.3625e+01,  3.6463e+00, -1.1022e+00,  1.9016e+00, -1.7310e-01,\n",
       "         -5.7075e+00, -3.0051e+00,  6.4888e+00,  3.8506e+00, -9.6398e+00],\n",
       "        [-1.8469e+01,  7.5913e+00, -1.1254e+00,  4.8170e+00,  5.2218e+00,\n",
       "         -7.6455e+00,  6.4112e+00,  2.9731e+00,  7.1220e+00, -7.7458e+00],\n",
       "        [-3.1501e+01,  1.3542e+01,  5.2891e+00, -5.1355e-01, -1.3615e+00,\n",
       "         -1.6843e+00,  7.4230e+00, -9.8440e-01,  3.8362e+00,  2.8790e+00],\n",
       "        [-1.7526e+01,  6.7304e+00,  2.9205e+00,  2.3248e+00, -1.1098e+00,\n",
       "         -7.1331e+00,  1.0985e+01,  1.5439e+00,  7.5207e+00, -4.8219e+00],\n",
       "        [-2.0270e+01,  8.7725e+00,  1.7249e-01,  7.5575e-01,  2.4034e+00,\n",
       "          4.9908e+00,  7.6139e+00,  1.0156e+01,  2.2350e+00, -1.1669e+01],\n",
       "        [-1.4457e+01,  6.8726e+00,  6.5641e+00,  2.9652e-01, -3.4014e+00,\n",
       "         -3.0817e+00,  1.4717e+00,  1.0330e+01,  1.1887e+01,  5.2473e+00],\n",
       "        [-1.9773e+01,  6.0103e+00, -3.4898e-01,  8.6393e+00,  1.9138e+00,\n",
       "         -6.7524e+00,  7.9650e+00,  1.6513e+00,  7.8071e+00, -1.7732e+01],\n",
       "        [-2.0222e+01,  4.6843e+00,  4.7392e+00,  4.8580e+00,  3.4110e+00,\n",
       "         -1.6365e+01,  3.0766e+00, -2.6642e+00,  5.1904e+00, -5.8717e+00],\n",
       "        [-1.5070e+01,  7.9349e-01,  9.2608e+00, -1.8057e-01,  5.0483e+00,\n",
       "         -2.0120e+01,  3.3403e+00, -7.2879e-02,  7.6598e+00,  1.4779e+00],\n",
       "        [-1.5426e+01,  4.8301e+00,  3.1751e+00,  6.8776e+00,  1.9716e+00,\n",
       "         -2.8445e+00,  9.7532e+00, -6.9590e+00,  7.5350e+00, -4.5452e+00],\n",
       "        [-2.5316e+01,  6.7249e+00,  3.3286e+00,  8.1440e-02, -8.4088e+00,\n",
       "         -4.8943e+00,  1.0942e+01,  5.3097e+00,  2.8024e+00,  2.8124e+00],\n",
       "        [-2.7437e+01,  2.5240e+00,  1.0733e+01,  4.4501e+00,  9.6888e-01,\n",
       "         -1.1371e+01,  3.0245e-01, -8.6370e-01,  1.0768e+01, -9.8291e+00],\n",
       "        [-1.5214e+01,  6.2622e+00,  1.0885e+01,  8.6599e+00, -2.0806e+00,\n",
       "         -1.1902e+01,  7.7616e+00,  8.4449e+00,  3.5093e+00, -3.7709e+00],\n",
       "        [-3.5611e+01,  4.2791e+00,  1.5616e+01, -4.3665e+00, -5.5873e+00,\n",
       "         -1.0926e+00,  4.2311e-01, -4.2904e-01,  6.5909e+00,  4.1487e-01],\n",
       "        [-1.2426e+01,  9.2446e+00,  3.1425e+00,  3.4981e+00, -1.5440e+00,\n",
       "         -9.9958e+00,  1.2041e+01,  6.9416e+00,  6.8602e+00, -8.9631e-01],\n",
       "        [-1.9990e+01,  7.9230e+00,  5.6437e+00,  1.8496e+00,  5.7983e+00,\n",
       "          3.0258e-01,  2.4335e+00,  7.9691e+00, -8.6228e-01,  2.8606e+00],\n",
       "        [-1.2690e+01,  2.9946e+00, -6.1003e-01,  1.0134e+00,  4.7288e+00,\n",
       "         -3.9521e+00,  1.0850e+01,  8.2531e+00,  8.3439e+00, -1.3300e+01],\n",
       "        [-8.1999e+00, -1.5817e+00,  2.5709e+00, -1.6544e+00,  1.5984e+01,\n",
       "          5.5835e-01,  1.0308e+01,  8.5035e+00,  5.5804e+00, -3.7351e+00],\n",
       "        [-1.3850e+01,  1.1395e+01,  6.5456e+00, -1.9552e+00,  6.9563e+00,\n",
       "         -4.2361e+00,  4.8242e+00,  6.0922e+00,  4.1802e+00, -5.3537e+00],\n",
       "        [-1.7913e+01,  1.0048e+01,  8.5044e+00,  1.2095e+00,  3.8781e+00,\n",
       "         -1.4845e+00,  6.4683e+00,  1.3582e+01,  5.8378e+00,  1.2124e+00],\n",
       "        [-8.3173e+00,  1.0656e+01,  1.0429e+01,  8.7777e+00,  1.1027e+01,\n",
       "         -4.0163e+00,  3.7719e+00,  1.1896e+00,  1.1963e+01, -1.1833e+00],\n",
       "        [-2.3220e+01,  1.5797e+01,  1.1345e+01,  7.7052e+00,  1.0554e+01,\n",
       "         -3.5493e+00, -3.9488e+00,  8.9131e-01,  8.5257e+00, -1.8528e+01],\n",
       "        [-1.7254e+00,  7.9393e-01,  8.1644e+00,  4.6209e+00,  5.6889e+00,\n",
       "         -8.5147e+00,  8.1475e+00,  3.6143e+00,  8.0660e+00, -6.7534e+00],\n",
       "        [-1.4663e+01,  6.5227e+00, -4.3397e+00,  5.0563e+00,  9.0454e-01,\n",
       "         -5.7030e-01,  6.3680e+00,  9.2814e+00,  3.5450e+00, -3.5367e+00],\n",
       "        [-1.9973e+01,  1.6309e+01,  1.0567e+01,  1.5881e+01, -2.7132e+00,\n",
       "         -1.3074e+01,  8.8649e+00,  6.4691e+00,  7.9256e+00, -2.4898e+00],\n",
       "        [-1.4808e+01,  1.5049e+01,  1.9123e+00,  7.4884e+00,  6.6433e-02,\n",
       "         -1.1968e+01,  2.0351e+00,  5.5467e+00,  5.2814e+00, -1.1898e+01],\n",
       "        [-1.4101e+01,  1.0138e+01,  1.6071e+00,  3.2519e+00,  4.9228e+00,\n",
       "         -2.5002e+00,  9.9679e-01,  7.7313e+00,  1.5432e+00, -3.1427e+00],\n",
       "        [-1.1836e+01, -3.1076e+00,  3.2901e+00,  7.9171e+00,  3.7415e+00,\n",
       "          7.0524e-01,  1.0120e+01, -1.5893e+00,  2.0694e+00, -1.0389e+01],\n",
       "        [-1.5026e+01,  1.0457e+01, -4.2999e-01,  1.5444e+00, -4.4442e+00,\n",
       "         -4.0574e+00,  3.5490e+00,  8.8764e+00,  1.6771e+00, -1.0323e+01],\n",
       "        [-1.8912e+01,  1.0432e+01,  2.9325e+00,  3.9542e+00, -1.0342e+00,\n",
       "         -1.8094e-02, -9.4946e-01,  9.8923e+00,  6.4589e+00,  2.5925e+00],\n",
       "        [-1.5321e+01,  1.1292e+01,  4.4198e+00,  1.9719e+00,  6.6351e+00,\n",
       "         -4.3027e-01,  3.3117e+00,  3.2552e+00,  1.5798e+01, -7.1215e+00],\n",
       "        [-1.6157e+01, -3.7620e-02,  7.0425e+00,  5.4394e+00,  3.9436e+00,\n",
       "         -7.4596e+00,  1.0589e+01, -1.1209e+01,  5.2346e+00, -7.5214e+00],\n",
       "        [-1.7839e+01,  5.7317e+00,  1.8702e+00, -2.9877e+00, -3.3258e+00,\n",
       "          8.4113e+00,  1.1115e+01,  2.7080e+00,  5.3426e+00,  6.3600e+00],\n",
       "        [-1.5429e+01,  5.2735e+00,  6.7417e+00,  1.3072e+01,  5.7474e+00,\n",
       "         -9.5573e+00,  5.3400e+00,  4.1309e+00,  9.2874e+00, -3.8206e+00],\n",
       "        [-1.0365e+01,  1.0314e+01,  2.3827e+00, -3.4218e+00,  4.4732e+00,\n",
       "         -1.1038e+01,  3.5902e+00, -1.9216e+00,  7.8590e+00, -3.8865e+00],\n",
       "        [-9.1076e+00,  1.5370e+00,  5.6668e+00,  1.2606e+01,  1.0750e+01,\n",
       "         -1.0228e+01,  3.9102e+00, -1.1452e-01,  1.5873e+01, -1.6353e+01],\n",
       "        [-1.8842e+01,  6.2067e+00,  4.2794e+00, -1.4221e+00, -5.3030e+00,\n",
       "         -5.4297e+00,  1.1037e+01, -5.3439e-01,  4.5855e+00, -9.5177e+00],\n",
       "        [-1.2310e+01,  1.3060e+01,  1.7811e-01, -4.2484e+00, -2.0573e+00,\n",
       "         -6.6340e+00,  4.6848e+00,  6.7037e+00,  1.8403e+01, -6.1892e+00],\n",
       "        [-1.9529e+01,  6.0601e+00,  7.0954e+00,  2.1498e+00, -4.3611e+00,\n",
       "         -2.9836e+00,  8.6357e+00,  7.5410e+00, -5.5506e+00, -8.0729e+00],\n",
       "        [-1.2363e+01,  3.7130e+00,  1.0847e+01,  1.6381e+00,  5.8587e+00,\n",
       "         -1.9190e+01, -6.1919e+00, -1.7233e+00,  1.4713e+01, -8.7052e+00],\n",
       "        [-4.5826e+00,  6.6956e-01,  5.2171e+00, -5.9493e-02,  6.5041e+00,\n",
       "         -7.1981e+00,  2.8789e+00,  3.8497e+00,  1.0113e+01, -1.3119e+01],\n",
       "        [-1.3913e+01,  8.5948e+00, -3.9120e+00,  9.1087e+00, -2.0754e+00,\n",
       "         -8.0888e+00,  1.0050e+01,  1.0306e+01,  2.2287e+00, -9.6108e+00],\n",
       "        [-1.6893e+01,  6.4883e+00,  2.8251e+00, -4.2572e-01,  3.7396e+00,\n",
       "          1.3057e-01,  5.5978e+00,  8.2856e+00,  2.7310e+00, -8.8201e+00],\n",
       "        [-3.0684e+00,  5.7103e+00, -3.3302e+00,  1.9055e+00,  6.4352e+00,\n",
       "         -6.7651e+00,  1.0513e+01, -1.2534e+00,  6.3694e+00, -3.9351e+00],\n",
       "        [-8.7324e+00,  8.1341e+00, -5.2631e+00,  2.1404e+00,  3.6533e+00,\n",
       "         -1.7217e+01,  5.9028e+00,  3.6807e+00,  1.2546e+01, -3.6433e+00],\n",
       "        [-8.9319e+00,  4.3994e+00, -4.2935e+00,  6.4263e+00, -2.5972e+00,\n",
       "         -3.1756e+00,  1.0278e+01,  1.3185e+01, -8.5786e-01, -1.1416e+01],\n",
       "        [-2.1633e+01,  7.6614e+00,  3.2267e+00, -8.7900e+00,  1.4455e-01,\n",
       "         -9.9141e+00,  4.7043e+00, -3.6157e+00,  7.1279e+00,  5.0026e+00],\n",
       "        [-1.5046e+01, -1.0270e+00,  2.6957e+00,  1.3396e+01,  3.2023e+00,\n",
       "         -5.4391e+00, -2.0965e+00,  1.2898e+00,  7.8372e+00, -4.9595e+00],\n",
       "        [-2.4639e+01,  1.5077e+01, -7.5502e-01,  4.8025e+00,  3.6886e+00,\n",
       "          3.7514e+00,  8.9471e+00,  1.0899e+01,  1.1302e+01,  1.6478e+00],\n",
       "        [-1.6845e+01,  7.8939e+00,  3.9061e+00,  3.4001e+00, -2.4169e+00,\n",
       "         -1.4649e+00,  9.2529e+00,  7.4740e+00, -2.7995e+00, -8.2435e+00],\n",
       "        [-2.3644e+01,  1.0925e+01, -6.2049e-01, -4.3584e-01, -1.1838e+00,\n",
       "         -2.0137e+00,  1.8712e+00,  6.5708e+00,  4.7224e+00, -5.2249e+00],\n",
       "        [-2.2797e+01,  1.0343e+01,  5.3736e+00, -3.1695e-01, -4.6893e+00,\n",
       "          3.5324e-01,  8.0832e+00,  3.9326e+00,  7.0585e+00, -2.6303e-01],\n",
       "        [-1.1511e+01,  3.1455e+00,  8.8193e+00,  3.1252e+00,  5.2893e+00,\n",
       "         -9.8429e+00, -4.8252e+00, -3.8074e+00,  1.5158e+01, -1.0122e+00],\n",
       "        [-1.3885e+01,  1.2492e+01,  4.3723e+00,  4.0970e+00, -3.3071e+00,\n",
       "          4.4529e+00,  2.8778e+00, -3.3813e-01,  4.4656e+00, -4.2211e+00],\n",
       "        [-1.3374e+01,  1.7437e+00,  1.0266e+01,  7.0616e+00,  3.8515e+00,\n",
       "         -5.9386e+00, -1.1396e+01,  3.7212e+00,  1.3411e+01,  8.1396e+00],\n",
       "        [-1.5094e+01,  4.4295e+00,  3.1241e+00, -2.2816e-01,  2.7780e+00,\n",
       "         -1.2799e+01, -4.4816e+00,  6.4260e+00,  2.0344e+01, -1.5943e+01],\n",
       "        [-5.6820e+00, -4.2065e+00,  1.0784e+01,  9.2414e+00, -1.4864e+00,\n",
       "         -2.9006e+00,  1.1597e+01, -3.9283e+00,  7.7264e-01, -9.9600e+00],\n",
       "        [-1.9942e+01,  2.3551e+00,  1.2249e+01, -7.3560e+00,  8.3525e+00,\n",
       "         -5.4422e+00,  1.1781e+01,  3.1767e+00,  1.7735e+01, -2.8681e-01],\n",
       "        [-1.4784e+01,  1.3577e+01, -2.9446e+00,  5.3596e+00,  7.2069e+00,\n",
       "         -7.2970e+00,  8.8786e+00,  1.8628e+00,  1.3106e+01, -2.5245e+00]])"
      ]
     },
     "execution_count": 95,
     "metadata": {},
     "output_type": "execute_result"
    }
   ],
   "source": [
    "hidden_output_w2_b2"
   ]
  },
  {
   "cell_type": "code",
   "execution_count": 114,
   "metadata": {},
   "outputs": [
    {
     "data": {
      "text/plain": [
       "torch.Size([64, 10])"
      ]
     },
     "execution_count": 114,
     "metadata": {},
     "output_type": "execute_result"
    }
   ],
   "source": [
    "hidden_output_w2_b2.shape\n"
   ]
  },
  {
   "cell_type": "markdown",
   "metadata": {},
   "source": [
    "### Other Simple Way"
   ]
  },
  {
   "cell_type": "code",
   "execution_count": 100,
   "metadata": {},
   "outputs": [],
   "source": [
    "inputs=images.view(images.shape[0],-1)"
   ]
  },
  {
   "cell_type": "code",
   "execution_count": 103,
   "metadata": {},
   "outputs": [
    {
     "data": {
      "text/plain": [
       "torch.Size([64, 784])"
      ]
     },
     "execution_count": 103,
     "metadata": {},
     "output_type": "execute_result"
    }
   ],
   "source": [
    "inputs.shape"
   ]
  },
  {
   "cell_type": "code",
   "execution_count": 104,
   "metadata": {},
   "outputs": [],
   "source": [
    "w1=torch.randn(784,256)\n",
    "b1=torch.randn(256)"
   ]
  },
  {
   "cell_type": "code",
   "execution_count": 106,
   "metadata": {},
   "outputs": [
    {
     "data": {
      "text/plain": [
       "torch.Size([784, 256])"
      ]
     },
     "execution_count": 106,
     "metadata": {},
     "output_type": "execute_result"
    }
   ],
   "source": [
    "w1.shape"
   ]
  },
  {
   "cell_type": "code",
   "execution_count": 108,
   "metadata": {},
   "outputs": [
    {
     "data": {
      "text/plain": [
       "torch.Size([256])"
      ]
     },
     "execution_count": 108,
     "metadata": {},
     "output_type": "execute_result"
    }
   ],
   "source": [
    "b1.shape"
   ]
  },
  {
   "cell_type": "code",
   "execution_count": 109,
   "metadata": {},
   "outputs": [],
   "source": [
    "w2=torch.randn(256,10)\n",
    "b2=torch.randn(10)"
   ]
  },
  {
   "cell_type": "code",
   "execution_count": 110,
   "metadata": {},
   "outputs": [
    {
     "name": "stdout",
     "output_type": "stream",
     "text": [
      "tensor([[7.7405e-02, 9.5420e-01, 9.9823e-01,  ..., 2.7870e-12, 1.0000e+00,\n",
      "         6.5299e-02],\n",
      "        [2.7420e-15, 1.0000e+00, 9.9999e-01,  ..., 4.8839e-16, 1.0000e+00,\n",
      "         1.0000e+00],\n",
      "        [8.2453e-08, 9.9837e-01, 1.0000e+00,  ..., 7.2236e-10, 1.0000e+00,\n",
      "         1.0000e+00],\n",
      "        ...,\n",
      "        [1.6603e-22, 1.0000e+00, 4.3347e-02,  ..., 4.3269e-28, 1.0000e+00,\n",
      "         9.9882e-01],\n",
      "        [7.9103e-05, 1.0000e+00, 9.9870e-01,  ..., 1.5326e-29, 1.0000e+00,\n",
      "         1.0568e-06],\n",
      "        [8.5409e-01, 1.5479e-08, 9.1697e-01,  ..., 7.3820e-14, 1.0000e+00,\n",
      "         9.9859e-01]])\n",
      "torch.Size([64, 256])\n"
     ]
    }
   ],
   "source": [
    "h=activation(torch.matmul(inputs,w1)+b1)\n",
    "print(h)\n",
    "print(h.shape)"
   ]
  },
  {
   "cell_type": "code",
   "execution_count": 111,
   "metadata": {},
   "outputs": [],
   "source": [
    "output=torch.matmul(h,w2)+b2"
   ]
  },
  {
   "cell_type": "code",
   "execution_count": 113,
   "metadata": {},
   "outputs": [
    {
     "data": {
      "text/plain": [
       "torch.Size([64, 10])"
      ]
     },
     "execution_count": 113,
     "metadata": {},
     "output_type": "execute_result"
    }
   ],
   "source": [
    "output.shape"
   ]
  },
  {
   "cell_type": "code",
   "execution_count": 146,
   "metadata": {},
   "outputs": [
    {
     "data": {
      "text/plain": [
       "64"
      ]
     },
     "execution_count": 146,
     "metadata": {},
     "output_type": "execute_result"
    }
   ],
   "source": [
    "output.shape[0]"
   ]
  },
  {
   "cell_type": "markdown",
   "metadata": {},
   "source": [
    "Now we have 10 outputs for our network. We want to pass in an image to our network and get out a probability distribution over the classes that tells us the likely class(es) the image belongs to. Something that looks like this:\n",
    "<img src='assets/image_distribution.png' width=500px>\n",
    "\n",
    "Here we see that the probability for each class is roughly the same. This is representing an untrained network, it hasn't seen any data yet so it just returns a uniform distribution with equal probabilities for each class.\n",
    "\n",
    "To calculate this probability distribution, we often use the [**softmax** function](https://en.wikipedia.org/wiki/Softmax_function). Mathematically this looks like\n",
    "\n",
    "$$\n",
    "\\Large \\sigma(x_i) = \\cfrac{e^{x_i}}{\\sum_k^K{e^{x_k}}}\n",
    "$$\n",
    "\n",
    "What this does is squish each input $x_i$ between 0 and 1 and normalizes the values to give you a proper probability distribution where the probabilites sum up to one.\n",
    "\n",
    "> **Exercise:** Implement a function `softmax` that performs the softmax calculation and returns probability distributions for each example in the batch. Note that you'll need to pay attention to the shapes when doing this. If you have a tensor `a` with shape `(64, 10)` and a tensor `b` with shape `(64,)`, doing `a/b` will give you an error because PyTorch will try to do the division across the columns (called broadcasting) but you'll get a size mismatch. The way to think about this is for each of the 64 examples, you only want to divide by one value, the sum in the denominator. So you need `b` to have a shape of `(64, 1)`. This way PyTorch will divide the 10 values in each row of `a` by the one value in each row of `b`. Pay attention to how you take the sum as well. You'll need to define the `dim` keyword in `torch.sum`. Setting `dim=0` takes the sum across the rows while `dim=1` takes the sum across the columns."
   ]
  },
  {
   "cell_type": "code",
   "execution_count": 151,
   "metadata": {},
   "outputs": [],
   "source": [
    "def softmax(x):\n",
    "    return torch.exp(x)/torch.sum(torch.exp(x),dim=1).view(-1,1)"
   ]
  },
  {
   "cell_type": "code",
   "execution_count": 152,
   "metadata": {},
   "outputs": [],
   "source": [
    "probs=softmax(output)"
   ]
  },
  {
   "cell_type": "code",
   "execution_count": 154,
   "metadata": {},
   "outputs": [
    {
     "data": {
      "text/plain": [
       "torch.Size([64, 10])"
      ]
     },
     "execution_count": 154,
     "metadata": {},
     "output_type": "execute_result"
    }
   ],
   "source": [
    "probs.shape"
   ]
  },
  {
   "cell_type": "markdown",
   "metadata": {},
   "source": [
    "## Neural Architecture Using Pytorch"
   ]
  },
  {
   "cell_type": "code",
   "execution_count": 155,
   "metadata": {},
   "outputs": [],
   "source": [
    "from torch import nn"
   ]
  },
  {
   "cell_type": "code",
   "execution_count": 197,
   "metadata": {},
   "outputs": [],
   "source": [
    "class Network(nn.Module):\n",
    "    def __init__(self):\n",
    "        super().__init__()\n",
    "        \n",
    "        # Inputs to hidden layer linear transformation\n",
    "        self.hidden = nn.Linear(784, 256)\n",
    "        # Output layer, 10 units - one for each digit\n",
    "        self.output = nn.Linear(256, 10)\n",
    "        \n",
    "        # Define sigmoid activation and softmax output \n",
    "        self.sigmoid = nn.Sigmoid()\n",
    "        self.softmax = nn.Softmax(dim=1)\n",
    "        \n",
    "    def forward(self, x):\n",
    "        # Pass the input tensor through each of our operations\n",
    "        x = self.hidden(x)\n",
    "        x = self.sigmoid(x)\n",
    "        x = self.output(x)\n",
    "        x = self.softmax(x)\n",
    "        \n",
    "        return x"
   ]
  },
  {
   "cell_type": "markdown",
   "metadata": {},
   "source": [
    "Let's go through this bit by bit.\n",
    "\n",
    "```python\n",
    "class Network(nn.Module):\n",
    "```\n",
    "\n",
    "Here we're inheriting from `nn.Module`. Combined with `super().__init__()` this creates a class that tracks the architecture and provides a lot of useful methods and attributes. It is mandatory to inherit from `nn.Module` when you're creating a class for your network. The name of the class itself can be anything.\n",
    "\n",
    "```python\n",
    "self.hidden = nn.Linear(784, 256)\n",
    "```\n",
    "\n",
    "This line creates a module for a linear transformation, $x\\mathbf{W} + b$, with 784 inputs and 256 outputs and assigns it to `self.hidden`. The module automatically creates the weight and bias tensors which we'll use in the `forward` method. You can access the weight and bias tensors once the network (`net`) is created with `net.hidden.weight` and `net.hidden.bias`.\n",
    "\n",
    "```python\n",
    "self.output = nn.Linear(256, 10)\n",
    "```\n",
    "\n",
    "Similarly, this creates another linear transformation with 256 inputs and 10 outputs.\n",
    "\n",
    "```python\n",
    "self.sigmoid = nn.Sigmoid()\n",
    "self.softmax = nn.Softmax(dim=1)\n",
    "```\n",
    "\n",
    "Here I defined operations for the sigmoid activation and softmax output. Setting `dim=1` in `nn.Softmax(dim=1)` calculates softmax across the columns.\n",
    "\n",
    "```python\n",
    "def forward(self, x):\n",
    "```\n",
    "\n",
    "PyTorch networks created with `nn.Module` must have a `forward` method defined. It takes in a tensor `x` and passes it through the operations you defined in the `__init__` method.\n",
    "\n",
    "```python\n",
    "x = self.hidden(x)\n",
    "x = self.sigmoid(x)\n",
    "x = self.output(x)\n",
    "x = self.softmax(x)\n",
    "```\n",
    "\n",
    "Here the input tensor `x` is passed through each operation a reassigned to `x`. We can see that the input tensor goes through the hidden layer, then a sigmoid function, then the output layer, and finally the softmax function. It doesn't matter what you name the variables here, as long as the inputs and outputs of the operations match the network architecture you want to build. The order in which you define things in the `__init__` method doesn't matter, but you'll need to sequence the operations correctly in the `forward` method.\n",
    "\n",
    "Now we can create a `Network` object."
   ]
  },
  {
   "cell_type": "code",
   "execution_count": 162,
   "metadata": {},
   "outputs": [
    {
     "data": {
      "text/plain": [
       "Network(\n",
       "  (hidden): Linear(in_features=784, out_features=256, bias=True)\n",
       "  (output): Linear(in_features=256, out_features=10, bias=True)\n",
       "  (sigmoid): Sigmoid()\n",
       "  (softmax): Softmax(dim=1)\n",
       ")"
      ]
     },
     "execution_count": 162,
     "metadata": {},
     "output_type": "execute_result"
    }
   ],
   "source": [
    "model=Network()\n",
    "model"
   ]
  },
  {
   "cell_type": "markdown",
   "metadata": {},
   "source": [
    "### Other Way\n"
   ]
  },
  {
   "cell_type": "code",
   "execution_count": 160,
   "metadata": {},
   "outputs": [],
   "source": [
    "import torch.nn.functional as F"
   ]
  },
  {
   "cell_type": "code",
   "execution_count": 163,
   "metadata": {},
   "outputs": [],
   "source": [
    "class Classifier(nn.Module):\n",
    "    def __init__(self):\n",
    "        super().__init__()\n",
    "        \n",
    "        \n",
    "        self.hidden=nn.Linear(784,256)\n",
    "        self.output=nn.Linear(256,10)\n",
    "        \n",
    "        \n",
    "        \n",
    "    def forward(self,x):\n",
    "        x=F.sigmoid(self.hidden(x))\n",
    "        x=F.softmax(self.hidden(x),dim=1)\n",
    "        \n",
    "        return x\n",
    "        \n",
    "        \n",
    "        "
   ]
  },
  {
   "cell_type": "code",
   "execution_count": 164,
   "metadata": {},
   "outputs": [
    {
     "data": {
      "text/plain": [
       "Classifier(\n",
       "  (hidden): Linear(in_features=784, out_features=256, bias=True)\n",
       "  (output): Linear(in_features=256, out_features=10, bias=True)\n",
       ")"
      ]
     },
     "execution_count": 164,
     "metadata": {},
     "output_type": "execute_result"
    }
   ],
   "source": [
    "model1=Classifier()\n",
    "model1"
   ]
  },
  {
   "cell_type": "markdown",
   "metadata": {},
   "source": [
    "### Your Turn to Build a Network\n",
    "\n",
    "<img src=\"assets/mlp_mnist.png\" width=600px>\n",
    "\n",
    "> **Exercise:** Create a network with 784 input units, a hidden layer with 128 units and a ReLU activation, then a hidden layer with 64 units and a ReLU activation, and finally an output layer with a softmax activation as shown above. You can use a ReLU activation with the `nn.ReLU` module or `F.relu` function."
   ]
  },
  {
   "cell_type": "code",
   "execution_count": 168,
   "metadata": {},
   "outputs": [],
   "source": [
    "class Relu_Network(nn.Module):\n",
    "    def __init__(self):\n",
    "        super().__init__()\n",
    "        \n",
    "        \n",
    "        self.hidden1=nn.Linear(784,128)\n",
    "        self.hidden2=nn.Linear(128,64)\n",
    "        self.output=nn.Linear(64,10)\n",
    "        \n",
    "        \n",
    "        \n",
    "    \n",
    "    def forward(self,x):\n",
    "        x=F.relu(self.hidden1(x))\n",
    "        x=F.relu(self.hidden2(x))\n",
    "        x=F.softmax(self.output(x),dim=1)\n",
    "        \n",
    "        return x\n",
    "        "
   ]
  },
  {
   "cell_type": "code",
   "execution_count": 169,
   "metadata": {},
   "outputs": [],
   "source": [
    "model3=Relu_Network()"
   ]
  },
  {
   "cell_type": "code",
   "execution_count": 170,
   "metadata": {},
   "outputs": [
    {
     "data": {
      "text/plain": [
       "Relu_Network(\n",
       "  (hidden1): Linear(in_features=784, out_features=128, bias=True)\n",
       "  (hidden2): Linear(in_features=128, out_features=64, bias=True)\n",
       "  (output): Linear(in_features=64, out_features=10, bias=True)\n",
       ")"
      ]
     },
     "execution_count": 170,
     "metadata": {},
     "output_type": "execute_result"
    }
   ],
   "source": [
    "model3"
   ]
  },
  {
   "cell_type": "markdown",
   "metadata": {},
   "source": [
    "### Initializing weights and biases\n",
    "\n",
    "The weights and such are automatically initialized for you, but it's possible to customize how they are initialized. The weights and biases are tensors attached to the layer you defined, you can get them with `model.fc1.weight` for instance."
   ]
  },
  {
   "cell_type": "code",
   "execution_count": 172,
   "metadata": {},
   "outputs": [
    {
     "name": "stdout",
     "output_type": "stream",
     "text": [
      "Parameter containing:\n",
      "tensor([[ 0.0242, -0.0324, -0.0130,  ..., -0.0153,  0.0076, -0.0185],\n",
      "        [ 0.0283,  0.0336, -0.0313,  ..., -0.0124,  0.0188,  0.0047],\n",
      "        [ 0.0253, -0.0050, -0.0319,  ..., -0.0127, -0.0334,  0.0313],\n",
      "        ...,\n",
      "        [-0.0078, -0.0324, -0.0129,  ..., -0.0242, -0.0062,  0.0246],\n",
      "        [ 0.0203, -0.0295, -0.0342,  ..., -0.0332, -0.0211, -0.0104],\n",
      "        [-0.0201,  0.0209, -0.0037,  ..., -0.0161, -0.0117,  0.0110]],\n",
      "       requires_grad=True)\n",
      "Parameter containing:\n",
      "tensor([-0.0513, -0.0865,  0.0168, -0.0374, -0.0677, -0.0019,  0.0511,  0.0691,\n",
      "         0.0400, -0.0480, -0.0354, -0.0042,  0.0267, -0.0395, -0.0881, -0.0835,\n",
      "        -0.0226, -0.0604,  0.0474, -0.0632,  0.0703,  0.0220,  0.0689,  0.0129,\n",
      "         0.0273,  0.0250,  0.0125, -0.0815,  0.0413,  0.0320,  0.0470, -0.0339,\n",
      "         0.0060, -0.0235, -0.0433, -0.0591, -0.0666,  0.0074,  0.0312,  0.0563,\n",
      "        -0.0102,  0.0531, -0.0691,  0.0146, -0.0838,  0.0679, -0.0683,  0.0603,\n",
      "         0.0007,  0.0751,  0.0397, -0.0840,  0.0238,  0.0250, -0.0874,  0.0634,\n",
      "         0.0479, -0.0747,  0.0653,  0.0845,  0.0073,  0.0039, -0.0734, -0.0794],\n",
      "       requires_grad=True)\n"
     ]
    }
   ],
   "source": [
    "print(model3.hidden1.weight)\n",
    "print(model3.hidden2.bias)"
   ]
  },
  {
   "cell_type": "code",
   "execution_count": 173,
   "metadata": {},
   "outputs": [
    {
     "data": {
      "text/plain": [
       "tensor([0., 0., 0., 0., 0., 0., 0., 0., 0., 0., 0., 0., 0., 0., 0., 0., 0., 0., 0., 0., 0., 0., 0., 0.,\n",
       "        0., 0., 0., 0., 0., 0., 0., 0., 0., 0., 0., 0., 0., 0., 0., 0., 0., 0., 0., 0., 0., 0., 0., 0.,\n",
       "        0., 0., 0., 0., 0., 0., 0., 0., 0., 0., 0., 0., 0., 0., 0., 0., 0., 0., 0., 0., 0., 0., 0., 0.,\n",
       "        0., 0., 0., 0., 0., 0., 0., 0., 0., 0., 0., 0., 0., 0., 0., 0., 0., 0., 0., 0., 0., 0., 0., 0.,\n",
       "        0., 0., 0., 0., 0., 0., 0., 0., 0., 0., 0., 0., 0., 0., 0., 0., 0., 0., 0., 0., 0., 0., 0., 0.,\n",
       "        0., 0., 0., 0., 0., 0., 0., 0.])"
      ]
     },
     "execution_count": 173,
     "metadata": {},
     "output_type": "execute_result"
    }
   ],
   "source": [
    "model3.hidden1.bias.data.fill_(0)"
   ]
  },
  {
   "cell_type": "code",
   "execution_count": 174,
   "metadata": {},
   "outputs": [
    {
     "data": {
      "text/plain": [
       "tensor([[ 0.0063,  0.0026, -0.0036,  ..., -0.0038,  0.0131,  0.0055],\n",
       "        [-0.0145,  0.0183, -0.0056,  ..., -0.0160, -0.0101, -0.0119],\n",
       "        [-0.0017,  0.0005,  0.0172,  ...,  0.0046, -0.0119, -0.0123],\n",
       "        ...,\n",
       "        [-0.0044,  0.0196,  0.0186,  ...,  0.0042, -0.0124,  0.0178],\n",
       "        [ 0.0007, -0.0049,  0.0001,  ...,  0.0022, -0.0068,  0.0024],\n",
       "        [ 0.0077, -0.0014,  0.0005,  ..., -0.0095, -0.0038, -0.0092]])"
      ]
     },
     "execution_count": 174,
     "metadata": {},
     "output_type": "execute_result"
    }
   ],
   "source": [
    "model3.hidden1.weight.data.normal_(std=0.01)"
   ]
  },
  {
   "cell_type": "markdown",
   "metadata": {},
   "source": [
    "## Forward pass\n",
    "\n",
    "Now that we have a network, let's see what happens when we pass in an image."
   ]
  },
  {
   "cell_type": "code",
   "execution_count": 183,
   "metadata": {},
   "outputs": [],
   "source": [
    "Dataiter=iter(trainloader)\n"
   ]
  },
  {
   "cell_type": "code",
   "execution_count": 184,
   "metadata": {},
   "outputs": [],
   "source": [
    "Images,Labels=Dataiter.next()"
   ]
  },
  {
   "cell_type": "code",
   "execution_count": 185,
   "metadata": {},
   "outputs": [
    {
     "data": {
      "text/plain": [
       "torch.Size([64, 1, 28, 28])"
      ]
     },
     "execution_count": 185,
     "metadata": {},
     "output_type": "execute_result"
    }
   ],
   "source": [
    "Images.shape\n"
   ]
  },
  {
   "cell_type": "code",
   "execution_count": 186,
   "metadata": {},
   "outputs": [
    {
     "data": {
      "text/plain": [
       "torch.Size([64])"
      ]
     },
     "execution_count": 186,
     "metadata": {},
     "output_type": "execute_result"
    }
   ],
   "source": [
    "Labels.shape"
   ]
  },
  {
   "cell_type": "code",
   "execution_count": 187,
   "metadata": {},
   "outputs": [
    {
     "data": {
      "text/plain": [
       "tensor([[[-1., -1., -1.,  ..., -1., -1., -1.]],\n",
       "\n",
       "        [[-1., -1., -1.,  ..., -1., -1., -1.]],\n",
       "\n",
       "        [[-1., -1., -1.,  ..., -1., -1., -1.]],\n",
       "\n",
       "        ...,\n",
       "\n",
       "        [[-1., -1., -1.,  ..., -1., -1., -1.]],\n",
       "\n",
       "        [[-1., -1., -1.,  ..., -1., -1., -1.]],\n",
       "\n",
       "        [[-1., -1., -1.,  ..., -1., -1., -1.]]])"
      ]
     },
     "execution_count": 187,
     "metadata": {},
     "output_type": "execute_result"
    }
   ],
   "source": [
    "Images.resize_(64,1,784)"
   ]
  },
  {
   "cell_type": "code",
   "execution_count": 188,
   "metadata": {},
   "outputs": [],
   "source": [
    "ps=model3.forward(Images[0,:])"
   ]
  },
  {
   "cell_type": "markdown",
   "metadata": {},
   "source": [
    "As you can see above, our network has basically no idea what this digit is. It's because we haven't trained it yet, all the weights are random!\n",
    "\n",
    "### Using `nn.Sequential`\n",
    "\n",
    "PyTorch provides a convenient way to build networks like this where a tensor is passed sequentially through operations, `nn.Sequential` ([documentation](https://pytorch.org/docs/master/nn.html#torch.nn.Sequential)). Using this to build the equivalent network:"
   ]
  },
  {
   "cell_type": "code",
   "execution_count": 196,
   "metadata": {},
   "outputs": [
    {
     "name": "stdout",
     "output_type": "stream",
     "text": [
      "Sequential(\n",
      "  (0): Linear(in_features=784, out_features=128, bias=True)\n",
      "  (1): ReLU()\n",
      "  (2): Linear(in_features=128, out_features=64, bias=True)\n",
      "  (3): ReLU()\n",
      "  (4): Linear(in_features=64, out_features=10, bias=True)\n",
      "  (5): Softmax(dim=1)\n",
      ")\n"
     ]
    }
   ],
   "source": [
    "# Hyperparameters for our network\n",
    "input_size = 784\n",
    "hidden_sizes = [128, 64]\n",
    "output_size = 10\n",
    "\n",
    "# Build a feed-forward network\n",
    "model = nn.Sequential(nn.Linear(input_size, hidden_sizes[0]),\n",
    "                      nn.ReLU(),\n",
    "                      nn.Linear(hidden_sizes[0], hidden_sizes[1]),\n",
    "                      nn.ReLU(),\n",
    "                      nn.Linear(hidden_sizes[1], output_size),\n",
    "                      nn.Softmax(dim=1))\n",
    "print(model)\n",
    "\n",
    "# Forward pass through the network and display output\n",
    "images, labels = next(iter(trainloader))\n",
    "images.resize_(images.shape[0], 1, 784)\n",
    "ps = model.forward(images[0,:])\n"
   ]
  },
  {
   "cell_type": "markdown",
   "metadata": {},
   "source": [
    "You can also pass in an `OrderedDict` to name the individual layers and operations, instead of using incremental integers. Note that dictionary keys must be unique, so _each operation must have a different name_."
   ]
  },
  {
   "cell_type": "markdown",
   "metadata": {},
   "source": [
    "## Training Neural Networks In Pytorch"
   ]
  },
  {
   "cell_type": "markdown",
   "metadata": {},
   "source": [
    "# Training Neural Networks\n",
    "\n",
    "The network we built in the previous part isn't so smart, it doesn't know anything about our handwritten digits. Neural networks with non-linear activations work like universal function approximators. There is some function that maps your input to the output. For example, images of handwritten digits to class probabilities. The power of neural networks is that we can train them to approximate this function, and basically any function given enough data and compute time.\n",
    "\n",
    "<img src=\"assets/function_approx.png\" width=500px>\n",
    "\n",
    "At first the network is naive, it doesn't know the function mapping the inputs to the outputs. We train the network by showing it examples of real data, then adjusting the network parameters such that it approximates this function.\n",
    "\n",
    "To find these parameters, we need to know how poorly the network is predicting the real outputs. For this we calculate a **loss function** (also called the cost), a measure of our prediction error. For example, the mean squared loss is often used in regression and binary classification problems\n",
    "\n",
    "$$\n",
    "\\large \\ell = \\frac{1}{2n}\\sum_i^n{\\left(y_i - \\hat{y}_i\\right)^2}\n",
    "$$\n",
    "\n",
    "where $n$ is the number of training examples, $y_i$ are the true labels, and $\\hat{y}_i$ are the predicted labels.\n",
    "\n",
    "By minimizing this loss with respect to the network parameters, we can find configurations where the loss is at a minimum and the network is able to predict the correct labels with high accuracy. We find this minimum using a process called **gradient descent**. The gradient is the slope of the loss function and points in the direction of fastest change. To get to the minimum in the least amount of time, we then want to follow the gradient (downwards). You can think of this like descending a mountain by following the steepest slope to the base.\n",
    "\n",
    "<img src='assets/gradient_descent.png' width=350px>"
   ]
  },
  {
   "cell_type": "markdown",
   "metadata": {},
   "source": [
    "## Backpropagation\n",
    "\n",
    "For single layer networks, gradient descent is straightforward to implement. However, it's more complicated for deeper, multilayer neural networks like the one we've built. Complicated enough that it took about 30 years before researchers figured out how to train multilayer networks.\n",
    "\n",
    "Training multilayer networks is done through **backpropagation** which is really just an application of the chain rule from calculus. It's easiest to understand if we convert a two layer network into a graph representation.\n",
    "\n",
    "<img src='assets/backprop_diagram.png' width=550px>\n",
    "\n",
    "In the forward pass through the network, our data and operations go from bottom to top here. We pass the input $x$ through a linear transformation $L_1$ with weights $W_1$ and biases $b_1$. The output then goes through the sigmoid operation $S$ and another linear transformation $L_2$. Finally we calculate the loss $\\ell$. We use the loss as a measure of how bad the network's predictions are. The goal then is to adjust the weights and biases to minimize the loss.\n",
    "\n",
    "To train the weights with gradient descent, we propagate the gradient of the loss backwards through the network. Each operation has some gradient between the inputs and outputs. As we send the gradients backwards, we multiply the incoming gradient with the gradient for the operation. Mathematically, this is really just calculating the gradient of the loss with respect to the weights using the chain rule.\n",
    "\n",
    "$$\n",
    "\\large \\frac{\\partial \\ell}{\\partial W_1} = \\frac{\\partial L_1}{\\partial W_1} \\frac{\\partial S}{\\partial L_1} \\frac{\\partial L_2}{\\partial S} \\frac{\\partial \\ell}{\\partial L_2}\n",
    "$$\n",
    "\n",
    "**Note:** I'm glossing over a few details here that require some knowledge of vector calculus, but they aren't necessary to understand what's going on.\n",
    "\n",
    "We update our weights using this gradient with some learning rate $\\alpha$. \n",
    "\n",
    "$$\n",
    "\\large W^\\prime_1 = W_1 - \\alpha \\frac{\\partial \\ell}{\\partial W_1}\n",
    "$$\n",
    "\n",
    "The learning rate $\\alpha$ is set such that the weight update steps are small enough that the iterative method settles in a minimum."
   ]
  },
  {
   "cell_type": "markdown",
   "metadata": {},
   "source": [
    "\n",
    "\n"
   ]
  },
  {
   "cell_type": "markdown",
   "metadata": {},
   "source": [
    "## Losses in PyTorch\n",
    "\n",
    "Let's start by seeing how we calculate the loss with PyTorch. Through the `nn` module, PyTorch provides losses such as the cross-entropy loss (`nn.CrossEntropyLoss`). You'll usually see the loss assigned to `criterion`. As noted in the last part, with a classification problem such as MNIST, we're using the softmax function to predict class probabilities. With a softmax output, you want to use cross-entropy as the loss. To actually calculate the loss, you first define the criterion then pass in the output of your network and the correct labels.\n",
    "\n",
    "Something really important to note here. Looking at [the documentation for `nn.CrossEntropyLoss`](https://pytorch.org/docs/stable/nn.html#torch.nn.CrossEntropyLoss),\n",
    "\n",
    "> This criterion combines `nn.LogSoftmax()` and `nn.NLLLoss()` in one single class.\n",
    ">\n",
    "> The input is expected to contain scores for each class.\n",
    "\n",
    "This means we need to pass in the raw output of our network into the loss, not the output of the softmax function. This raw output is usually called the *logits* or *scores*. We use the logits because softmax gives you probabilities which will often be very close to zero or one but floating-point numbers can't accurately represent values near zero or one ([read more here](https://docs.python.org/3/tutorial/floatingpoint.html)). It's usually best to avoid doing calculations with probabilities, typically we use log-probabilities."
   ]
  },
  {
   "cell_type": "code",
   "execution_count": 207,
   "metadata": {},
   "outputs": [
    {
     "name": "stdout",
     "output_type": "stream",
     "text": [
      "tensor(2.3104, grad_fn=<NllLossBackward>)\n"
     ]
    }
   ],
   "source": [
    "model = nn.Sequential(nn.Linear(784, 128),\n",
    "                      nn.ReLU(),\n",
    "                      nn.Linear(128, 64),\n",
    "                      nn.ReLU(),\n",
    "                      nn.Linear(64, 10))\n",
    "\n",
    "# Define the loss\n",
    "criterion = nn.CrossEntropyLoss()\n",
    "\n",
    "# Get our data\n",
    "images, labels = next(iter(trainloader))\n",
    "# Flatten images\n",
    "images = images.view(images.shape[0], -1)\n",
    "\n",
    "# Forward pass, get our logits\n",
    "logits = model(images)\n",
    "# Calculate the loss with the logits and the labels\n",
    "loss = criterion(logits, labels)\n",
    "\n",
    "print(loss)"
   ]
  },
  {
   "cell_type": "code",
   "execution_count": 208,
   "metadata": {},
   "outputs": [],
   "source": [
    "model1=nn.Sequential(nn.Linear(784,128),\n",
    "                    nn.ReLU(),\n",
    "                    nn.Linear(128,64),\n",
    "                    nn.ReLU(),\n",
    "                    nn.Linear(64,10),\n",
    "                    nn.LogSoftmax(dim=0))"
   ]
  },
  {
   "cell_type": "code",
   "execution_count": 209,
   "metadata": {},
   "outputs": [
    {
     "data": {
      "text/plain": [
       "Sequential(\n",
       "  (0): Linear(in_features=784, out_features=128, bias=True)\n",
       "  (1): ReLU()\n",
       "  (2): Linear(in_features=128, out_features=64, bias=True)\n",
       "  (3): ReLU()\n",
       "  (4): Linear(in_features=64, out_features=10, bias=True)\n",
       "  (5): LogSoftmax()\n",
       ")"
      ]
     },
     "execution_count": 209,
     "metadata": {},
     "output_type": "execute_result"
    }
   ],
   "source": [
    "model1"
   ]
  },
  {
   "cell_type": "code",
   "execution_count": 210,
   "metadata": {},
   "outputs": [
    {
     "data": {
      "text/plain": [
       "NLLLoss()"
      ]
     },
     "execution_count": 210,
     "metadata": {},
     "output_type": "execute_result"
    }
   ],
   "source": [
    "Criterion1=nn.NLLLoss()\n",
    "Criterion1"
   ]
  },
  {
   "cell_type": "code",
   "execution_count": 211,
   "metadata": {},
   "outputs": [],
   "source": [
    "Images1,Labels1=next(iter(Dataiter))"
   ]
  },
  {
   "cell_type": "code",
   "execution_count": 213,
   "metadata": {},
   "outputs": [],
   "source": [
    "Images1=Images1.view(Images1.shape[0],-1)"
   ]
  },
  {
   "cell_type": "code",
   "execution_count": 214,
   "metadata": {},
   "outputs": [],
   "source": [
    "Logits=model1(Images1)"
   ]
  },
  {
   "cell_type": "code",
   "execution_count": 215,
   "metadata": {},
   "outputs": [],
   "source": [
    "Loss=Criterion1(Logits,Labels1)"
   ]
  },
  {
   "cell_type": "code",
   "execution_count": 216,
   "metadata": {},
   "outputs": [
    {
     "name": "stdout",
     "output_type": "stream",
     "text": [
      "tensor(4.1680, grad_fn=<NllLossBackward>)\n"
     ]
    }
   ],
   "source": [
    "print(Loss)"
   ]
  },
  {
   "cell_type": "code",
   "execution_count": 217,
   "metadata": {},
   "outputs": [
    {
     "data": {
      "text/plain": [
       "Parameter containing:\n",
       "tensor([[-0.0305,  0.0014,  0.0190,  ...,  0.0174, -0.0319,  0.0342],\n",
       "        [-0.0207, -0.0051,  0.0011,  ..., -0.0020,  0.0347, -0.0178],\n",
       "        [ 0.0132,  0.0314, -0.0119,  ..., -0.0123, -0.0148, -0.0251],\n",
       "        ...,\n",
       "        [-0.0106,  0.0154,  0.0160,  ..., -0.0153,  0.0327, -0.0027],\n",
       "        [-0.0324,  0.0170, -0.0234,  ...,  0.0044, -0.0085,  0.0052],\n",
       "        [ 0.0306,  0.0071, -0.0254,  ..., -0.0115, -0.0327,  0.0144]],\n",
       "       requires_grad=True)"
      ]
     },
     "execution_count": 217,
     "metadata": {},
     "output_type": "execute_result"
    }
   ],
   "source": [
    "model1[0].weight\n"
   ]
  },
  {
   "cell_type": "code",
   "execution_count": 218,
   "metadata": {},
   "outputs": [],
   "source": [
    "#after backprop\n",
    "\n",
    "Loss.backward()"
   ]
  },
  {
   "cell_type": "code",
   "execution_count": 219,
   "metadata": {},
   "outputs": [
    {
     "data": {
      "text/plain": [
       "tensor([[-0.0020, -0.0020, -0.0020,  ..., -0.0020, -0.0020, -0.0020],\n",
       "        [-0.0006, -0.0006, -0.0006,  ..., -0.0006, -0.0006, -0.0006],\n",
       "        [-0.0003, -0.0003, -0.0003,  ..., -0.0003, -0.0003, -0.0003],\n",
       "        ...,\n",
       "        [-0.0010, -0.0010, -0.0010,  ..., -0.0010, -0.0010, -0.0010],\n",
       "        [-0.0024, -0.0024, -0.0024,  ..., -0.0024, -0.0024, -0.0024],\n",
       "        [-0.0031, -0.0031, -0.0031,  ..., -0.0031, -0.0031, -0.0031]])"
      ]
     },
     "execution_count": 219,
     "metadata": {},
     "output_type": "execute_result"
    }
   ],
   "source": [
    "model1[0].weight.grad"
   ]
  },
  {
   "cell_type": "code",
   "execution_count": 220,
   "metadata": {},
   "outputs": [],
   "source": [
    "from torch import optim"
   ]
  },
  {
   "cell_type": "code",
   "execution_count": 221,
   "metadata": {},
   "outputs": [],
   "source": [
    "optimizer=optim.SGD(model1.parameters(),lr=0.01)"
   ]
  },
  {
   "cell_type": "markdown",
   "metadata": {},
   "source": [
    "### The Complete Architecture"
   ]
  },
  {
   "cell_type": "code",
   "execution_count": 222,
   "metadata": {},
   "outputs": [],
   "source": [
    "MODEL=nn.Sequential(nn.Linear(784,128),\n",
    "                   nn.ReLU(),\n",
    "                   nn.Linear(128,64),\n",
    "                   nn.ReLU(),\n",
    "                   nn.Linear(64,10),\n",
    "                   nn.LogSoftmax(dim=0))"
   ]
  },
  {
   "cell_type": "code",
   "execution_count": 223,
   "metadata": {},
   "outputs": [
    {
     "data": {
      "text/plain": [
       "Sequential(\n",
       "  (0): Linear(in_features=784, out_features=128, bias=True)\n",
       "  (1): ReLU()\n",
       "  (2): Linear(in_features=128, out_features=64, bias=True)\n",
       "  (3): ReLU()\n",
       "  (4): Linear(in_features=64, out_features=10, bias=True)\n",
       "  (5): LogSoftmax()\n",
       ")"
      ]
     },
     "execution_count": 223,
     "metadata": {},
     "output_type": "execute_result"
    }
   ],
   "source": [
    "MODEL"
   ]
  },
  {
   "cell_type": "code",
   "execution_count": 224,
   "metadata": {},
   "outputs": [],
   "source": [
    "IMAGES1,LABELS1=next(iter(Dataiter))"
   ]
  },
  {
   "cell_type": "code",
   "execution_count": 225,
   "metadata": {},
   "outputs": [],
   "source": [
    "Criterion=nn.NLLLoss()"
   ]
  },
  {
   "cell_type": "code",
   "execution_count": 226,
   "metadata": {},
   "outputs": [],
   "source": [
    "#Flatten \n",
    "IMAGES1=IMAGES1.view(64,784)"
   ]
  },
  {
   "cell_type": "code",
   "execution_count": 227,
   "metadata": {},
   "outputs": [
    {
     "data": {
      "text/plain": [
       "tensor([[-1., -1., -1.,  ..., -1., -1., -1.],\n",
       "        [-1., -1., -1.,  ..., -1., -1., -1.],\n",
       "        [-1., -1., -1.,  ..., -1., -1., -1.],\n",
       "        ...,\n",
       "        [-1., -1., -1.,  ..., -1., -1., -1.],\n",
       "        [-1., -1., -1.,  ..., -1., -1., -1.],\n",
       "        [-1., -1., -1.,  ..., -1., -1., -1.]])"
      ]
     },
     "execution_count": 227,
     "metadata": {},
     "output_type": "execute_result"
    }
   ],
   "source": [
    "IMAGES1"
   ]
  },
  {
   "cell_type": "code",
   "execution_count": 228,
   "metadata": {},
   "outputs": [],
   "source": [
    "optimizer.zero_grad()"
   ]
  },
  {
   "cell_type": "code",
   "execution_count": 229,
   "metadata": {},
   "outputs": [],
   "source": [
    "output=MODEL.forward(IMAGES1)"
   ]
  },
  {
   "cell_type": "code",
   "execution_count": 231,
   "metadata": {},
   "outputs": [],
   "source": [
    "LOSS=Criterion(output,LABELS1)"
   ]
  },
  {
   "cell_type": "code",
   "execution_count": 232,
   "metadata": {},
   "outputs": [
    {
     "data": {
      "text/plain": [
       "tensor(4.1571, grad_fn=<NllLossBackward>)"
      ]
     },
     "execution_count": 232,
     "metadata": {},
     "output_type": "execute_result"
    }
   ],
   "source": [
    "LOSS"
   ]
  },
  {
   "cell_type": "code",
   "execution_count": 233,
   "metadata": {},
   "outputs": [],
   "source": [
    "LOSS.backward()"
   ]
  },
  {
   "cell_type": "code",
   "execution_count": 234,
   "metadata": {},
   "outputs": [
    {
     "name": "stdout",
     "output_type": "stream",
     "text": [
      "Gradient - tensor([[ 0.0006,  0.0006,  0.0006,  ...,  0.0006,  0.0006,  0.0006],\n",
      "        [-0.0007, -0.0007, -0.0007,  ..., -0.0007, -0.0007, -0.0007],\n",
      "        [-0.0006, -0.0006, -0.0006,  ..., -0.0006, -0.0006, -0.0006],\n",
      "        ...,\n",
      "        [-0.0013, -0.0013, -0.0013,  ..., -0.0013, -0.0013, -0.0013],\n",
      "        [ 0.0000,  0.0000,  0.0000,  ...,  0.0000,  0.0000,  0.0000],\n",
      "        [-0.0019, -0.0019, -0.0019,  ..., -0.0019, -0.0019, -0.0019]])\n"
     ]
    }
   ],
   "source": [
    "print('Gradient -', MODEL[0].weight.grad)"
   ]
  },
  {
   "cell_type": "code",
   "execution_count": 235,
   "metadata": {},
   "outputs": [
    {
     "name": "stdout",
     "output_type": "stream",
     "text": [
      "Gradient - tensor([[ 0.0006,  0.0006,  0.0006,  ...,  0.0006,  0.0006,  0.0006],\n",
      "        [-0.0007, -0.0007, -0.0007,  ..., -0.0007, -0.0007, -0.0007],\n",
      "        [-0.0006, -0.0006, -0.0006,  ..., -0.0006, -0.0006, -0.0006],\n",
      "        ...,\n",
      "        [-0.0013, -0.0013, -0.0013,  ..., -0.0013, -0.0013, -0.0013],\n",
      "        [ 0.0000,  0.0000,  0.0000,  ...,  0.0000,  0.0000,  0.0000],\n",
      "        [-0.0019, -0.0019, -0.0019,  ..., -0.0019, -0.0019, -0.0019]])\n"
     ]
    }
   ],
   "source": [
    "optimizer.step()\n",
    "print('Gradient -', MODEL[0].weight.grad)"
   ]
  },
  {
   "cell_type": "code",
   "execution_count": 236,
   "metadata": {},
   "outputs": [
    {
     "name": "stdout",
     "output_type": "stream",
     "text": [
      "Training loss: 1.9166497646618499\n",
      "Training loss: 0.8521192750887576\n",
      "Training loss: 0.5296148362317319\n",
      "Training loss: 0.43061243920628706\n",
      "Training loss: 0.38389284155770403\n"
     ]
    }
   ],
   "source": [
    "model = nn.Sequential(nn.Linear(784, 128),\n",
    "                      nn.ReLU(),\n",
    "                      nn.Linear(128, 64),\n",
    "                      nn.ReLU(),\n",
    "                      nn.Linear(64, 10),\n",
    "                      nn.LogSoftmax(dim=1))\n",
    "\n",
    "criterion = nn.NLLLoss()\n",
    "optimizer = optim.SGD(model.parameters(), lr=0.003)\n",
    "\n",
    "epochs = 5\n",
    "for e in range(epochs):\n",
    "    running_loss = 0\n",
    "    for images, labels in trainloader:\n",
    "        # Flatten MNIST images into a 784 long vector\n",
    "        images = images.view(images.shape[0], -1)\n",
    "    \n",
    "        # TODO: Training pass\n",
    "        optimizer.zero_grad()\n",
    "        \n",
    "        output = model.forward(images)\n",
    "        loss = criterion(output, labels)\n",
    "        loss.backward()\n",
    "        optimizer.step()\n",
    "        \n",
    "        running_loss += loss.item()\n",
    "    else:\n",
    "        print(f\"Training loss: {running_loss/len(trainloader)}\")"
   ]
  },
  {
   "cell_type": "code",
   "execution_count": null,
   "metadata": {},
   "outputs": [],
   "source": []
  }
 ],
 "metadata": {
  "kernelspec": {
   "display_name": "Python 3",
   "language": "python",
   "name": "python3"
  },
  "language_info": {
   "codemirror_mode": {
    "name": "ipython",
    "version": 3
   },
   "file_extension": ".py",
   "mimetype": "text/x-python",
   "name": "python",
   "nbconvert_exporter": "python",
   "pygments_lexer": "ipython3",
   "version": "3.7.6"
  }
 },
 "nbformat": 4,
 "nbformat_minor": 4
}
