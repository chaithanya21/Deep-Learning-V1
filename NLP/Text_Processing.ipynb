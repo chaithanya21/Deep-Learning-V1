{
 "cells": [
  {
   "cell_type": "markdown",
   "metadata": {},
   "source": [
    "# Natural Language Processing Pipeline : Text Processing\n",
    "\n",
    "## Capturing Text Data\n",
    "\n",
    "### Plain Text"
   ]
  },
  {
   "cell_type": "code",
   "execution_count": 35,
   "metadata": {},
   "outputs": [],
   "source": [
    "#import python os library \n",
    "import os"
   ]
  },
  {
   "cell_type": "code",
   "execution_count": 36,
   "metadata": {},
   "outputs": [],
   "source": [
    "#get the file name from the location and read\n",
    "filename=open(os.path.join('data','hieroglyph.txt'),'r')\n",
    "file=filename.read()"
   ]
  },
  {
   "cell_type": "code",
   "execution_count": 37,
   "metadata": {},
   "outputs": [
    {
     "name": "stdout",
     "output_type": "stream",
     "text": [
      "Hieroglyphic writing dates from c. 3000 BC, and is composed of hundreds of symbols. A hieroglyph can represent a word, a sound, or a silent determinative; and the same symbol can serve different purposes in different contexts. Hieroglyphs were a formal script, used on stone monuments and in tombs, that could be as detailed as individual works of art.\n",
      "\n"
     ]
    }
   ],
   "source": [
    "print(file)"
   ]
  },
  {
   "cell_type": "markdown",
   "metadata": {},
   "source": [
    "### Tabular Data"
   ]
  },
  {
   "cell_type": "code",
   "execution_count": 38,
   "metadata": {},
   "outputs": [],
   "source": [
    "#import the pandas library to read most of the tabular data (csv files,json files,etc)\n",
    "import pandas as pd"
   ]
  },
  {
   "cell_type": "code",
   "execution_count": 39,
   "metadata": {},
   "outputs": [
    {
     "data": {
      "text/html": [
       "<div>\n",
       "<style scoped>\n",
       "    .dataframe tbody tr th:only-of-type {\n",
       "        vertical-align: middle;\n",
       "    }\n",
       "\n",
       "    .dataframe tbody tr th {\n",
       "        vertical-align: top;\n",
       "    }\n",
       "\n",
       "    .dataframe thead th {\n",
       "        text-align: right;\n",
       "    }\n",
       "</style>\n",
       "<table border=\"1\" class=\"dataframe\">\n",
       "  <thead>\n",
       "    <tr style=\"text-align: right;\">\n",
       "      <th></th>\n",
       "      <th>id</th>\n",
       "      <th>title</th>\n",
       "      <th>url</th>\n",
       "      <th>publisher</th>\n",
       "      <th>category</th>\n",
       "      <th>story</th>\n",
       "      <th>hostname</th>\n",
       "      <th>timestamp</th>\n",
       "    </tr>\n",
       "  </thead>\n",
       "  <tbody>\n",
       "    <tr>\n",
       "      <th>0</th>\n",
       "      <td>2</td>\n",
       "      <td>Fed's Charles Plosser sees high bar for change...</td>\n",
       "      <td>http://www.livemint.com/Politics/H2EvwJSK2VE6O...</td>\n",
       "      <td>Livemint</td>\n",
       "      <td>b</td>\n",
       "      <td>ddUyU0VZz0BRneMioxUPQVP6sIxvM</td>\n",
       "      <td>www.livemint.com</td>\n",
       "      <td>1394470371207</td>\n",
       "    </tr>\n",
       "    <tr>\n",
       "      <th>1</th>\n",
       "      <td>3</td>\n",
       "      <td>US open: Stocks fall after Fed official hints ...</td>\n",
       "      <td>http://www.ifamagazine.com/news/us-open-stocks...</td>\n",
       "      <td>IFA Magazine</td>\n",
       "      <td>b</td>\n",
       "      <td>ddUyU0VZz0BRneMioxUPQVP6sIxvM</td>\n",
       "      <td>www.ifamagazine.com</td>\n",
       "      <td>1394470371550</td>\n",
       "    </tr>\n",
       "    <tr>\n",
       "      <th>2</th>\n",
       "      <td>4</td>\n",
       "      <td>Fed risks falling 'behind the curve', Charles ...</td>\n",
       "      <td>http://www.ifamagazine.com/news/fed-risks-fall...</td>\n",
       "      <td>IFA Magazine</td>\n",
       "      <td>b</td>\n",
       "      <td>ddUyU0VZz0BRneMioxUPQVP6sIxvM</td>\n",
       "      <td>www.ifamagazine.com</td>\n",
       "      <td>1394470371793</td>\n",
       "    </tr>\n",
       "    <tr>\n",
       "      <th>3</th>\n",
       "      <td>5</td>\n",
       "      <td>Fed's Plosser: Nasty Weather Has Curbed Job Gr...</td>\n",
       "      <td>http://www.moneynews.com/Economy/federal-reser...</td>\n",
       "      <td>Moneynews</td>\n",
       "      <td>b</td>\n",
       "      <td>ddUyU0VZz0BRneMioxUPQVP6sIxvM</td>\n",
       "      <td>www.moneynews.com</td>\n",
       "      <td>1394470372027</td>\n",
       "    </tr>\n",
       "    <tr>\n",
       "      <th>4</th>\n",
       "      <td>6</td>\n",
       "      <td>Plosser: Fed May Have to Accelerate Tapering Pace</td>\n",
       "      <td>http://www.nasdaq.com/article/plosser-fed-may-...</td>\n",
       "      <td>NASDAQ</td>\n",
       "      <td>b</td>\n",
       "      <td>ddUyU0VZz0BRneMioxUPQVP6sIxvM</td>\n",
       "      <td>www.nasdaq.com</td>\n",
       "      <td>1394470372212</td>\n",
       "    </tr>\n",
       "  </tbody>\n",
       "</table>\n",
       "</div>"
      ],
      "text/plain": [
       "   id                                              title  \\\n",
       "0   2  Fed's Charles Plosser sees high bar for change...   \n",
       "1   3  US open: Stocks fall after Fed official hints ...   \n",
       "2   4  Fed risks falling 'behind the curve', Charles ...   \n",
       "3   5  Fed's Plosser: Nasty Weather Has Curbed Job Gr...   \n",
       "4   6  Plosser: Fed May Have to Accelerate Tapering Pace   \n",
       "\n",
       "                                                 url     publisher category  \\\n",
       "0  http://www.livemint.com/Politics/H2EvwJSK2VE6O...      Livemint        b   \n",
       "1  http://www.ifamagazine.com/news/us-open-stocks...  IFA Magazine        b   \n",
       "2  http://www.ifamagazine.com/news/fed-risks-fall...  IFA Magazine        b   \n",
       "3  http://www.moneynews.com/Economy/federal-reser...     Moneynews        b   \n",
       "4  http://www.nasdaq.com/article/plosser-fed-may-...        NASDAQ        b   \n",
       "\n",
       "                           story             hostname      timestamp  \n",
       "0  ddUyU0VZz0BRneMioxUPQVP6sIxvM     www.livemint.com  1394470371207  \n",
       "1  ddUyU0VZz0BRneMioxUPQVP6sIxvM  www.ifamagazine.com  1394470371550  \n",
       "2  ddUyU0VZz0BRneMioxUPQVP6sIxvM  www.ifamagazine.com  1394470371793  \n",
       "3  ddUyU0VZz0BRneMioxUPQVP6sIxvM    www.moneynews.com  1394470372027  \n",
       "4  ddUyU0VZz0BRneMioxUPQVP6sIxvM       www.nasdaq.com  1394470372212  "
      ]
     },
     "execution_count": 39,
     "metadata": {},
     "output_type": "execute_result"
    }
   ],
   "source": [
    "#read the csv file as a pandas dataframe\n",
    "df = pd.read_csv(os.path.join(\"data\", \"news.csv\"))\n",
    "df.head()"
   ]
  },
  {
   "cell_type": "code",
   "execution_count": 40,
   "metadata": {},
   "outputs": [
    {
     "data": {
      "text/plain": [
       "Index(['id', 'title', 'url', 'publisher', 'category', 'story', 'hostname',\n",
       "       'timestamp'],\n",
       "      dtype='object')"
      ]
     },
     "execution_count": 40,
     "metadata": {},
     "output_type": "execute_result"
    }
   ],
   "source": [
    "df.columns"
   ]
  },
  {
   "cell_type": "code",
   "execution_count": 41,
   "metadata": {},
   "outputs": [
    {
     "data": {
      "text/html": [
       "<div>\n",
       "<style scoped>\n",
       "    .dataframe tbody tr th:only-of-type {\n",
       "        vertical-align: middle;\n",
       "    }\n",
       "\n",
       "    .dataframe tbody tr th {\n",
       "        vertical-align: top;\n",
       "    }\n",
       "\n",
       "    .dataframe thead th {\n",
       "        text-align: right;\n",
       "    }\n",
       "</style>\n",
       "<table border=\"1\" class=\"dataframe\">\n",
       "  <thead>\n",
       "    <tr style=\"text-align: right;\">\n",
       "      <th></th>\n",
       "      <th>title</th>\n",
       "      <th>publisher</th>\n",
       "    </tr>\n",
       "  </thead>\n",
       "  <tbody>\n",
       "    <tr>\n",
       "      <th>0</th>\n",
       "      <td>Fed's Charles Plosser sees high bar for change...</td>\n",
       "      <td>Livemint</td>\n",
       "    </tr>\n",
       "    <tr>\n",
       "      <th>1</th>\n",
       "      <td>US open: Stocks fall after Fed official hints ...</td>\n",
       "      <td>IFA Magazine</td>\n",
       "    </tr>\n",
       "    <tr>\n",
       "      <th>2</th>\n",
       "      <td>Fed risks falling 'behind the curve', Charles ...</td>\n",
       "      <td>IFA Magazine</td>\n",
       "    </tr>\n",
       "    <tr>\n",
       "      <th>3</th>\n",
       "      <td>Fed's Plosser: Nasty Weather Has Curbed Job Gr...</td>\n",
       "      <td>Moneynews</td>\n",
       "    </tr>\n",
       "    <tr>\n",
       "      <th>4</th>\n",
       "      <td>Plosser: Fed May Have to Accelerate Tapering Pace</td>\n",
       "      <td>NASDAQ</td>\n",
       "    </tr>\n",
       "  </tbody>\n",
       "</table>\n",
       "</div>"
      ],
      "text/plain": [
       "                                               title     publisher\n",
       "0  Fed's Charles Plosser sees high bar for change...      Livemint\n",
       "1  US open: Stocks fall after Fed official hints ...  IFA Magazine\n",
       "2  Fed risks falling 'behind the curve', Charles ...  IFA Magazine\n",
       "3  Fed's Plosser: Nasty Weather Has Curbed Job Gr...     Moneynews\n",
       "4  Plosser: Fed May Have to Accelerate Tapering Pace        NASDAQ"
      ]
     },
     "execution_count": 41,
     "metadata": {},
     "output_type": "execute_result"
    }
   ],
   "source": [
    "\n",
    "df.head()[['title','publisher']]"
   ]
  },
  {
   "cell_type": "code",
   "execution_count": 42,
   "metadata": {},
   "outputs": [
    {
     "data": {
      "text/plain": [
       "0     fed's charles plosser sees high bar for change...\n",
       "1     us open: stocks fall after fed official hints ...\n",
       "2     fed risks falling 'behind the curve', charles ...\n",
       "3     fed's plosser: nasty weather has curbed job gr...\n",
       "4     plosser: fed may have to accelerate tapering pace\n",
       "5             fed's plosser: taper pace may be too slow\n",
       "6     fed's plosser expects us unemployment to fall ...\n",
       "7     us jobs growth last month hit by weather:fed p...\n",
       "8     ecb unlikely to end sterilisation of smp purch...\n",
       "9     ecb unlikely to end sterilization of smp purch...\n",
       "10                eu's half-baked bank union could work\n",
       "11         europe reaches crunch point on banking union\n",
       "12    ecb focus-stronger euro drowns out ecb's messa...\n",
       "13           eu aims for deal on tackling failing banks\n",
       "14    forex - pound drops to one-month lows against ...\n",
       "15    noyer says strong euro creates unwarranted eco...\n",
       "16    eu week ahead march 10-14: bank resolution, tr...\n",
       "17    ecb member noyer is 'very open to all kinds of...\n",
       "18    euro anxieties wane as bunds top treasuries, s...\n",
       "19    noyer says strong euro creates unwarranted eco...\n",
       "20    noyer says stronger euro creates unwarranted p...\n",
       "21    bad loan triggers key feature in ecb bank test...\n",
       "22    china's trade deficit and structural worries i...\n",
       "23              10 things you need to know this morning\n",
       "24    ecb's noyer not happy with euro strength -- up...\n",
       "25     eurozone banks' sovereign exposure hits new high\n",
       "26    ecb to reveal bad loan hurdles for euro zone b...\n",
       "27    forex market: eur/usd retreats from 2-1/2-year...\n",
       "28    refile-bad loan triggers key feature in ecb ba...\n",
       "29    update 1-ecb to reveal bad loan hurdles for eu...\n",
       "                            ...                        \n",
       "70    update 1-ebay rejects icahn board nominees, as...\n",
       "71    ebay rejects icahn board nominees, urges inves...\n",
       "72    carl icahn: donahoe cost ebay investors more t...\n",
       "73    ebay urges shareholders to vote against icahn ...\n",
       "74      ebay asks stockholders to oppose icahn nominees\n",
       "75    ebay says carl icahn's board picks 'not qualif...\n",
       "76                mcdonald's struggles worsened by snow\n",
       "77     food: mcdonald's game plan to win back customers\n",
       "78     mcdonald's reports drop in february global sales\n",
       "79           mcdonald's game plan to win back customers\n",
       "80    mcdonald's sales decline as chain looks to ada...\n",
       "81    3 things to watch for as mcdonald's fights to ...\n",
       "82     mcdonald's sales dip amid shifting eating habits\n",
       "83    mcdonald's sales dip amid shifting eating habi...\n",
       "84      mcdonald's february us sales chilled by weather\n",
       "85    mcdonald's us sales fall 1.4 per cent in febru...\n",
       "86    mcdonald's corporation (mcd) february sales re...\n",
       "87    mcdonald's sales decline as chain looks to ada...\n",
       "88         mcdonald's to try build-your-own-burger menu\n",
       "89    mcdonald's us sales continue to struggle in fe...\n",
       "90    $5 20-piece chicken nuggets didn't help mcdona...\n",
       "91    burn: mcdonald's business did not heat up in f...\n",
       "92    mcdonald's february same-restaurant sales fall...\n",
       "93         mcdonald's posts weak february sales results\n",
       "94    update 2-mcdonald's us sales continue to strug...\n",
       "95    mcdonald's sales slip as americans' eating hab...\n",
       "96    five guys, chipotle continue to take bites out...\n",
       "97    mcdonald's reports lower us sales amid bitter ...\n",
       "98                       mcdonald's not lovin' us sales\n",
       "99    mcdonald's reports a 0.3 percent drop in febru...\n",
       "Name: title, Length: 100, dtype: object"
      ]
     },
     "execution_count": 42,
     "metadata": {},
     "output_type": "execute_result"
    }
   ],
   "source": [
    "df['title'].str.lower()"
   ]
  },
  {
   "cell_type": "code",
   "execution_count": 43,
   "metadata": {
    "scrolled": true
   },
   "outputs": [
    {
     "data": {
      "text/html": [
       "<div>\n",
       "<style scoped>\n",
       "    .dataframe tbody tr th:only-of-type {\n",
       "        vertical-align: middle;\n",
       "    }\n",
       "\n",
       "    .dataframe tbody tr th {\n",
       "        vertical-align: top;\n",
       "    }\n",
       "\n",
       "    .dataframe thead th {\n",
       "        text-align: right;\n",
       "    }\n",
       "</style>\n",
       "<table border=\"1\" class=\"dataframe\">\n",
       "  <thead>\n",
       "    <tr style=\"text-align: right;\">\n",
       "      <th></th>\n",
       "      <th>publisher</th>\n",
       "      <th>title</th>\n",
       "    </tr>\n",
       "  </thead>\n",
       "  <tbody>\n",
       "    <tr>\n",
       "      <th>0</th>\n",
       "      <td>Livemint</td>\n",
       "      <td>fed's charles plosser sees high bar for change...</td>\n",
       "    </tr>\n",
       "    <tr>\n",
       "      <th>1</th>\n",
       "      <td>IFA Magazine</td>\n",
       "      <td>us open: stocks fall after fed official hints ...</td>\n",
       "    </tr>\n",
       "    <tr>\n",
       "      <th>2</th>\n",
       "      <td>IFA Magazine</td>\n",
       "      <td>fed risks falling 'behind the curve', charles ...</td>\n",
       "    </tr>\n",
       "    <tr>\n",
       "      <th>3</th>\n",
       "      <td>Moneynews</td>\n",
       "      <td>fed's plosser: nasty weather has curbed job gr...</td>\n",
       "    </tr>\n",
       "    <tr>\n",
       "      <th>4</th>\n",
       "      <td>NASDAQ</td>\n",
       "      <td>plosser: fed may have to accelerate tapering pace</td>\n",
       "    </tr>\n",
       "  </tbody>\n",
       "</table>\n",
       "</div>"
      ],
      "text/plain": [
       "      publisher                                              title\n",
       "0      Livemint  fed's charles plosser sees high bar for change...\n",
       "1  IFA Magazine  us open: stocks fall after fed official hints ...\n",
       "2  IFA Magazine  fed risks falling 'behind the curve', charles ...\n",
       "3     Moneynews  fed's plosser: nasty weather has curbed job gr...\n",
       "4        NASDAQ  plosser: fed may have to accelerate tapering pace"
      ]
     },
     "execution_count": 43,
     "metadata": {},
     "output_type": "execute_result"
    }
   ],
   "source": [
    "# Convert text column to lowercase\n",
    "df['title'] = df['title'].str.lower()\n",
    "df.head()[['publisher', 'title']]"
   ]
  },
  {
   "cell_type": "markdown",
   "metadata": {},
   "source": [
    "### Online Resource"
   ]
  },
  {
   "cell_type": "code",
   "execution_count": 44,
   "metadata": {
    "scrolled": true
   },
   "outputs": [
    {
     "name": "stdout",
     "output_type": "stream",
     "text": [
      "{\n",
      "    \"success\": {\n",
      "        \"total\": 1\n",
      "    },\n",
      "    \"contents\": {\n",
      "        \"quotes\": [\n",
      "            {\n",
      "                \"quote\": \"Luck is a dividend of sweat. The more you sweat, the luckier you get\",\n",
      "                \"length\": \"68\",\n",
      "                \"author\": \"Ray Kroc\",\n",
      "                \"tags\": [\n",
      "                    \"hard-work\",\n",
      "                    \"inspire\",\n",
      "                    \"luck\"\n",
      "                ],\n",
      "                \"category\": \"inspire\",\n",
      "                \"language\": \"en\",\n",
      "                \"date\": \"2020-05-15\",\n",
      "                \"permalink\": \"https://theysaidso.com/quote/ray-kroc-luck-is-a-dividend-of-sweat-the-more-you-sweat-the-luckier-you-get\",\n",
      "                \"id\": \"6swMxxXixfwY6vqClJXzmweF\",\n",
      "                \"background\": \"https://theysaidso.com/img/qod/qod-inspire.jpg\",\n",
      "                \"title\": \"Inspiring Quote of the day\"\n",
      "            }\n",
      "        ]\n",
      "    },\n",
      "    \"baseurl\": \"https://theysaidso.com\",\n",
      "    \"copyright\": {\n",
      "        \"year\": 2022,\n",
      "        \"url\": \"https://theysaidso.com\"\n",
      "    }\n",
      "}\n",
      "Luck is a dividend of sweat. The more you sweat, the luckier you get \n",
      "-- Ray Kroc\n"
     ]
    }
   ],
   "source": [
    "import requests\n",
    "import json\n",
    "\n",
    "# Fetch data from a REST API\n",
    "r = requests.get(\n",
    "    \"https://quotes.rest/qod.json\")\n",
    "res = r.json()\n",
    "print(json.dumps(res, indent=4))\n",
    "\n",
    "# Extract relevant object and field\n",
    "q = res[\"contents\"][\"quotes\"][0]\n",
    "print(q[\"quote\"], \"\\n--\", q[\"author\"])"
   ]
  },
  {
   "cell_type": "markdown",
   "metadata": {},
   "source": [
    "## Cleaning"
   ]
  },
  {
   "cell_type": "code",
   "execution_count": 45,
   "metadata": {},
   "outputs": [
    {
     "name": "stdout",
     "output_type": "stream",
     "text": [
      "<html lang=\"en\" op=\"news\"><head><meta name=\"referrer\" content=\"origin\"><meta name=\"viewport\" content=\"width=device-width, initial-scale=1.0\"><link rel=\"stylesheet\" type=\"text/css\" href=\"news.css?fIA1WYHO2oSfVe60PsAM\">\n",
      "        <link rel=\"shortcut icon\" href=\"favicon.ico\">\n",
      "          <link rel=\"alternate\" type=\"application/rss+xml\" title=\"RSS\" href=\"rss\">\n",
      "        <title>Hacker News</title></head><body><center><table id=\"hnmain\" border=\"0\" cellpadding=\"0\" cellspacing=\"0\" width=\"85%\" bgcolor=\"#f6f6ef\">\n",
      "        <tr><td bgcolor=\"#ff6600\"><table border=\"0\" cellpadding=\"0\" cellspacing=\"0\" width=\"100%\" style=\"padding:2px\"><tr><td style=\"width:18px;padding-right:4px\"><a href=\"https://news.ycombinator.com\"><img src=\"y18.gif\" width=\"18\" height=\"18\" style=\"border:1px white solid;\"></a></td>\n",
      "                  <td style=\"line-height:12pt; height:10px;\"><span class=\"pagetop\"><b class=\"hnname\"><a href=\"news\">Hacker News</a></b>\n",
      "              <a href=\"newest\">new</a> | <a href=\"front\">past</a> | <a href=\"newcomments\">comments</a> | <a href=\"ask\">ask</a> | <a href=\"show\">show</a> | <a href=\"jobs\">jobs</a> | <a href=\"submit\">submit</a>            </span></td><td style=\"text-align:right;padding-right:4px;\"><span class=\"pagetop\">\n",
      "                              <a href=\"login?goto=news\">login</a>\n",
      "                          </span></td>\n",
      "              </tr></table></td></tr>\n",
      "<tr id=\"pagespace\" title=\"\" style=\"height:10px\"></tr><tr><td><table border=\"0\" cellpadding=\"0\" cellspacing=\"0\" class=\"itemlist\">\n",
      "              <tr class='athing' id='23187698'>\n",
      "      <td align=\"right\" valign=\"top\" class=\"title\"><span class=\"rank\">1.</span></td>      <td valign=\"top\" class=\"votelinks\"><center><a id='up_23187698' href='vote?id=23187698&amp;how=up&amp;goto=news'><div class='votearrow' title='upvote'></div></a></center></td><td class=\"title\"><a href=\"https://www.tsmc.com/tsmcdotcom/PRListingNewsAction.do?action=detail&amp;language=E&amp;newsid=THGOANPGTH\" class=\"storylink\">TSMC Announces Intention to Build and Operate Advanced Semiconductor Fab in U.S.</a><span class=\"sitebit comhead\"> (<a href=\"from?site=tsmc.com\"><span class=\"sitestr\">tsmc.com</span></a>)</span></td></tr><tr><td colspan=\"2\"></td><td class=\"subtext\">\n",
      "        <span class=\"score\" id=\"score_23187698\">295 points</span> by <a href=\"user?id=ytch\" class=\"hnuser\">ytch</a> <span class=\"age\"><a href=\"item?id=23187698\">6 hours ago</a></span> <span id=\"unv_23187698\"></span> | <a href=\"hide?id=23187698&amp;goto=news\">hide</a> | <a href=\"item?id=23187698\">246&nbsp;comments</a>              </td></tr>\n",
      "      <tr class=\"spacer\" style=\"height:5px\"></tr>\n",
      "                <tr class='athing' id='23187948'>\n",
      "      <td align=\"right\" valign=\"top\" class=\"title\"><span class=\"rank\">2.</span></td>      <td valign=\"top\" class=\"votelinks\"><center><a id='up_23187948' href='vote?id=23187948&amp;how=up&amp;goto=news'><div class='votearrow' title='upvote'></div></a></center></td><td class=\"title\"><a href=\"https://frenxi.com/http-headers-you-dont-expect/\" class=\"storylink\">Next dream job can be in an HTTP header</a><span class=\"sitebit comhead\"> (<a href=\"from?site=frenxi.com\"><span class=\"sitestr\">frenxi.com</span></a>)</span></td></tr><tr><td colspan=\"2\"></td><td class=\"subtext\">\n",
      "        <span class=\"score\" id=\"score_23187948\">143 points</span> by <a href=\"user?id=frenxi\" class=\"hnuser\">frenxi</a> <span class=\"age\"><a href=\"item?id=23187948\">6 hours ago</a></span> <span id=\"unv_23187948\"></span> | <a href=\"hide?id=23187948&amp;goto=news\">hide</a> | <a href=\"item?id=23187948\">68&nbsp;comments</a>              </td></tr>\n",
      "      <tr class=\"spacer\" style=\"height:5px\"></tr>\n",
      "                <tr class='athing' id='23174493'>\n",
      "      <td align=\"right\" valign=\"top\" class=\"title\"><span class=\"rank\">3.</span></td>      <td valign=\"top\" class=\"votelinks\"><center><a id='up_23174493' href='vote?id=23174493&amp;how=up&amp;goto=news'><div class='votearrow' title='upvote'></div></a></center></td><td class=\"title\"><a href=\"https://github.com/evzaboun/garage-door\" class=\"storylink\">Show HN: Raspberry Pi garage door opener</a><span class=\"sitebit comhead\"> (<a href=\"from?site=github.com\"><span class=\"sitestr\">github.com</span></a>)</span></td></tr><tr><td colspan=\"2\"></td><td class=\"subtext\">\n",
      "        <span class=\"score\" id=\"score_23174493\">26 points</span> by <a href=\"user?id=zaabis\" class=\"hnuser\">zaabis</a> <span class=\"age\"><a href=\"item?id=23174493\">2 hours ago</a></span> <span id=\"unv_23174493\"></span> | <a href=\"hide?id=23174493&amp;goto=news\">hide</a> | <a href=\"item?id=23174493\">27&nbsp;comments</a>              </td></tr>\n",
      "      <tr class=\"spacer\" style=\"height:5px\"></tr>\n",
      "                <tr class='athing' id='23188238'>\n",
      "      <td align=\"right\" valign=\"top\" class=\"title\"><span class=\"rank\">4.</span></td>      <td valign=\"top\" class=\"votelinks\"><center><a id='up_23188238' href='vote?id=23188238&amp;how=up&amp;goto=news'><div class='votearrow' title='upvote'></div></a></center></td><td class=\"title\"><a href=\"https://github.com/flotwig/the-one-cert\" class=\"storylink\">An SSL cert that is valid for any and all domains and all levels of subdomains</a><span class=\"sitebit comhead\"> (<a href=\"from?site=github.com\"><span class=\"sitestr\">github.com</span></a>)</span></td></tr><tr><td colspan=\"2\"></td><td class=\"subtext\">\n",
      "        <span class=\"score\" id=\"score_23188238\">49 points</span> by <a href=\"user?id=kick\" class=\"hnuser\">kick</a> <span class=\"age\"><a href=\"item?id=23188238\">4 hours ago</a></span> <span id=\"unv_23188238\"></span> | <a href=\"hide?id=23188238&amp;goto=news\">hide</a> | <a href=\"item?id=23188238\">33&nbsp;comments</a>              </td></tr>\n",
      "      <tr class=\"spacer\" style=\"height:5px\"></tr>\n",
      "                <tr class='athing' id='23187662'>\n",
      "      <td align=\"right\" valign=\"top\" class=\"title\"><span class=\"rank\">5.</span></td>      <td valign=\"top\" class=\"votelinks\"><center><a id='up_23187662' href='vote?id=23187662&amp;how=up&amp;goto=news'><div class='votearrow' title='upvote'></div></a></center></td><td class=\"title\"><a href=\"https://en.wikipedia.org/wiki/Port_knocking\" class=\"storylink\">Port knocking</a><span class=\"sitebit comhead\"> (<a href=\"from?site=wikipedia.org\"><span class=\"sitestr\">wikipedia.org</span></a>)</span></td></tr><tr><td colspan=\"2\"></td><td class=\"subtext\">\n",
      "        <span class=\"score\" id=\"score_23187662\">141 points</span> by <a href=\"user?id=simonpure\" class=\"hnuser\">simonpure</a> <span class=\"age\"><a href=\"item?id=23187662\">6 hours ago</a></span> <span id=\"unv_23187662\"></span> | <a href=\"hide?id=23187662&amp;goto=news\">hide</a> | <a href=\"item?id=23187662\">91&nbsp;comments</a>              </td></tr>\n",
      "      <tr class=\"spacer\" style=\"height:5px\"></tr>\n",
      "                <tr class='athing' id='23180975'>\n",
      "      <td align=\"right\" valign=\"top\" class=\"title\"><span class=\"rank\">6.</span></td>      <td valign=\"top\" class=\"votelinks\"><center><a id='up_23180975' href='vote?id=23180975&amp;how=up&amp;goto=news'><div class='votearrow' title='upvote'></div></a></center></td><td class=\"title\"><a href=\"https://rekken.github.io/2020/05/14/Security-Flaws-in-Adobe-Acrobat-Reader-Allow-Malicious-Program-to-Gain-Root-on-macOS-Silently/\" class=\"storylink\">Security Flaws in Adobe Acrobat Reader Allow Gaining Root on macOS Silently</a><span class=\"sitebit comhead\"> (<a href=\"from?site=rekken.github.io\"><span class=\"sitestr\">rekken.github.io</span></a>)</span></td></tr><tr><td colspan=\"2\"></td><td class=\"subtext\">\n",
      "        <span class=\"score\" id=\"score_23180975\">742 points</span> by <a href=\"user?id=feross\" class=\"hnuser\">feross</a> <span class=\"age\"><a href=\"item?id=23180975\">16 hours ago</a></span> <span id=\"unv_23180975\"></span> | <a href=\"hide?id=23180975&amp;goto=news\">hide</a> | <a href=\"item?id=23180975\">357&nbsp;comments</a>              </td></tr>\n",
      "      <tr class=\"spacer\" style=\"height:5px\"></tr>\n",
      "                <tr class='athing' id='23175469'>\n",
      "      <td align=\"right\" valign=\"top\" class=\"title\"><span class=\"rank\">7.</span></td>      <td valign=\"top\" class=\"votelinks\"><center><a id='up_23175469' href='vote?id=23175469&amp;how=up&amp;goto=news'><div class='votearrow' title='upvote'></div></a></center></td><td class=\"title\"><a href=\"https://tookmund.com/2020/05/roman-finger-counting\" class=\"storylink\">Roman Finger Counting</a><span class=\"sitebit comhead\"> (<a href=\"from?site=tookmund.com\"><span class=\"sitestr\">tookmund.com</span></a>)</span></td></tr><tr><td colspan=\"2\"></td><td class=\"subtext\">\n",
      "        <span class=\"score\" id=\"score_23175469\">111 points</span> by <a href=\"user?id=JNRowe\" class=\"hnuser\">JNRowe</a> <span class=\"age\"><a href=\"item?id=23175469\">9 hours ago</a></span> <span id=\"unv_23175469\"></span> | <a href=\"hide?id=23175469&amp;goto=news\">hide</a> | <a href=\"item?id=23175469\">44&nbsp;comments</a>              </td></tr>\n",
      "      <tr class=\"spacer\" style=\"height:5px\"></tr>\n",
      "                <tr class='athing' id='23185131'>\n",
      "      <td align=\"right\" valign=\"top\" class=\"title\"><span class=\"rank\">8.</span></td>      <td valign=\"top\" class=\"votelinks\"><center><a id='up_23185131' href='vote?id=23185131&amp;how=up&amp;goto=news'><div class='votearrow' title='upvote'></div></a></center></td><td class=\"title\"><a href=\"https://donotdrawapenis.com/\" class=\"storylink\">Do not Draw a Penis</a><span class=\"sitebit comhead\"> (<a href=\"from?site=donotdrawapenis.com\"><span class=\"sitestr\">donotdrawapenis.com</span></a>)</span></td></tr><tr><td colspan=\"2\"></td><td class=\"subtext\">\n",
      "        <span class=\"score\" id=\"score_23185131\">778 points</span> by <a href=\"user?id=dvt\" class=\"hnuser\">dvt</a> <span class=\"age\"><a href=\"item?id=23185131\">11 hours ago</a></span> <span id=\"unv_23185131\"></span> | <a href=\"hide?id=23185131&amp;goto=news\">hide</a> | <a href=\"item?id=23185131\">329&nbsp;comments</a>              </td></tr>\n",
      "      <tr class=\"spacer\" style=\"height:5px\"></tr>\n",
      "                <tr class='athing' id='23185757'>\n",
      "      <td align=\"right\" valign=\"top\" class=\"title\"><span class=\"rank\">9.</span></td>      <td valign=\"top\" class=\"votelinks\"><center><a id='up_23185757' href='vote?id=23185757&amp;how=up&amp;goto=news'><div class='votearrow' title='upvote'></div></a></center></td><td class=\"title\"><a href=\"https://cloud.google.com/blog/topics/hybrid-cloud/announcing-google-cloud-vmware-engine\" class=\"storylink\">Announcing Google Cloud VMware Engine</a><span class=\"sitebit comhead\"> (<a href=\"from?site=cloud.google.com\"><span class=\"sitestr\">cloud.google.com</span></a>)</span></td></tr><tr><td colspan=\"2\"></td><td class=\"subtext\">\n",
      "        <span class=\"score\" id=\"score_23185757\">133 points</span> by <a href=\"user?id=v7p1Qbt1im\" class=\"hnuser\">v7p1Qbt1im</a> <span class=\"age\"><a href=\"item?id=23185757\">10 hours ago</a></span> <span id=\"unv_23185757\"></span> | <a href=\"hide?id=23185757&amp;goto=news\">hide</a> | <a href=\"item?id=23185757\">38&nbsp;comments</a>              </td></tr>\n",
      "      <tr class=\"spacer\" style=\"height:5px\"></tr>\n",
      "                <tr class='athing' id='23184576'>\n",
      "      <td align=\"right\" valign=\"top\" class=\"title\"><span class=\"rank\">10.</span></td>      <td valign=\"top\" class=\"votelinks\"><center><a id='up_23184576' href='vote?id=23184576&amp;how=up&amp;goto=news'><div class='votearrow' title='upvote'></div></a></center></td><td class=\"title\"><a href=\"https://www.economist.com/science-and-technology/2020/05/16/which-way-a-wind-turbine-turns-might-not-seem-to-matter\" class=\"storylink\">Which way a wind turbine turns might not seem to matter, but it does</a><span class=\"sitebit comhead\"> (<a href=\"from?site=economist.com\"><span class=\"sitestr\">economist.com</span></a>)</span></td></tr><tr><td colspan=\"2\"></td><td class=\"subtext\">\n",
      "        <span class=\"score\" id=\"score_23184576\">132 points</span> by <a href=\"user?id=edward\" class=\"hnuser\">edward</a> <span class=\"age\"><a href=\"item?id=23184576\">11 hours ago</a></span> <span id=\"unv_23184576\"></span> | <a href=\"hide?id=23184576&amp;goto=news\">hide</a> | <a href=\"item?id=23184576\">69&nbsp;comments</a>              </td></tr>\n",
      "      <tr class=\"spacer\" style=\"height:5px\"></tr>\n",
      "                <tr class='athing' id='23176942'>\n",
      "      <td align=\"right\" valign=\"top\" class=\"title\"><span class=\"rank\">11.</span></td>      <td valign=\"top\" class=\"votelinks\"><center><a id='up_23176942' href='vote?id=23176942&amp;how=up&amp;goto=news'><div class='votearrow' title='upvote'></div></a></center></td><td class=\"title\"><a href=\"https://blog.metaobject.com/2020/05/embedding-objective-smalltalk.html\" class=\"storylink\">Embedding Objective-Smalltalk</a><span class=\"sitebit comhead\"> (<a href=\"from?site=metaobject.com\"><span class=\"sitestr\">metaobject.com</span></a>)</span></td></tr><tr><td colspan=\"2\"></td><td class=\"subtext\">\n",
      "        <span class=\"score\" id=\"score_23176942\">38 points</span> by <a href=\"user?id=mpweiher\" class=\"hnuser\">mpweiher</a> <span class=\"age\"><a href=\"item?id=23176942\">6 hours ago</a></span> <span id=\"unv_23176942\"></span> | <a href=\"hide?id=23176942&amp;goto=news\">hide</a> | <a href=\"item?id=23176942\">3&nbsp;comments</a>              </td></tr>\n",
      "      <tr class=\"spacer\" style=\"height:5px\"></tr>\n",
      "                <tr class='athing' id='23176327'>\n",
      "      <td align=\"right\" valign=\"top\" class=\"title\"><span class=\"rank\">12.</span></td>      <td valign=\"top\" class=\"votelinks\"><center><a id='up_23176327' href='vote?id=23176327&amp;how=up&amp;goto=news'><div class='votearrow' title='upvote'></div></a></center></td><td class=\"title\"><a href=\"https://engineering.fb.com/connectivity/2africa/\" class=\"storylink\">Building a subsea cable to better connect Africa</a><span class=\"sitebit comhead\"> (<a href=\"from?site=fb.com\"><span class=\"sitestr\">fb.com</span></a>)</span></td></tr><tr><td colspan=\"2\"></td><td class=\"subtext\">\n",
      "        <span class=\"score\" id=\"score_23176327\">138 points</span> by <a href=\"user?id=ampersandy\" class=\"hnuser\">ampersandy</a> <span class=\"age\"><a href=\"item?id=23176327\">13 hours ago</a></span> <span id=\"unv_23176327\"></span> | <a href=\"hide?id=23176327&amp;goto=news\">hide</a> | <a href=\"item?id=23176327\">83&nbsp;comments</a>              </td></tr>\n",
      "      <tr class=\"spacer\" style=\"height:5px\"></tr>\n",
      "                <tr class='athing' id='23175411'>\n",
      "      <td align=\"right\" valign=\"top\" class=\"title\"><span class=\"rank\">13.</span></td>      <td valign=\"top\" class=\"votelinks\"><center><a id='up_23175411' href='vote?id=23175411&amp;how=up&amp;goto=news'><div class='votearrow' title='upvote'></div></a></center></td><td class=\"title\"><a href=\"https://www.anandtech.com/show/15783/the-supermicro-h11dsi-motherboard-review\" class=\"storylink\">The Supermicro H11DSi Motherboard Mini-Review: The Sole Dual EPYC Solution</a><span class=\"sitebit comhead\"> (<a href=\"from?site=anandtech.com\"><span class=\"sitestr\">anandtech.com</span></a>)</span></td></tr><tr><td colspan=\"2\"></td><td class=\"subtext\">\n",
      "        <span class=\"score\" id=\"score_23175411\">23 points</span> by <a href=\"user?id=rubyn00bie\" class=\"hnuser\">rubyn00bie</a> <span class=\"age\"><a href=\"item?id=23175411\">4 hours ago</a></span> <span id=\"unv_23175411\"></span> | <a href=\"hide?id=23175411&amp;goto=news\">hide</a> | <a href=\"item?id=23175411\">10&nbsp;comments</a>              </td></tr>\n",
      "      <tr class=\"spacer\" style=\"height:5px\"></tr>\n",
      "                <tr class='athing' id='23173036'>\n",
      "      <td align=\"right\" valign=\"top\" class=\"title\"><span class=\"rank\">14.</span></td>      <td valign=\"top\" class=\"votelinks\"><center><a id='up_23173036' href='vote?id=23173036&amp;how=up&amp;goto=news'><div class='votearrow' title='upvote'></div></a></center></td><td class=\"title\"><a href=\"https://www.smithsonianmag.com/smart-news/egypt-announces-two-archaeological-discoveries-180974821/\" class=\"storylink\">Archaeologists Discover Teenage Mummy Buried with Trove of Ornate Jewelry</a><span class=\"sitebit comhead\"> (<a href=\"from?site=smithsonianmag.com\"><span class=\"sitestr\">smithsonianmag.com</span></a>)</span></td></tr><tr><td colspan=\"2\"></td><td class=\"subtext\">\n",
      "        <span class=\"score\" id=\"score_23173036\">14 points</span> by <a href=\"user?id=diodorus\" class=\"hnuser\">diodorus</a> <span class=\"age\"><a href=\"item?id=23173036\">5 hours ago</a></span> <span id=\"unv_23173036\"></span> | <a href=\"hide?id=23173036&amp;goto=news\">hide</a> | <a href=\"item?id=23173036\">3&nbsp;comments</a>              </td></tr>\n",
      "      <tr class=\"spacer\" style=\"height:5px\"></tr>\n",
      "                <tr class='athing' id='23170881'>\n",
      "      <td align=\"right\" valign=\"top\" class=\"title\"><span class=\"rank\">15.</span></td>      <td valign=\"top\" class=\"votelinks\"><center><a id='up_23170881' href='vote?id=23170881&amp;how=up&amp;goto=news'><div class='votearrow' title='upvote'></div></a></center></td><td class=\"title\"><a href=\"item?id=23170881\" class=\"storylink\">Ask HN: What's your quarantine side project?</a></td></tr><tr><td colspan=\"2\"></td><td class=\"subtext\">\n",
      "        <span class=\"score\" id=\"score_23170881\">918 points</span> by <a href=\"user?id=dhr\" class=\"hnuser\">dhr</a> <span class=\"age\"><a href=\"item?id=23170881\">1 day ago</a></span> <span id=\"unv_23170881\"></span> | <a href=\"hide?id=23170881&amp;goto=news\">hide</a> | <a href=\"item?id=23170881\">1725&nbsp;comments</a>              </td></tr>\n",
      "      <tr class=\"spacer\" style=\"height:5px\"></tr>\n",
      "                <tr class='athing' id='23172905'>\n",
      "      <td align=\"right\" valign=\"top\" class=\"title\"><span class=\"rank\">16.</span></td>      <td valign=\"top\" class=\"votelinks\"><center><a id='up_23172905' href='vote?id=23172905&amp;how=up&amp;goto=news'><div class='votearrow' title='upvote'></div></a></center></td><td class=\"title\"><a href=\"https://www.newyorker.com/books/second-read/when-james-baldwin-wrote-about-the-atlanta-child-murders\" class=\"storylink\">When James Baldwin wrote about the Atlanta child murders</a><span class=\"sitebit comhead\"> (<a href=\"from?site=newyorker.com\"><span class=\"sitestr\">newyorker.com</span></a>)</span></td></tr><tr><td colspan=\"2\"></td><td class=\"subtext\">\n",
      "        <span class=\"score\" id=\"score_23172905\">58 points</span> by <a href=\"user?id=prismatic\" class=\"hnuser\">prismatic</a> <span class=\"age\"><a href=\"item?id=23172905\">10 hours ago</a></span> <span id=\"unv_23172905\"></span> | <a href=\"hide?id=23172905&amp;goto=news\">hide</a> | <a href=\"item?id=23172905\">9&nbsp;comments</a>              </td></tr>\n",
      "      <tr class=\"spacer\" style=\"height:5px\"></tr>\n",
      "                <tr class='athing' id='23183440'>\n",
      "      <td align=\"right\" valign=\"top\" class=\"title\"><span class=\"rank\">17.</span></td>      <td valign=\"top\" class=\"votelinks\"><center><a id='up_23183440' href='vote?id=23183440&amp;how=up&amp;goto=news'><div class='votearrow' title='upvote'></div></a></center></td><td class=\"title\"><a href=\"https://www.reuters.com/article/us-gm-autonomous-layoffs/gm-self-driving-tech-unit-cruise-laying-off-about-8-of-staff-idUSKBN22Q34W\" class=\"storylink\">GM self-driving tech unit Cruise laying off about 8% of staff</a><span class=\"sitebit comhead\"> (<a href=\"from?site=reuters.com\"><span class=\"sitestr\">reuters.com</span></a>)</span></td></tr><tr><td colspan=\"2\"></td><td class=\"subtext\">\n",
      "        <span class=\"score\" id=\"score_23183440\">232 points</span> by <a href=\"user?id=AlotOfReading\" class=\"hnuser\">AlotOfReading</a> <span class=\"age\"><a href=\"item?id=23183440\">13 hours ago</a></span> <span id=\"unv_23183440\"></span> | <a href=\"hide?id=23183440&amp;goto=news\">hide</a> | <a href=\"item?id=23183440\">240&nbsp;comments</a>              </td></tr>\n",
      "      <tr class=\"spacer\" style=\"height:5px\"></tr>\n",
      "                <tr class='athing' id='23181898'>\n",
      "      <td align=\"right\" valign=\"top\" class=\"title\"><span class=\"rank\">18.</span></td>      <td valign=\"top\" class=\"votelinks\"><center><a id='up_23181898' href='vote?id=23181898&amp;how=up&amp;goto=news'><div class='votearrow' title='upvote'></div></a></center></td><td class=\"title\"><a href=\"http://www.righto.com/2017/04/reverse-engineering-76477-space.html\" class=\"storylink\">Reverse engineering the 76477 “Space Invaders” sound chip from die photos (2017)</a><span class=\"sitebit comhead\"> (<a href=\"from?site=righto.com\"><span class=\"sitestr\">righto.com</span></a>)</span></td></tr><tr><td colspan=\"2\"></td><td class=\"subtext\">\n",
      "        <span class=\"score\" id=\"score_23181898\">110 points</span> by <a href=\"user?id=colinprince\" class=\"hnuser\">colinprince</a> <span class=\"age\"><a href=\"item?id=23181898\">15 hours ago</a></span> <span id=\"unv_23181898\"></span> | <a href=\"hide?id=23181898&amp;goto=news\">hide</a> | <a href=\"item?id=23181898\">17&nbsp;comments</a>              </td></tr>\n",
      "      <tr class=\"spacer\" style=\"height:5px\"></tr>\n",
      "                <tr class='athing' id='23176125'>\n",
      "      <td align=\"right\" valign=\"top\" class=\"title\"><span class=\"rank\">19.</span></td>      <td valign=\"top\" class=\"votelinks\"><center><a id='up_23176125' href='vote?id=23176125&amp;how=up&amp;goto=news'><div class='votearrow' title='upvote'></div></a></center></td><td class=\"title\"><a href=\"http://oldcomputers.net/imsai8080.html\" class=\"storylink\" rel=\"nofollow\">Imsai 8080 Computer (2004)</a><span class=\"sitebit comhead\"> (<a href=\"from?site=oldcomputers.net\"><span class=\"sitestr\">oldcomputers.net</span></a>)</span></td></tr><tr><td colspan=\"2\"></td><td class=\"subtext\">\n",
      "        <span class=\"score\" id=\"score_23176125\">3 points</span> by <a href=\"user?id=webdva\" class=\"hnuser\">webdva</a> <span class=\"age\"><a href=\"item?id=23176125\">2 hours ago</a></span> <span id=\"unv_23176125\"></span> | <a href=\"hide?id=23176125&amp;goto=news\">hide</a> | <a href=\"item?id=23176125\">discuss</a>              </td></tr>\n",
      "      <tr class=\"spacer\" style=\"height:5px\"></tr>\n",
      "                <tr class='athing' id='23170766'>\n",
      "      <td align=\"right\" valign=\"top\" class=\"title\"><span class=\"rank\">20.</span></td>      <td valign=\"top\" class=\"votelinks\"><center><a id='up_23170766' href='vote?id=23170766&amp;how=up&amp;goto=news'><div class='votearrow' title='upvote'></div></a></center></td><td class=\"title\"><a href=\"https://aeon.co/essays/if-history-was-more-like-science-would-it-predict-the-future\" class=\"storylink\">Are There Laws of History?</a><span class=\"sitebit comhead\"> (<a href=\"from?site=aeon.co\"><span class=\"sitestr\">aeon.co</span></a>)</span></td></tr><tr><td colspan=\"2\"></td><td class=\"subtext\">\n",
      "        <span class=\"score\" id=\"score_23170766\">90 points</span> by <a href=\"user?id=benbreen\" class=\"hnuser\">benbreen</a> <span class=\"age\"><a href=\"item?id=23170766\">15 hours ago</a></span> <span id=\"unv_23170766\"></span> | <a href=\"hide?id=23170766&amp;goto=news\">hide</a> | <a href=\"item?id=23170766\">110&nbsp;comments</a>              </td></tr>\n",
      "      <tr class=\"spacer\" style=\"height:5px\"></tr>\n",
      "                <tr class='athing' id='23165960'>\n",
      "      <td align=\"right\" valign=\"top\" class=\"title\"><span class=\"rank\">21.</span></td>      <td valign=\"top\" class=\"votelinks\"><center><a id='up_23165960' href='vote?id=23165960&amp;how=up&amp;goto=news'><div class='votearrow' title='upvote'></div></a></center></td><td class=\"title\"><a href=\"https://everything2.com/title/The+UNIX+and+the+Echo\" class=\"storylink\">The Unix and the Echo (2001)</a><span class=\"sitebit comhead\"> (<a href=\"from?site=everything2.com\"><span class=\"sitestr\">everything2.com</span></a>)</span></td></tr><tr><td colspan=\"2\"></td><td class=\"subtext\">\n",
      "        <span class=\"score\" id=\"score_23165960\">21 points</span> by <a href=\"user?id=charlysl\" class=\"hnuser\">charlysl</a> <span class=\"age\"><a href=\"item?id=23165960\">5 hours ago</a></span> <span id=\"unv_23165960\"></span> | <a href=\"hide?id=23165960&amp;goto=news\">hide</a> | <a href=\"item?id=23165960\">5&nbsp;comments</a>              </td></tr>\n",
      "      <tr class=\"spacer\" style=\"height:5px\"></tr>\n",
      "                <tr class='athing' id='23176957'>\n",
      "      <td align=\"right\" valign=\"top\" class=\"title\"><span class=\"rank\">22.</span></td>      <td valign=\"top\" class=\"votelinks\"><center><a id='up_23176957' href='vote?id=23176957&amp;how=up&amp;goto=news'><div class='votearrow' title='upvote'></div></a></center></td><td class=\"title\"><a href=\"https://static1.squarespace.com/static/50363cf324ac8e905e7df861/t/5e97612725e5300cfd2b1739/1586979175547/2020+Shoulders+of+Giants+1.1.pdf\" class=\"storylink\">The Shoulders of Giants [pdf]</a><span class=\"sitebit comhead\"> (<a href=\"from?site=static1.squarespace.com\"><span class=\"sitestr\">static1.squarespace.com</span></a>)</span></td></tr><tr><td colspan=\"2\"></td><td class=\"subtext\">\n",
      "        <span class=\"score\" id=\"score_23176957\">25 points</span> by <a href=\"user?id=mvip\" class=\"hnuser\">mvip</a> <span class=\"age\"><a href=\"item?id=23176957\">8 hours ago</a></span> <span id=\"unv_23176957\"></span> | <a href=\"hide?id=23176957&amp;goto=news\">hide</a> | <a href=\"item?id=23176957\">5&nbsp;comments</a>              </td></tr>\n",
      "      <tr class=\"spacer\" style=\"height:5px\"></tr>\n",
      "                <tr class='athing' id='23185525'>\n",
      "      <td align=\"right\" valign=\"top\" class=\"title\"><span class=\"rank\">23.</span></td>      <td valign=\"top\" class=\"votelinks\"><center><a id='up_23185525' href='vote?id=23185525&amp;how=up&amp;goto=news'><div class='votearrow' title='upvote'></div></a></center></td><td class=\"title\"><a href=\"http://pling.jondgoodwin.com/post/weakening-cycles/\" class=\"storylink\">Weakening Cycles So That Turing Can Halt</a><span class=\"sitebit comhead\"> (<a href=\"from?site=jondgoodwin.com\"><span class=\"sitestr\">jondgoodwin.com</span></a>)</span></td></tr><tr><td colspan=\"2\"></td><td class=\"subtext\">\n",
      "        <span class=\"score\" id=\"score_23185525\">74 points</span> by <a href=\"user?id=Kinrany\" class=\"hnuser\">Kinrany</a> <span class=\"age\"><a href=\"item?id=23185525\">10 hours ago</a></span> <span id=\"unv_23185525\"></span> | <a href=\"hide?id=23185525&amp;goto=news\">hide</a> | <a href=\"item?id=23185525\">37&nbsp;comments</a>              </td></tr>\n",
      "      <tr class=\"spacer\" style=\"height:5px\"></tr>\n",
      "                <tr class='athing' id='23178950'>\n",
      "      <td align=\"right\" valign=\"top\" class=\"title\"><span class=\"rank\">24.</span></td>      <td valign=\"top\" class=\"votelinks\"><center><a id='up_23178950' href='vote?id=23178950&amp;how=up&amp;goto=news'><div class='votearrow' title='upvote'></div></a></center></td><td class=\"title\"><a href=\"https://blogs.nvidia.com/blog/2020/05/14/gtc-2020-keynote/\" class=\"storylink\">Nvidia CEO Introduces Nvidia Ampere Architecture, Nvidia A100 GPU</a><span class=\"sitebit comhead\"> (<a href=\"from?site=nvidia.com\"><span class=\"sitestr\">nvidia.com</span></a>)</span></td></tr><tr><td colspan=\"2\"></td><td class=\"subtext\">\n",
      "        <span class=\"score\" id=\"score_23178950\">421 points</span> by <a href=\"user?id=bcaulfield\" class=\"hnuser\">bcaulfield</a> <span class=\"age\"><a href=\"item?id=23178950\">18 hours ago</a></span> <span id=\"unv_23178950\"></span> | <a href=\"hide?id=23178950&amp;goto=news\">hide</a> | <a href=\"item?id=23178950\">271&nbsp;comments</a>              </td></tr>\n",
      "      <tr class=\"spacer\" style=\"height:5px\"></tr>\n",
      "                <tr class='athing' id='23182824'>\n",
      "      <td align=\"right\" valign=\"top\" class=\"title\"><span class=\"rank\">25.</span></td>      <td valign=\"top\" class=\"votelinks\"><center><a id='up_23182824' href='vote?id=23182824&amp;how=up&amp;goto=news'><div class='votearrow' title='upvote'></div></a></center></td><td class=\"title\"><a href=\"https://www.density.io/blog/safe-by-density/\" class=\"storylink\">Safe: Set maximum capacity for any room, floor, or building</a><span class=\"sitebit comhead\"> (<a href=\"from?site=density.io\"><span class=\"sitestr\">density.io</span></a>)</span></td></tr><tr><td colspan=\"2\"></td><td class=\"subtext\">\n",
      "        <span class=\"score\" id=\"score_23182824\">119 points</span> by <a href=\"user?id=jordanmessina\" class=\"hnuser\">jordanmessina</a> <span class=\"age\"><a href=\"item?id=23182824\">14 hours ago</a></span> <span id=\"unv_23182824\"></span> | <a href=\"hide?id=23182824&amp;goto=news\">hide</a> | <a href=\"item?id=23182824\">61&nbsp;comments</a>              </td></tr>\n",
      "      <tr class=\"spacer\" style=\"height:5px\"></tr>\n",
      "                <tr class='athing' id='23180572'>\n",
      "      <td align=\"right\" valign=\"top\" class=\"title\"><span class=\"rank\">26.</span></td>      <td valign=\"top\" class=\"votelinks\"><center><a id='up_23180572' href='vote?id=23180572&amp;how=up&amp;goto=news'><div class='votearrow' title='upvote'></div></a></center></td><td class=\"title\"><a href=\"https://blog.hypercore-protocol.org/posts/announcing-hyperdrive-10/\" class=\"storylink\">Hyperdrive v10 – a peer-to-peer filesystem</a><span class=\"sitebit comhead\"> (<a href=\"from?site=hypercore-protocol.org\"><span class=\"sitestr\">hypercore-protocol.org</span></a>)</span></td></tr><tr><td colspan=\"2\"></td><td class=\"subtext\">\n",
      "        <span class=\"score\" id=\"score_23180572\">319 points</span> by <a href=\"user?id=pfraze\" class=\"hnuser\">pfraze</a> <span class=\"age\"><a href=\"item?id=23180572\">16 hours ago</a></span> <span id=\"unv_23180572\"></span> | <a href=\"hide?id=23180572&amp;goto=news\">hide</a> | <a href=\"item?id=23180572\">94&nbsp;comments</a>              </td></tr>\n",
      "      <tr class=\"spacer\" style=\"height:5px\"></tr>\n",
      "                <tr class='athing' id='23183398'>\n",
      "      <td align=\"right\" valign=\"top\" class=\"title\"><span class=\"rank\">27.</span></td>      <td valign=\"top\" class=\"votelinks\"><center><a id='up_23183398' href='vote?id=23183398&amp;how=up&amp;goto=news'><div class='votearrow' title='upvote'></div></a></center></td><td class=\"title\"><a href=\"https://www.cnx-software.com/2020/05/13/device-farm-generates-raspbian-armbian-docker-images-for-about-100-arm-linux-sbcs/\" class=\"storylink\">Device.farm Generates Linux+Docker Images for about 100 Arm Linux SBCs</a><span class=\"sitebit comhead\"> (<a href=\"from?site=cnx-software.com\"><span class=\"sitestr\">cnx-software.com</span></a>)</span></td></tr><tr><td colspan=\"2\"></td><td class=\"subtext\">\n",
      "        <span class=\"score\" id=\"score_23183398\">46 points</span> by <a href=\"user?id=burgrp\" class=\"hnuser\">burgrp</a> <span class=\"age\"><a href=\"item?id=23183398\">13 hours ago</a></span> <span id=\"unv_23183398\"></span> | <a href=\"hide?id=23183398&amp;goto=news\">hide</a> | <a href=\"item?id=23183398\">18&nbsp;comments</a>              </td></tr>\n",
      "      <tr class=\"spacer\" style=\"height:5px\"></tr>\n",
      "                <tr class='athing' id='23175866'>\n",
      "      <td align=\"right\" valign=\"top\" class=\"title\"><span class=\"rank\">28.</span></td>      <td valign=\"top\" class=\"votelinks\"><center><a id='up_23175866' href='vote?id=23175866&amp;how=up&amp;goto=news'><div class='votearrow' title='upvote'></div></a></center></td><td class=\"title\"><a href=\"https://www.sleuth.io/post/i-deploy-therefore-i-am\" class=\"storylink\">I deploy, therefore I am</a><span class=\"sitebit comhead\"> (<a href=\"from?site=sleuth.io\"><span class=\"sitestr\">sleuth.io</span></a>)</span></td></tr><tr><td colspan=\"2\"></td><td class=\"subtext\">\n",
      "        <span class=\"score\" id=\"score_23175866\">67 points</span> by <a href=\"user?id=mrdonbrown\" class=\"hnuser\">mrdonbrown</a> <span class=\"age\"><a href=\"item?id=23175866\">12 hours ago</a></span> <span id=\"unv_23175866\"></span> | <a href=\"hide?id=23175866&amp;goto=news\">hide</a> | <a href=\"item?id=23175866\">44&nbsp;comments</a>              </td></tr>\n",
      "      <tr class=\"spacer\" style=\"height:5px\"></tr>\n",
      "                <tr class='athing' id='23184871'>\n",
      "      <td align=\"right\" valign=\"top\" class=\"title\"><span class=\"rank\">29.</span></td>      <td valign=\"top\" class=\"votelinks\"><center><a id='up_23184871' href='vote?id=23184871&amp;how=up&amp;goto=news'><div class='votearrow' title='upvote'></div></a></center></td><td class=\"title\"><a href=\"https://github.com/ggerganov/imtui\" class=\"storylink\">ImTui: Immediate Mode Text-Based User Interface</a><span class=\"sitebit comhead\"> (<a href=\"from?site=github.com\"><span class=\"sitestr\">github.com</span></a>)</span></td></tr><tr><td colspan=\"2\"></td><td class=\"subtext\">\n",
      "        <span class=\"score\" id=\"score_23184871\">35 points</span> by <a href=\"user?id=ingve\" class=\"hnuser\">ingve</a> <span class=\"age\"><a href=\"item?id=23184871\">11 hours ago</a></span> <span id=\"unv_23184871\"></span> | <a href=\"hide?id=23184871&amp;goto=news\">hide</a> | <a href=\"item?id=23184871\">3&nbsp;comments</a>              </td></tr>\n",
      "      <tr class=\"spacer\" style=\"height:5px\"></tr>\n",
      "                <tr class='athing' id='23181865'>\n",
      "      <td align=\"right\" valign=\"top\" class=\"title\"><span class=\"rank\">30.</span></td>      <td valign=\"top\" class=\"votelinks\"><center><a id='up_23181865' href='vote?id=23181865&amp;how=up&amp;goto=news'><div class='votearrow' title='upvote'></div></a></center></td><td class=\"title\"><a href=\"https://www.reuters.com/article/us-ikea-ingka-centres-exclusive/exclusive-ikeas-shopping-malls-arm-ingka-centres-plans-u-s-entry-in-major-play-idUSKBN22Q2MF\" class=\"storylink\">IKEA's shopping malls arm plans U.S. entry in major play</a><span class=\"sitebit comhead\"> (<a href=\"from?site=reuters.com\"><span class=\"sitestr\">reuters.com</span></a>)</span></td></tr><tr><td colspan=\"2\"></td><td class=\"subtext\">\n",
      "        <span class=\"score\" id=\"score_23181865\">101 points</span> by <a href=\"user?id=hhs\" class=\"hnuser\">hhs</a> <span class=\"age\"><a href=\"item?id=23181865\">15 hours ago</a></span> <span id=\"unv_23181865\"></span> | <a href=\"hide?id=23181865&amp;goto=news\">hide</a> | <a href=\"item?id=23181865\">94&nbsp;comments</a>              </td></tr>\n",
      "      <tr class=\"spacer\" style=\"height:5px\"></tr>\n",
      "            <tr class=\"morespace\" style=\"height:10px\"></tr><tr><td colspan=\"2\"></td><td class=\"title\"><a href=\"news?p=2\" class=\"morelink\" rel=\"next\">More</a></td></tr>\n",
      "  </table>\n",
      "</td></tr>\n",
      "<tr><td><img src=\"s.gif\" height=\"10\" width=\"0\"><table width=\"100%\" cellspacing=\"0\" cellpadding=\"1\"><tr><td bgcolor=\"#ff6600\"></td></tr></table><br><center><span class=\"yclinks\"><a href=\"newsguidelines.html\">Guidelines</a>\n",
      "        | <a href=\"newsfaq.html\">FAQ</a>\n",
      "        | <a href=\"mailto:hn@ycombinator.com\">Support</a>\n",
      "        | <a href=\"https://github.com/HackerNews/API\">API</a>\n",
      "        | <a href=\"security.html\">Security</a>\n",
      "        | <a href=\"lists\">Lists</a>\n",
      "        | <a href=\"bookmarklet.html\" rel=\"nofollow\">Bookmarklet</a>\n",
      "        | <a href=\"http://www.ycombinator.com/legal/\">Legal</a>\n",
      "        | <a href=\"http://www.ycombinator.com/apply/\">Apply to YC</a>\n",
      "        | <a href=\"mailto:hn@ycombinator.com\">Contact</a></span><br><br><form method=\"get\" action=\"//hn.algolia.com/\">Search:\n",
      "          <input type=\"text\" name=\"q\" value=\"\" size=\"17\" autocorrect=\"off\" spellcheck=\"false\" autocapitalize=\"off\" autocomplete=\"false\"></form>\n",
      "            </center></td></tr>\n",
      "      </table></center></body><script type='text/javascript' src='hn.js?fIA1WYHO2oSfVe60PsAM'></script></html>\n",
      "\n"
     ]
    }
   ],
   "source": [
    "import requests\n",
    "\n",
    "# Fetch a web page\n",
    "r = requests.get(\"https://news.ycombinator.com\")\n",
    "print(r.text)"
   ]
  },
  {
   "cell_type": "code",
   "execution_count": 46,
   "metadata": {},
   "outputs": [],
   "source": [
    "import re"
   ]
  },
  {
   "cell_type": "code",
   "execution_count": 47,
   "metadata": {},
   "outputs": [
    {
     "name": "stdout",
     "output_type": "stream",
     "text": [
      "\n",
      "        \n",
      "          \n",
      "        Hacker News\n",
      "        \n",
      "                  Hacker News\n",
      "              new | past | comments | ask | show | jobs | submit            \n",
      "                              login\n",
      "                          \n",
      "              \n",
      "\n",
      "              \n",
      "      1.      TSMC Announces Intention to Build and Operate Advanced Semiconductor Fab in U.S. (tsmc.com)\n",
      "        295 points by ytch 6 hours ago  | hide | 246&nbsp;comments              \n",
      "      \n",
      "                \n",
      "      2.      Next dream job can be in an HTTP header (frenxi.com)\n",
      "        143 points by frenxi 6 hours ago  | hide | 68&nbsp;comments              \n",
      "      \n",
      "                \n",
      "      3.      Show HN: Raspberry Pi garage door opener (github.com)\n",
      "        26 points by zaabis 2 hours ago  | hide | 27&nbsp;comments              \n",
      "      \n",
      "                \n",
      "      4.      An SSL cert that is valid for any and all domains and all levels of subdomains (github.com)\n",
      "        49 points by kick 4 hours ago  | hide | 33&nbsp;comments              \n",
      "      \n",
      "                \n",
      "      5.      Port knocking (wikipedia.org)\n",
      "        141 points by simonpure 6 hours ago  | hide | 91&nbsp;comments              \n",
      "      \n",
      "                \n",
      "      6.      Security Flaws in Adobe Acrobat Reader Allow Gaining Root on macOS Silently (rekken.github.io)\n",
      "        742 points by feross 16 hours ago  | hide | 357&nbsp;comments              \n",
      "      \n",
      "                \n",
      "      7.      Roman Finger Counting (tookmund.com)\n",
      "        111 points by JNRowe 9 hours ago  | hide | 44&nbsp;comments              \n",
      "      \n",
      "                \n",
      "      8.      Do not Draw a Penis (donotdrawapenis.com)\n",
      "        778 points by dvt 11 hours ago  | hide | 329&nbsp;comments              \n",
      "      \n",
      "                \n",
      "      9.      Announcing Google Cloud VMware Engine (cloud.google.com)\n",
      "        133 points by v7p1Qbt1im 10 hours ago  | hide | 38&nbsp;comments              \n",
      "      \n",
      "                \n",
      "      10.      Which way a wind turbine turns might not seem to matter, but it does (economist.com)\n",
      "        132 points by edward 11 hours ago  | hide | 69&nbsp;comments              \n",
      "      \n",
      "                \n",
      "      11.      Embedding Objective-Smalltalk (metaobject.com)\n",
      "        38 points by mpweiher 6 hours ago  | hide | 3&nbsp;comments              \n",
      "      \n",
      "                \n",
      "      12.      Building a subsea cable to better connect Africa (fb.com)\n",
      "        138 points by ampersandy 13 hours ago  | hide | 83&nbsp;comments              \n",
      "      \n",
      "                \n",
      "      13.      The Supermicro H11DSi Motherboard Mini-Review: The Sole Dual EPYC Solution (anandtech.com)\n",
      "        23 points by rubyn00bie 4 hours ago  | hide | 10&nbsp;comments              \n",
      "      \n",
      "                \n",
      "      14.      Archaeologists Discover Teenage Mummy Buried with Trove of Ornate Jewelry (smithsonianmag.com)\n",
      "        14 points by diodorus 5 hours ago  | hide | 3&nbsp;comments              \n",
      "      \n",
      "                \n",
      "      15.      Ask HN: What's your quarantine side project?\n",
      "        918 points by dhr 1 day ago  | hide | 1725&nbsp;comments              \n",
      "      \n",
      "                \n",
      "      16.      When James Baldwin wrote about the Atlanta child murders (newyorker.com)\n",
      "        58 points by prismatic 10 hours ago  | hide | 9&nbsp;comments              \n",
      "      \n",
      "                \n",
      "      17.      GM self-driving tech unit Cruise laying off about 8% of staff (reuters.com)\n",
      "        232 points by AlotOfReading 13 hours ago  | hide | 240&nbsp;comments              \n",
      "      \n",
      "                \n",
      "      18.      Reverse engineering the 76477 “Space Invaders” sound chip from die photos (2017) (righto.com)\n",
      "        110 points by colinprince 15 hours ago  | hide | 17&nbsp;comments              \n",
      "      \n",
      "                \n",
      "      19.      Imsai 8080 Computer (2004) (oldcomputers.net)\n",
      "        3 points by webdva 2 hours ago  | hide | discuss              \n",
      "      \n",
      "                \n",
      "      20.      Are There Laws of History? (aeon.co)\n",
      "        90 points by benbreen 15 hours ago  | hide | 110&nbsp;comments              \n",
      "      \n",
      "                \n",
      "      21.      The Unix and the Echo (2001) (everything2.com)\n",
      "        21 points by charlysl 5 hours ago  | hide | 5&nbsp;comments              \n",
      "      \n",
      "                \n",
      "      22.      The Shoulders of Giants [pdf] (static1.squarespace.com)\n",
      "        25 points by mvip 8 hours ago  | hide | 5&nbsp;comments              \n",
      "      \n",
      "                \n",
      "      23.      Weakening Cycles So That Turing Can Halt (jondgoodwin.com)\n",
      "        74 points by Kinrany 10 hours ago  | hide | 37&nbsp;comments              \n",
      "      \n",
      "                \n",
      "      24.      Nvidia CEO Introduces Nvidia Ampere Architecture, Nvidia A100 GPU (nvidia.com)\n",
      "        421 points by bcaulfield 18 hours ago  | hide | 271&nbsp;comments              \n",
      "      \n",
      "                \n",
      "      25.      Safe: Set maximum capacity for any room, floor, or building (density.io)\n",
      "        119 points by jordanmessina 14 hours ago  | hide | 61&nbsp;comments              \n",
      "      \n",
      "                \n",
      "      26.      Hyperdrive v10 – a peer-to-peer filesystem (hypercore-protocol.org)\n",
      "        319 points by pfraze 16 hours ago  | hide | 94&nbsp;comments              \n",
      "      \n",
      "                \n",
      "      27.      Device.farm Generates Linux+Docker Images for about 100 Arm Linux SBCs (cnx-software.com)\n",
      "        46 points by burgrp 13 hours ago  | hide | 18&nbsp;comments              \n",
      "      \n",
      "                \n",
      "      28.      I deploy, therefore I am (sleuth.io)\n",
      "        67 points by mrdonbrown 12 hours ago  | hide | 44&nbsp;comments              \n",
      "      \n",
      "                \n",
      "      29.      ImTui: Immediate Mode Text-Based User Interface (github.com)\n",
      "        35 points by ingve 11 hours ago  | hide | 3&nbsp;comments              \n",
      "      \n",
      "                \n",
      "      30.      IKEA's shopping malls arm plans U.S. entry in major play (reuters.com)\n",
      "        101 points by hhs 15 hours ago  | hide | 94&nbsp;comments              \n",
      "      \n",
      "            More\n",
      "  \n",
      "\n",
      "Guidelines\n",
      "        | FAQ\n",
      "        | Support\n",
      "        | API\n",
      "        | Security\n",
      "        | Lists\n",
      "        | Bookmarklet\n",
      "        | Legal\n",
      "        | Apply to YC\n",
      "        | ContactSearch:\n",
      "          \n",
      "            \n",
      "      \n",
      "\n"
     ]
    }
   ],
   "source": [
    "# Remove HTML tags using RegEx\n",
    "pattern = re.compile(r'<.*?>')  # tags look like <...>\n",
    "print(pattern.sub('', r.text))  # replace them with blank"
   ]
  },
  {
   "cell_type": "code",
   "execution_count": 48,
   "metadata": {},
   "outputs": [
    {
     "name": "stdout",
     "output_type": "stream",
     "text": [
      "\n",
      "        \n",
      "          \n",
      "        Hacker News\n",
      "        \n",
      "                  Hacker News\n",
      "              new | past | comments | ask | show | jobs | submit            \n",
      "                              login\n",
      "                          \n",
      "              \n",
      "\n",
      "              \n",
      "      1.      TSMC Announces Intention to Build and Operate Advanced Semiconductor Fab in U.S. (tsmc.com)\n",
      "        295 points by ytch 6 hours ago  | hide | 246 comments              \n",
      "      \n",
      "                \n",
      "      2.      Next dream job can be in an HTTP header (frenxi.com)\n",
      "        143 points by frenxi 6 hours ago  | hide | 68 comments              \n",
      "      \n",
      "                \n",
      "      3.      Show HN: Raspberry Pi garage door opener (github.com)\n",
      "        26 points by zaabis 2 hours ago  | hide | 27 comments              \n",
      "      \n",
      "                \n",
      "      4.      An SSL cert that is valid for any and all domains and all levels of subdomains (github.com)\n",
      "        49 points by kick 4 hours ago  | hide | 33 comments              \n",
      "      \n",
      "                \n",
      "      5.      Port knocking (wikipedia.org)\n",
      "        141 points by simonpure 6 hours ago  | hide | 91 comments              \n",
      "      \n",
      "                \n",
      "      6.      Security Flaws in Adobe Acrobat Reader Allow Gaining Root on macOS Silently (rekken.github.io)\n",
      "        742 points by feross 16 hours ago  | hide | 357 comments              \n",
      "      \n",
      "                \n",
      "      7.      Roman Finger Counting (tookmund.com)\n",
      "        111 points by JNRowe 9 hours ago  | hide | 44 comments              \n",
      "      \n",
      "                \n",
      "      8.      Do not Draw a Penis (donotdrawapenis.com)\n",
      "        778 points by dvt 11 hours ago  | hide | 329 comments              \n",
      "      \n",
      "                \n",
      "      9.      Announcing Google Cloud VMware Engine (cloud.google.com)\n",
      "        133 points by v7p1Qbt1im 10 hours ago  | hide | 38 comments              \n",
      "      \n",
      "                \n",
      "      10.      Which way a wind turbine turns might not seem to matter, but it does (economist.com)\n",
      "        132 points by edward 11 hours ago  | hide | 69 comments              \n",
      "      \n",
      "                \n",
      "      11.      Embedding Objective-Smalltalk (metaobject.com)\n",
      "        38 points by mpweiher 6 hours ago  | hide | 3 comments              \n",
      "      \n",
      "                \n",
      "      12.      Building a subsea cable to better connect Africa (fb.com)\n",
      "        138 points by ampersandy 13 hours ago  | hide | 83 comments              \n",
      "      \n",
      "                \n",
      "      13.      The Supermicro H11DSi Motherboard Mini-Review: The Sole Dual EPYC Solution (anandtech.com)\n",
      "        23 points by rubyn00bie 4 hours ago  | hide | 10 comments              \n",
      "      \n",
      "                \n",
      "      14.      Archaeologists Discover Teenage Mummy Buried with Trove of Ornate Jewelry (smithsonianmag.com)\n",
      "        14 points by diodorus 5 hours ago  | hide | 3 comments              \n",
      "      \n",
      "                \n",
      "      15.      Ask HN: What's your quarantine side project?\n",
      "        918 points by dhr 1 day ago  | hide | 1725 comments              \n",
      "      \n",
      "                \n",
      "      16.      When James Baldwin wrote about the Atlanta child murders (newyorker.com)\n",
      "        58 points by prismatic 10 hours ago  | hide | 9 comments              \n",
      "      \n",
      "                \n",
      "      17.      GM self-driving tech unit Cruise laying off about 8% of staff (reuters.com)\n",
      "        232 points by AlotOfReading 13 hours ago  | hide | 240 comments              \n",
      "      \n",
      "                \n",
      "      18.      Reverse engineering the 76477 “Space Invaders” sound chip from die photos (2017) (righto.com)\n",
      "        110 points by colinprince 15 hours ago  | hide | 17 comments              \n",
      "      \n",
      "                \n",
      "      19.      Imsai 8080 Computer (2004) (oldcomputers.net)\n",
      "        3 points by webdva 2 hours ago  | hide | discuss              \n",
      "      \n",
      "                \n",
      "      20.      Are There Laws of History? (aeon.co)\n",
      "        90 points by benbreen 15 hours ago  | hide | 110 comments              \n",
      "      \n",
      "                \n",
      "      21.      The Unix and the Echo (2001) (everything2.com)\n",
      "        21 points by charlysl 5 hours ago  | hide | 5 comments              \n",
      "      \n",
      "                \n",
      "      22.      The Shoulders of Giants [pdf] (static1.squarespace.com)\n",
      "        25 points by mvip 8 hours ago  | hide | 5 comments              \n",
      "      \n",
      "                \n",
      "      23.      Weakening Cycles So That Turing Can Halt (jondgoodwin.com)\n",
      "        74 points by Kinrany 10 hours ago  | hide | 37 comments              \n",
      "      \n",
      "                \n",
      "      24.      Nvidia CEO Introduces Nvidia Ampere Architecture, Nvidia A100 GPU (nvidia.com)\n",
      "        421 points by bcaulfield 18 hours ago  | hide | 271 comments              \n",
      "      \n",
      "                \n",
      "      25.      Safe: Set maximum capacity for any room, floor, or building (density.io)\n",
      "        119 points by jordanmessina 14 hours ago  | hide | 61 comments              \n",
      "      \n",
      "                \n",
      "      26.      Hyperdrive v10 – a peer-to-peer filesystem (hypercore-protocol.org)\n",
      "        319 points by pfraze 16 hours ago  | hide | 94 comments              \n",
      "      \n",
      "                \n",
      "      27.      Device.farm Generates Linux+Docker Images for about 100 Arm Linux SBCs (cnx-software.com)\n",
      "        46 points by burgrp 13 hours ago  | hide | 18 comments              \n",
      "      \n",
      "                \n",
      "      28.      I deploy, therefore I am (sleuth.io)\n",
      "        67 points by mrdonbrown 12 hours ago  | hide | 44 comments              \n",
      "      \n",
      "                \n",
      "      29.      ImTui: Immediate Mode Text-Based User Interface (github.com)\n",
      "        35 points by ingve 11 hours ago  | hide | 3 comments              \n",
      "      \n",
      "                \n",
      "      30.      IKEA's shopping malls arm plans U.S. entry in major play (reuters.com)\n",
      "        101 points by hhs 15 hours ago  | hide | 94 comments              \n",
      "      \n",
      "            More\n",
      "  \n",
      "\n",
      "Guidelines\n",
      "        | FAQ\n",
      "        | Support\n",
      "        | API\n",
      "        | Security\n",
      "        | Lists\n",
      "        | Bookmarklet\n",
      "        | Legal\n",
      "        | Apply to YC\n",
      "        | ContactSearch:\n",
      "          \n",
      "            \n",
      "      \n",
      "\n"
     ]
    }
   ],
   "source": [
    "from bs4 import BeautifulSoup\n",
    "\n",
    "# Remove HTML tags using Beautiful Soup library\n",
    "soup = BeautifulSoup(r.text, \"html5lib\")\n",
    "print(soup.get_text())"
   ]
  },
  {
   "cell_type": "code",
   "execution_count": 49,
   "metadata": {
    "scrolled": true
   },
   "outputs": [
    {
     "data": {
      "text/plain": [
       "<tr class=\"athing\" id=\"23187698\">\n",
       "      <td align=\"right\" class=\"title\" valign=\"top\"><span class=\"rank\">1.</span></td>      <td class=\"votelinks\" valign=\"top\"><center><a href=\"vote?id=23187698&amp;how=up&amp;goto=news\" id=\"up_23187698\"><div class=\"votearrow\" title=\"upvote\"></div></a></center></td><td class=\"title\"><a class=\"storylink\" href=\"https://www.tsmc.com/tsmcdotcom/PRListingNewsAction.do?action=detail&amp;language=E&amp;newsid=THGOANPGTH\">TSMC Announces Intention to Build and Operate Advanced Semiconductor Fab in U.S.</a><span class=\"sitebit comhead\"> (<a href=\"from?site=tsmc.com\"><span class=\"sitestr\">tsmc.com</span></a>)</span></td></tr>"
      ]
     },
     "execution_count": 49,
     "metadata": {},
     "output_type": "execute_result"
    }
   ],
   "source": [
    "# Find all articles\n",
    "summaries = soup.find_all(\"tr\", class_=\"athing\")\n",
    "summaries[0]"
   ]
  },
  {
   "cell_type": "code",
   "execution_count": 50,
   "metadata": {},
   "outputs": [
    {
     "data": {
      "text/plain": [
       "'TSMC Announces Intention to Build and Operate Advanced Semiconductor Fab in U.S.'"
      ]
     },
     "execution_count": 50,
     "metadata": {},
     "output_type": "execute_result"
    }
   ],
   "source": [
    "# Extract title\n",
    "summaries[0].find(\"a\", class_=\"storylink\").get_text().strip()"
   ]
  },
  {
   "cell_type": "code",
   "execution_count": 51,
   "metadata": {},
   "outputs": [
    {
     "name": "stdout",
     "output_type": "stream",
     "text": [
      "30 Article summaries found. Sample:\n",
      "Show HN: Raspberry Pi garage door opener\n"
     ]
    }
   ],
   "source": [
    "# Find all articles, extract titles\n",
    "articles = []\n",
    "summaries = soup.find_all(\"tr\", class_=\"athing\")\n",
    "for summary in summaries:\n",
    "    title = summary.find(\"a\", class_=\"storylink\").get_text().strip()\n",
    "    articles.append((title))\n",
    "\n",
    "print(len(articles), \"Article summaries found. Sample:\")\n",
    "print(articles[2])"
   ]
  },
  {
   "cell_type": "markdown",
   "metadata": {
    "collapsed": true
   },
   "source": [
    "## Normalization"
   ]
  },
  {
   "cell_type": "markdown",
   "metadata": {},
   "source": [
    "### Case Normalization"
   ]
  },
  {
   "cell_type": "code",
   "execution_count": 52,
   "metadata": {},
   "outputs": [
    {
     "name": "stdout",
     "output_type": "stream",
     "text": [
      "The first time you see The Second Renaissance it may look boring. Look at it at least twice and definitely watch part 2. It will change your view of the matrix. Are the human people the ones who started the war ? Is AI a bad thing ?\n"
     ]
    }
   ],
   "source": [
    "# Sample text\n",
    "text = \"The first time you see The Second Renaissance it may look boring. Look at it at least twice and definitely watch part 2. It will change your view of the matrix. Are the human people the ones who started the war ? Is AI a bad thing ?\"\n",
    "print(text)"
   ]
  },
  {
   "cell_type": "code",
   "execution_count": 53,
   "metadata": {},
   "outputs": [
    {
     "name": "stdout",
     "output_type": "stream",
     "text": [
      "the first time you see the second renaissance it may look boring. look at it at least twice and definitely watch part 2. it will change your view of the matrix. are the human people the ones who started the war ? is ai a bad thing ?\n"
     ]
    }
   ],
   "source": [
    "# Convert to lowercase\n",
    "text = text.lower() \n",
    "print(text)"
   ]
  },
  {
   "cell_type": "markdown",
   "metadata": {},
   "source": [
    "### Punctuation Removal"
   ]
  },
  {
   "cell_type": "code",
   "execution_count": 54,
   "metadata": {},
   "outputs": [
    {
     "name": "stdout",
     "output_type": "stream",
     "text": [
      "the first time you see the second renaissance it may look boring  look at it at least twice and definitely watch part 2  it will change your view of the matrix  are the human people the ones who started the war   is ai a bad thing  \n"
     ]
    }
   ],
   "source": [
    "import re\n",
    "\n",
    "# Remove punctuation characters\n",
    "text = re.sub(r\"[^a-zA-Z0-9]\", \" \", text) \n",
    "print(text)"
   ]
  },
  {
   "cell_type": "markdown",
   "metadata": {},
   "source": [
    "## Tokenization"
   ]
  },
  {
   "cell_type": "code",
   "execution_count": 55,
   "metadata": {},
   "outputs": [
    {
     "name": "stdout",
     "output_type": "stream",
     "text": [
      "['the', 'first', 'time', 'you', 'see', 'the', 'second', 'renaissance', 'it', 'may', 'look', 'boring', 'look', 'at', 'it', 'at', 'least', 'twice', 'and', 'definitely', 'watch', 'part', '2', 'it', 'will', 'change', 'your', 'view', 'of', 'the', 'matrix', 'are', 'the', 'human', 'people', 'the', 'ones', 'who', 'started', 'the', 'war', 'is', 'ai', 'a', 'bad', 'thing']\n"
     ]
    }
   ],
   "source": [
    "# Split text into tokens (words)\n",
    "words = text.split()\n",
    "print(words)"
   ]
  },
  {
   "cell_type": "markdown",
   "metadata": {},
   "source": [
    "### NLTK: Natural Language ToolKit"
   ]
  },
  {
   "cell_type": "code",
   "execution_count": 56,
   "metadata": {},
   "outputs": [],
   "source": [
    "import os\n",
    "import nltk\n",
    "nltk.data.path.append(os.path.join(os.getcwd(), \"nltk_data\"))"
   ]
  },
  {
   "cell_type": "code",
   "execution_count": 57,
   "metadata": {},
   "outputs": [
    {
     "name": "stdout",
     "output_type": "stream",
     "text": [
      "Dr. Smith graduated from the University of Washington. He later started an analytics firm called Lux, which catered to enterprise customers.\n"
     ]
    }
   ],
   "source": [
    "# Another sample text\n",
    "text = \"Dr. Smith graduated from the University of Washington. He later started an analytics firm called Lux, which catered to enterprise customers.\"\n",
    "print(text)"
   ]
  },
  {
   "cell_type": "code",
   "execution_count": 58,
   "metadata": {},
   "outputs": [
    {
     "name": "stdout",
     "output_type": "stream",
     "text": [
      "['Dr.', 'Smith', 'graduated', 'from', 'the', 'University', 'of', 'Washington', '.', 'He', 'later', 'started', 'an', 'analytics', 'firm', 'called', 'Lux', ',', 'which', 'catered', 'to', 'enterprise', 'customers', '.']\n"
     ]
    }
   ],
   "source": [
    "from nltk.tokenize import word_tokenize\n",
    "\n",
    "# Split text into words using NLTK\n",
    "words = word_tokenize(text)\n",
    "print(words)"
   ]
  },
  {
   "cell_type": "code",
   "execution_count": 59,
   "metadata": {},
   "outputs": [
    {
     "name": "stdout",
     "output_type": "stream",
     "text": [
      "['Dr. Smith graduated from the University of Washington.', 'He later started an analytics firm called Lux, which catered to enterprise customers.']\n"
     ]
    }
   ],
   "source": [
    "from nltk.tokenize import sent_tokenize\n",
    "\n",
    "# Split text into sentences\n",
    "sentences = sent_tokenize(text)\n",
    "print(sentences)"
   ]
  },
  {
   "cell_type": "code",
   "execution_count": 60,
   "metadata": {},
   "outputs": [
    {
     "name": "stdout",
     "output_type": "stream",
     "text": [
      "['i', 'me', 'my', 'myself', 'we', 'our', 'ours', 'ourselves', 'you', \"you're\", \"you've\", \"you'll\", \"you'd\", 'your', 'yours', 'yourself', 'yourselves', 'he', 'him', 'his', 'himself', 'she', \"she's\", 'her', 'hers', 'herself', 'it', \"it's\", 'its', 'itself', 'they', 'them', 'their', 'theirs', 'themselves', 'what', 'which', 'who', 'whom', 'this', 'that', \"that'll\", 'these', 'those', 'am', 'is', 'are', 'was', 'were', 'be', 'been', 'being', 'have', 'has', 'had', 'having', 'do', 'does', 'did', 'doing', 'a', 'an', 'the', 'and', 'but', 'if', 'or', 'because', 'as', 'until', 'while', 'of', 'at', 'by', 'for', 'with', 'about', 'against', 'between', 'into', 'through', 'during', 'before', 'after', 'above', 'below', 'to', 'from', 'up', 'down', 'in', 'out', 'on', 'off', 'over', 'under', 'again', 'further', 'then', 'once', 'here', 'there', 'when', 'where', 'why', 'how', 'all', 'any', 'both', 'each', 'few', 'more', 'most', 'other', 'some', 'such', 'no', 'nor', 'not', 'only', 'own', 'same', 'so', 'than', 'too', 'very', 's', 't', 'can', 'will', 'just', 'don', \"don't\", 'should', \"should've\", 'now', 'd', 'll', 'm', 'o', 're', 've', 'y', 'ain', 'aren', \"aren't\", 'couldn', \"couldn't\", 'didn', \"didn't\", 'doesn', \"doesn't\", 'hadn', \"hadn't\", 'hasn', \"hasn't\", 'haven', \"haven't\", 'isn', \"isn't\", 'ma', 'mightn', \"mightn't\", 'mustn', \"mustn't\", 'needn', \"needn't\", 'shan', \"shan't\", 'shouldn', \"shouldn't\", 'wasn', \"wasn't\", 'weren', \"weren't\", 'won', \"won't\", 'wouldn', \"wouldn't\"]\n"
     ]
    }
   ],
   "source": [
    "# List stop words\n",
    "from nltk.corpus import stopwords\n",
    "print(stopwords.words(\"english\"))"
   ]
  },
  {
   "cell_type": "code",
   "execution_count": 61,
   "metadata": {},
   "outputs": [
    {
     "name": "stdout",
     "output_type": "stream",
     "text": [
      "['the', 'first', 'time', 'you', 'see', 'the', 'second', 'renaissance', 'it', 'may', 'look', 'boring', 'look', 'at', 'it', 'at', 'least', 'twice', 'and', 'definitely', 'watch', 'part', '2', 'it', 'will', 'change', 'your', 'view', 'of', 'the', 'matrix', 'are', 'the', 'human', 'people', 'the', 'ones', 'who', 'started', 'the', 'war', 'is', 'ai', 'a', 'bad', 'thing']\n"
     ]
    }
   ],
   "source": [
    "# Reset text\n",
    "text = \"The first time you see The Second Renaissance it may look boring. Look at it at least twice and definitely watch part 2. It will change your view of the matrix. Are the human people the ones who started the war ? Is AI a bad thing ?\"\n",
    "\n",
    "# Normalize it\n",
    "text = re.sub(r\"[^a-zA-Z0-9]\", \" \", text.lower())\n",
    "\n",
    "# Tokenize it\n",
    "words = text.split()\n",
    "print(words)"
   ]
  },
  {
   "cell_type": "code",
   "execution_count": 62,
   "metadata": {},
   "outputs": [
    {
     "name": "stdout",
     "output_type": "stream",
     "text": [
      "['first', 'time', 'see', 'second', 'renaissance', 'may', 'look', 'boring', 'look', 'least', 'twice', 'definitely', 'watch', 'part', '2', 'change', 'view', 'matrix', 'human', 'people', 'ones', 'started', 'war', 'ai', 'bad', 'thing']\n"
     ]
    }
   ],
   "source": [
    "# Remove stop words\n",
    "words = [w for w in words if w not in stopwords.words(\"english\")]\n",
    "print(words)"
   ]
  },
  {
   "cell_type": "markdown",
   "metadata": {},
   "source": [
    "### Sentence Parsing"
   ]
  },
  {
   "cell_type": "code",
   "execution_count": 63,
   "metadata": {},
   "outputs": [
    {
     "name": "stdout",
     "output_type": "stream",
     "text": [
      "(S\n",
      "  (NP I)\n",
      "  (VP\n",
      "    (VP (V shot) (NP (Det an) (N elephant)))\n",
      "    (PP (P in) (NP (Det my) (N pajamas)))))\n",
      "(S\n",
      "  (NP I)\n",
      "  (VP\n",
      "    (V shot)\n",
      "    (NP (Det an) (N elephant) (PP (P in) (NP (Det my) (N pajamas))))))\n"
     ]
    }
   ],
   "source": [
    "import nltk\n",
    "\n",
    "# Define a custom grammar\n",
    "my_grammar = nltk.CFG.fromstring(\"\"\"\n",
    "S -> NP VP\n",
    "PP -> P NP\n",
    "NP -> Det N | Det N PP | 'I'\n",
    "VP -> V NP | VP PP\n",
    "Det -> 'an' | 'my'\n",
    "N -> 'elephant' | 'pajamas'\n",
    "V -> 'shot'\n",
    "P -> 'in'\n",
    "\"\"\")\n",
    "parser = nltk.ChartParser(my_grammar)\n",
    "\n",
    "# Parse a sentence\n",
    "sentence = word_tokenize(\"I shot an elephant in my pajamas\")\n",
    "for tree in parser.parse(sentence):\n",
    "    print(tree)"
   ]
  },
  {
   "cell_type": "markdown",
   "metadata": {},
   "source": [
    "## Stemming & Lemmatization\n",
    "\n",
    "### Stemming"
   ]
  },
  {
   "cell_type": "code",
   "execution_count": 64,
   "metadata": {},
   "outputs": [
    {
     "name": "stdout",
     "output_type": "stream",
     "text": [
      "['first', 'time', 'see', 'second', 'renaiss', 'may', 'look', 'bore', 'look', 'least', 'twice', 'definit', 'watch', 'part', '2', 'chang', 'view', 'matrix', 'human', 'peopl', 'one', 'start', 'war', 'ai', 'bad', 'thing']\n"
     ]
    }
   ],
   "source": [
    "from nltk.stem.porter import PorterStemmer\n",
    "\n",
    "# Reduce words to their stems\n",
    "stemmed = [PorterStemmer().stem(w) for w in words]\n",
    "print(stemmed)"
   ]
  },
  {
   "cell_type": "markdown",
   "metadata": {},
   "source": [
    "### Lemmatization"
   ]
  },
  {
   "cell_type": "code",
   "execution_count": 65,
   "metadata": {},
   "outputs": [
    {
     "name": "stdout",
     "output_type": "stream",
     "text": [
      "['first', 'time', 'see', 'second', 'renaissance', 'may', 'look', 'boring', 'look', 'least', 'twice', 'definitely', 'watch', 'part', '2', 'change', 'view', 'matrix', 'human', 'people', 'one', 'started', 'war', 'ai', 'bad', 'thing']\n"
     ]
    }
   ],
   "source": [
    "from nltk.stem.wordnet import WordNetLemmatizer\n",
    "\n",
    "# Reduce words to their root form\n",
    "lemmed = [WordNetLemmatizer().lemmatize(w) for w in words]\n",
    "print(lemmed)"
   ]
  },
  {
   "cell_type": "code",
   "execution_count": 66,
   "metadata": {},
   "outputs": [
    {
     "name": "stdout",
     "output_type": "stream",
     "text": [
      "['first', 'time', 'see', 'second', 'renaissance', 'may', 'look', 'bore', 'look', 'least', 'twice', 'definitely', 'watch', 'part', '2', 'change', 'view', 'matrix', 'human', 'people', 'one', 'start', 'war', 'ai', 'bad', 'thing']\n"
     ]
    }
   ],
   "source": [
    "# Lemmatize verbs by specifying pos\n",
    "lemmed = [WordNetLemmatizer().lemmatize(w, pos='v') for w in lemmed]\n",
    "print(lemmed)"
   ]
  }
 ],
 "metadata": {
  "kernelspec": {
   "display_name": "Python 3",
   "language": "python",
   "name": "python3"
  },
  "language_info": {
   "codemirror_mode": {
    "name": "ipython",
    "version": 3
   },
   "file_extension": ".py",
   "mimetype": "text/x-python",
   "name": "python",
   "nbconvert_exporter": "python",
   "pygments_lexer": "ipython3",
   "version": "3.6.3"
  }
 },
 "nbformat": 4,
 "nbformat_minor": 2
}
